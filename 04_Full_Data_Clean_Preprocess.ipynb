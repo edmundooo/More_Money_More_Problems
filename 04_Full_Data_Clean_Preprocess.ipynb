{
 "cells": [
  {
   "cell_type": "markdown",
   "metadata": {},
   "source": [
    "__Subject:__ Topics of Tweets of US Congress through the Lens of Campaign Finance\n",
    "\n",
    "__Date:__ 09/10/2018\n",
    "\n",
    "__Name:__ Edmund D. Chitwood\n",
    "***"
   ]
  },
  {
   "cell_type": "markdown",
   "metadata": {},
   "source": [
    "__Summary:__<br>\n",
    "<br>The following Notebook \n",
    "- reads Tweets of all Congress Members into a Pandas DataFrame,\n",
    "- performs EDA,\n",
    "- cleans them,\n",
    "- preprocceses them in preparation for topic modeling."
   ]
  },
  {
   "cell_type": "markdown",
   "metadata": {},
   "source": [
    "# Read in Data and EDA"
   ]
  },
  {
   "cell_type": "code",
   "execution_count": 1,
   "metadata": {},
   "outputs": [],
   "source": [
    "import pandas as pd\n",
    "import nltk\n",
    "import pickle"
   ]
  },
  {
   "cell_type": "code",
   "execution_count": 2,
   "metadata": {},
   "outputs": [],
   "source": [
    "tweets = pd.read_pickle('congress_tweets.pkl')"
   ]
  },
  {
   "cell_type": "code",
   "execution_count": 7,
   "metadata": {},
   "outputs": [
    {
     "data": {
      "text/plain": [
       "(1852507, 9)"
      ]
     },
     "execution_count": 7,
     "metadata": {},
     "output_type": "execute_result"
    }
   ],
   "source": [
    "# Dataset includes 1.8 million Tweets\n",
    "tweets.shape"
   ]
  },
  {
   "cell_type": "code",
   "execution_count": 8,
   "metadata": {},
   "outputs": [
    {
     "data": {
      "text/html": [
       "<div>\n",
       "<style scoped>\n",
       "    .dataframe tbody tr th:only-of-type {\n",
       "        vertical-align: middle;\n",
       "    }\n",
       "\n",
       "    .dataframe tbody tr th {\n",
       "        vertical-align: top;\n",
       "    }\n",
       "\n",
       "    .dataframe thead th {\n",
       "        text-align: right;\n",
       "    }\n",
       "</style>\n",
       "<table border=\"1\" class=\"dataframe\">\n",
       "  <thead>\n",
       "    <tr style=\"text-align: right;\">\n",
       "      <th></th>\n",
       "      <th>retweets</th>\n",
       "      <th>favorites</th>\n",
       "      <th>id</th>\n",
       "    </tr>\n",
       "  </thead>\n",
       "  <tbody>\n",
       "    <tr>\n",
       "      <th>count</th>\n",
       "      <td>1.852507e+06</td>\n",
       "      <td>1.852507e+06</td>\n",
       "      <td>1.852507e+06</td>\n",
       "    </tr>\n",
       "    <tr>\n",
       "      <th>mean</th>\n",
       "      <td>7.488233e+01</td>\n",
       "      <td>1.814578e+02</td>\n",
       "      <td>6.145035e+17</td>\n",
       "    </tr>\n",
       "    <tr>\n",
       "      <th>std</th>\n",
       "      <td>9.643075e+02</td>\n",
       "      <td>2.401487e+03</td>\n",
       "      <td>2.937498e+17</td>\n",
       "    </tr>\n",
       "    <tr>\n",
       "      <th>min</th>\n",
       "      <td>0.000000e+00</td>\n",
       "      <td>0.000000e+00</td>\n",
       "      <td>4.452310e+08</td>\n",
       "    </tr>\n",
       "    <tr>\n",
       "      <th>25%</th>\n",
       "      <td>1.000000e+00</td>\n",
       "      <td>0.000000e+00</td>\n",
       "      <td>3.901738e+17</td>\n",
       "    </tr>\n",
       "    <tr>\n",
       "      <th>50%</th>\n",
       "      <td>3.000000e+00</td>\n",
       "      <td>3.000000e+00</td>\n",
       "      <td>6.601509e+17</td>\n",
       "    </tr>\n",
       "    <tr>\n",
       "      <th>75%</th>\n",
       "      <td>1.000000e+01</td>\n",
       "      <td>1.700000e+01</td>\n",
       "      <td>8.681510e+17</td>\n",
       "    </tr>\n",
       "    <tr>\n",
       "      <th>max</th>\n",
       "      <td>4.369710e+05</td>\n",
       "      <td>9.486740e+05</td>\n",
       "      <td>1.038613e+18</td>\n",
       "    </tr>\n",
       "  </tbody>\n",
       "</table>\n",
       "</div>"
      ],
      "text/plain": [
       "           retweets     favorites            id\n",
       "count  1.852507e+06  1.852507e+06  1.852507e+06\n",
       "mean   7.488233e+01  1.814578e+02  6.145035e+17\n",
       "std    9.643075e+02  2.401487e+03  2.937498e+17\n",
       "min    0.000000e+00  0.000000e+00  4.452310e+08\n",
       "25%    1.000000e+00  0.000000e+00  3.901738e+17\n",
       "50%    3.000000e+00  3.000000e+00  6.601509e+17\n",
       "75%    1.000000e+01  1.700000e+01  8.681510e+17\n",
       "max    4.369710e+05  9.486740e+05  1.038613e+18"
      ]
     },
     "execution_count": 8,
     "metadata": {},
     "output_type": "execute_result"
    }
   ],
   "source": [
    "tweets.describe()"
   ]
  },
  {
   "cell_type": "code",
   "execution_count": 9,
   "metadata": {},
   "outputs": [
    {
     "name": "stdout",
     "output_type": "stream",
     "text": [
      "<class 'pandas.core.frame.DataFrame'>\n",
      "Int64Index: 1852507 entries, 0 to 8768\n",
      "Data columns (total 9 columns):\n",
      "username     object\n",
      "date         object\n",
      "retweets     int64\n",
      "favorites    int64\n",
      "text         object\n",
      "mentions     object\n",
      "hashtags     object\n",
      "id           int64\n",
      "permalink    object\n",
      "dtypes: int64(3), object(6)\n",
      "memory usage: 141.3+ MB\n"
     ]
    }
   ],
   "source": [
    "tweets.info()"
   ]
  },
  {
   "cell_type": "code",
   "execution_count": 10,
   "metadata": {},
   "outputs": [
    {
     "name": "stdout",
     "output_type": "stream",
     "text": [
      "Thx @marklevinshow https:// twitter.com/foxnews/status /970503582595338240 … \n",
      "\n",
      "Looking forward to being with @marklevinshow on his new Fox News show! Much better than Oscars! https:// twitter.com/marklevinshow/ status/970471715930345473 … \n",
      "\n",
      "My daughter sees @TuckerCarlson report on TV saying California is becoming 3rd world and asks me why. I tell her CA has highest taxes in USA that make it hard for people to afford to live here. She responds “Don’t you get paid to fix it?” \n",
      "\n",
      "Congrats! Media hacks win award for Fakenews! https://www. washingtontimes.com/news/2018/mar/ 1/fbi-debunked-russia-trump-story-helped-new-york-ti/ … \n",
      "\n",
      "Must read by @NRO ...nothing more needs to be said unless you’re a Russian Bot... https://www. nationalreview.com/2018/02/schiff -memo-russia-investigation-harms-democrats-more-than-helps-them/ … \n",
      "\n"
     ]
    }
   ],
   "source": [
    "for tweet in tweets['text'][100000:100005]:\n",
    "    print(tweet, '\\n')"
   ]
  },
  {
   "cell_type": "code",
   "execution_count": 11,
   "metadata": {},
   "outputs": [
    {
     "name": "stdout",
     "output_type": "stream",
     "text": [
      "DevinNunes \n",
      "\n",
      "DevinNunes \n",
      "\n",
      "DevinNunes \n",
      "\n",
      "DevinNunes \n",
      "\n",
      "DevinNunes \n",
      "\n"
     ]
    }
   ],
   "source": [
    "for tweet in tweets['username'][100000:100005]:\n",
    "    print(tweet, '\\n')"
   ]
  },
  {
   "cell_type": "code",
   "execution_count": 12,
   "metadata": {},
   "outputs": [],
   "source": [
    "# Convert Tweet objects to strings\n",
    "tweets['text']  = tweets['text'].apply(lambda x: str(x)) "
   ]
  },
  {
   "cell_type": "code",
   "execution_count": 13,
   "metadata": {},
   "outputs": [],
   "source": [
    "# Get number of characters in each Tweet\n",
    "tweets['length'] = tweets['text'].apply( lambda x: len(x))"
   ]
  },
  {
   "cell_type": "code",
   "execution_count": 14,
   "metadata": {},
   "outputs": [
    {
     "data": {
      "text/html": [
       "<div>\n",
       "<style scoped>\n",
       "    .dataframe tbody tr th:only-of-type {\n",
       "        vertical-align: middle;\n",
       "    }\n",
       "\n",
       "    .dataframe tbody tr th {\n",
       "        vertical-align: top;\n",
       "    }\n",
       "\n",
       "    .dataframe thead th {\n",
       "        text-align: right;\n",
       "    }\n",
       "</style>\n",
       "<table border=\"1\" class=\"dataframe\">\n",
       "  <thead>\n",
       "    <tr style=\"text-align: right;\">\n",
       "      <th></th>\n",
       "      <th>retweets</th>\n",
       "      <th>favorites</th>\n",
       "      <th>id</th>\n",
       "      <th>length</th>\n",
       "    </tr>\n",
       "  </thead>\n",
       "  <tbody>\n",
       "    <tr>\n",
       "      <th>count</th>\n",
       "      <td>1.852507e+06</td>\n",
       "      <td>1.852507e+06</td>\n",
       "      <td>1.852507e+06</td>\n",
       "      <td>1.852507e+06</td>\n",
       "    </tr>\n",
       "    <tr>\n",
       "      <th>mean</th>\n",
       "      <td>7.488233e+01</td>\n",
       "      <td>1.814578e+02</td>\n",
       "      <td>6.145035e+17</td>\n",
       "      <td>1.483871e+02</td>\n",
       "    </tr>\n",
       "    <tr>\n",
       "      <th>std</th>\n",
       "      <td>9.643075e+02</td>\n",
       "      <td>2.401487e+03</td>\n",
       "      <td>2.937498e+17</td>\n",
       "      <td>5.893152e+01</td>\n",
       "    </tr>\n",
       "    <tr>\n",
       "      <th>min</th>\n",
       "      <td>0.000000e+00</td>\n",
       "      <td>0.000000e+00</td>\n",
       "      <td>4.452310e+08</td>\n",
       "      <td>1.000000e+00</td>\n",
       "    </tr>\n",
       "    <tr>\n",
       "      <th>25%</th>\n",
       "      <td>1.000000e+00</td>\n",
       "      <td>0.000000e+00</td>\n",
       "      <td>3.901738e+17</td>\n",
       "      <td>1.190000e+02</td>\n",
       "    </tr>\n",
       "    <tr>\n",
       "      <th>50%</th>\n",
       "      <td>3.000000e+00</td>\n",
       "      <td>3.000000e+00</td>\n",
       "      <td>6.601509e+17</td>\n",
       "      <td>1.380000e+02</td>\n",
       "    </tr>\n",
       "    <tr>\n",
       "      <th>75%</th>\n",
       "      <td>1.000000e+01</td>\n",
       "      <td>1.700000e+01</td>\n",
       "      <td>8.681510e+17</td>\n",
       "      <td>1.640000e+02</td>\n",
       "    </tr>\n",
       "    <tr>\n",
       "      <th>max</th>\n",
       "      <td>4.369710e+05</td>\n",
       "      <td>9.486740e+05</td>\n",
       "      <td>1.038613e+18</td>\n",
       "      <td>1.254000e+03</td>\n",
       "    </tr>\n",
       "  </tbody>\n",
       "</table>\n",
       "</div>"
      ],
      "text/plain": [
       "           retweets     favorites            id        length\n",
       "count  1.852507e+06  1.852507e+06  1.852507e+06  1.852507e+06\n",
       "mean   7.488233e+01  1.814578e+02  6.145035e+17  1.483871e+02\n",
       "std    9.643075e+02  2.401487e+03  2.937498e+17  5.893152e+01\n",
       "min    0.000000e+00  0.000000e+00  4.452310e+08  1.000000e+00\n",
       "25%    1.000000e+00  0.000000e+00  3.901738e+17  1.190000e+02\n",
       "50%    3.000000e+00  3.000000e+00  6.601509e+17  1.380000e+02\n",
       "75%    1.000000e+01  1.700000e+01  8.681510e+17  1.640000e+02\n",
       "max    4.369710e+05  9.486740e+05  1.038613e+18  1.254000e+03"
      ]
     },
     "execution_count": 14,
     "metadata": {},
     "output_type": "execute_result"
    }
   ],
   "source": [
    "tweets.describe()"
   ]
  },
  {
   "cell_type": "code",
   "execution_count": 16,
   "metadata": {},
   "outputs": [
    {
     "data": {
      "image/png": "[encoded data removed]",
      "text/plain": [
       "<Figure size 432x288 with 1 Axes>"
      ]
     },
     "metadata": {
      "needs_background": "light"
     },
     "output_type": "display_data"
    }
   ],
   "source": [
    "# Import seaborn for data visualization\n",
    "import matplotlib.pyplot as plt\n",
    "import seaborn as sns\n",
    "sns.set()\n",
    "\n",
    "%matplotlib inline\n",
    "\n",
    "# Create a histogram of all Tweet lengths\n",
    "ax = tweets.length.hist(bins=20)\n",
    "ax.set(xlabel='Tweet Length', ylabel='Frequency', \n",
    "       title='Distribution of Tweet Length by Char');"
   ]
  },
  {
   "cell_type": "code",
   "execution_count": 18,
   "metadata": {},
   "outputs": [
    {
     "data": {
      "text/plain": [
       "1357    X\n",
       "4116    E\n",
       "5811    z\n",
       "1504    #\n",
       "5551    Q\n",
       "Name: text, dtype: object"
      ]
     },
     "execution_count": 18,
     "metadata": {},
     "output_type": "execute_result"
    }
   ],
   "source": [
    "# Shortest tweets are single chars\n",
    "tweets.sort_values(by='length',ascending=True).iloc[0:5]['text']"
   ]
  },
  {
   "cell_type": "code",
   "execution_count": 17,
   "metadata": {},
   "outputs": [
    {
     "data": {
      "text/plain": [
       "'https://twitter.com/PeteSessions/status/869267749779808256'"
      ]
     },
     "execution_count": 17,
     "metadata": {},
     "output_type": "execute_result"
    }
   ],
   "source": [
    "# Tweets are accessible via permalinks\n",
    "tweets.sort_values(by='length',ascending=False).iloc[1]['permalink']"
   ]
  },
  {
   "cell_type": "code",
   "execution_count": 20,
   "metadata": {},
   "outputs": [
    {
     "data": {
      "text/plain": [
       "'President Trump, you made a big mistake. By trying to divide us up by race, religion, gender and nationality you actually brought us closer. pic.twitter.com/U7deCCTFx9'"
      ]
     },
     "execution_count": 20,
     "metadata": {},
     "output_type": "execute_result"
    }
   ],
   "source": [
    "# Most Retweeted Tweet is by Senator Bernie Sanders\n",
    "tweets.sort_values(by='retweets',ascending=False).iloc[0]['text']"
   ]
  },
  {
   "cell_type": "markdown",
   "metadata": {},
   "source": [
    "#  Data Cleaning"
   ]
  },
  {
   "cell_type": "code",
   "execution_count": 21,
   "metadata": {},
   "outputs": [],
   "source": [
    "# Drop tweets that are too short and may not contain much meaning\n",
    "tweets.drop(tweets[tweets['length']<20].index, inplace=True)\n"
   ]
  },
  {
   "cell_type": "code",
   "execution_count": 22,
   "metadata": {},
   "outputs": [],
   "source": [
    "from datetime import datetime\n",
    "from dateutil.parser import parse\n",
    "import pandas as pd\n"
   ]
  },
  {
   "cell_type": "code",
   "execution_count": 23,
   "metadata": {},
   "outputs": [],
   "source": [
    "# Parse date strings\n",
    "tweets.date = tweets.date.apply(lambda x : pd.to_datetime(parse(x)))"
   ]
  },
  {
   "cell_type": "code",
   "execution_count": 24,
   "metadata": {},
   "outputs": [],
   "source": [
    "tweets['year'] = tweets.date.apply(lambda x: x.year)"
   ]
  },
  {
   "cell_type": "code",
   "execution_count": 25,
   "metadata": {},
   "outputs": [
    {
     "data": {
      "text/plain": [
       "2013    118846\n",
       "2015    114652\n",
       "2017    112912\n",
       "2014    107984\n",
       "2016    100778\n",
       "2012     77780\n",
       "2011     70979\n",
       "2018     59708\n",
       "2010     30139\n",
       "2009     14775\n",
       "2008       439\n",
       "2007         2\n",
       "Name: year, dtype: int64"
      ]
     },
     "execution_count": 25,
     "metadata": {},
     "output_type": "execute_result"
    }
   ],
   "source": [
    "# Dataset includes Tweets from every year, dating back to 2007\n",
    "tweets.year.value_counts()"
   ]
  },
  {
   "cell_type": "markdown",
   "metadata": {},
   "source": [
    "# Natural Language Processing"
   ]
  },
  {
   "cell_type": "code",
   "execution_count": 12,
   "metadata": {},
   "outputs": [
    {
     "name": "stdout",
     "output_type": "stream",
     "text": [
      "[nltk_data] Downloading package punkt to /home/ubuntu/nltk_data...\n",
      "[nltk_data]   Package punkt is already up-to-date!\n"
     ]
    },
    {
     "data": {
      "text/plain": [
       "True"
      ]
     },
     "execution_count": 12,
     "metadata": {},
     "output_type": "execute_result"
    }
   ],
   "source": [
    "nltk.download('punkt')"
   ]
  },
  {
   "cell_type": "code",
   "execution_count": 37,
   "metadata": {},
   "outputs": [],
   "source": [
    "# add custom stop words\n",
    "more_stops =(['ive', 'isnt', 'theres', 'doesnt', 'wont', 'im', \\\n",
    "              'dont','youre', 'weve',  'theyre', 'around', 'thats',\\\n",
    "              'heres','hasnt','cant','sanderssenategovnewsroomnewsw'])             "
   ]
  },
  {
   "cell_type": "code",
   "execution_count": 47,
   "metadata": {},
   "outputs": [],
   "source": [
    "from nltk.tokenize import word_tokenize\n",
    "from nltk.corpus import stopwords\n",
    "from nltk.stem import PorterStemmer\n",
    "import string\n",
    "import re\n",
    "\n",
    "def custom_tokenizer(text):\n",
    "    \n",
    "    # remove urls\n",
    "    text = re.sub(r'http[s]?\\:\\/\\/[\\S\\s]\\S+', '', text)\n",
    "\n",
    "    # remove mentions (@username)\n",
    "    text = re.sub(r'\\@[a-zA-Z1-9]+', '', text)\n",
    "    \n",
    "    # remove hashtags (#tag)\n",
    "    text = re.sub(r'\\#[a-zA-Z1-9]+', '', text)\n",
    "\n",
    "    # remove punctuation\n",
    "    full_punc = '’‘“”.–…�★➠—' + string.punctuation\n",
    "    remove_punct = str.maketrans('', '', full_punc)\n",
    "    text = text.translate(remove_punct)\n",
    "\n",
    "\n",
    "    # remove digits and convert to lower case\n",
    "    remove_digits = str.maketrans('', '', string.digits)\n",
    "    text = text.lower().translate(remove_digits)\n",
    "\n",
    "    # tokenize\n",
    "    tokens = word_tokenize(text)\n",
    "\n",
    "    # remove stop words\n",
    "    stop_words = stopwords.words('english')\n",
    "    stop_words = stop_words + more_stops\n",
    "    tokens_stop = [y for y in tokens if y not in stop_words]\n",
    "\n",
    "    # stem\n",
    "    stemmer = nltk.stem.porter.PorterStemmer(mode='NLTK_EXTENSIONS')\n",
    "    tokens_stem = [stemmer.stem(y) for y in tokens_stop] \n",
    "\n",
    "    return tokens_stem"
   ]
  },
  {
   "cell_type": "code",
   "execution_count": 48,
   "metadata": {},
   "outputs": [],
   "source": [
    "tweets['tokens'] = tweets.text.apply(lambda x :custom_tokenizer(x))"
   ]
  },
  {
   "cell_type": "code",
   "execution_count": 49,
   "metadata": {},
   "outputs": [
    {
     "name": "stdout",
     "output_type": "stream",
     "text": [
      "On this day, we celebrate the ability of American women to participate freely in public life, but the fight for full equality hasn't ended. \n",
      "\n",
      "The Sunshine State needs a governor with real-world experience who can get the state’s economy back on track. Alex Sink is that leader. \n",
      "\n",
      "Kendrick Meek waged a fierce campaign on behalf of all Floridians. I congratulate him on this win and look forward to working with him. \n",
      "\n",
      "I served as a missionary in a country without voting rights—an experience that taught me to cherish the right to vote. #whyivote \n",
      "\n",
      "Voting is the right that safeguards all of our other rights. #whyivote \n",
      "\n"
     ]
    }
   ],
   "source": [
    "# Compare full Tweets to preprocessed Tweets\n",
    "for tweet in tweets['text'][len(tweets)-5:len(tweets)]:\n",
    "    print(tweet, '\\n')"
   ]
  },
  {
   "cell_type": "code",
   "execution_count": 50,
   "metadata": {},
   "outputs": [
    {
     "name": "stdout",
     "output_type": "stream",
     "text": [
      "['day', 'celebr', 'abil', 'american', 'women', 'particip', 'freeli', 'public', 'life', 'fight', 'full', 'equal', 'end'] \n",
      "\n",
      "['sunshin', 'state', 'need', 'governor', 'realworld', 'experi', 'get', 'state', 'economi', 'back', 'track', 'alex', 'sink', 'leader'] \n",
      "\n",
      "['kendrick', 'meek', 'wage', 'fierc', 'campaign', 'behalf', 'floridian', 'congratul', 'win', 'look', 'forward', 'work'] \n",
      "\n",
      "['serv', 'missionari', 'countri', 'without', 'vote', 'rightsan', 'experi', 'taught', 'cherish', 'right', 'vote'] \n",
      "\n",
      "['vote', 'right', 'safeguard', 'right'] \n",
      "\n"
     ]
    }
   ],
   "source": [
    "for tweet in tweets['tokens'][len(tweets)-5:len(tweets)]:\n",
    "    print(tweet, '\\n')"
   ]
  },
  {
   "cell_type": "code",
   "execution_count": 51,
   "metadata": {},
   "outputs": [
    {
     "data": {
      "text/html": [
       "<div>\n",
       "<style scoped>\n",
       "    .dataframe tbody tr th:only-of-type {\n",
       "        vertical-align: middle;\n",
       "    }\n",
       "\n",
       "    .dataframe tbody tr th {\n",
       "        vertical-align: top;\n",
       "    }\n",
       "\n",
       "    .dataframe thead th {\n",
       "        text-align: right;\n",
       "    }\n",
       "</style>\n",
       "<table border=\"1\" class=\"dataframe\">\n",
       "  <thead>\n",
       "    <tr style=\"text-align: right;\">\n",
       "      <th></th>\n",
       "      <th>username</th>\n",
       "      <th>date</th>\n",
       "      <th>retweets</th>\n",
       "      <th>favorites</th>\n",
       "      <th>text</th>\n",
       "      <th>mentions</th>\n",
       "      <th>hashtags</th>\n",
       "      <th>id</th>\n",
       "      <th>permalink</th>\n",
       "      <th>length</th>\n",
       "      <th>year</th>\n",
       "      <th>tokens</th>\n",
       "    </tr>\n",
       "  </thead>\n",
       "  <tbody>\n",
       "    <tr>\n",
       "      <th>0</th>\n",
       "      <td>AnthonyBrownMD4</td>\n",
       "      <td>2018-09-07 17:31:08</td>\n",
       "      <td>6</td>\n",
       "      <td>12</td>\n",
       "      <td>Last night, @realDonaldTrump attacked Maryland...</td>\n",
       "      <td>@realDonaldTrump @BenJealous</td>\n",
       "      <td>#Dreamers</td>\n",
       "      <td>1038117477622992900</td>\n",
       "      <td>https://twitter.com/AnthonyBrownMD4/status/103...</td>\n",
       "      <td>299</td>\n",
       "      <td>2018</td>\n",
       "      <td>[last, night, attack, maryland, valu, go, immi...</td>\n",
       "    </tr>\n",
       "    <tr>\n",
       "      <th>2</th>\n",
       "      <td>AnthonyBrownMD4</td>\n",
       "      <td>2018-08-19 18:29:15</td>\n",
       "      <td>1</td>\n",
       "      <td>3</td>\n",
       "      <td>The Maryland 4th Congressional District Office...</td>\n",
       "      <td>NaN</td>\n",
       "      <td>NaN</td>\n",
       "      <td>1031246733114662912</td>\n",
       "      <td>https://twitter.com/AnthonyBrownMD4/status/103...</td>\n",
       "      <td>301</td>\n",
       "      <td>2018</td>\n",
       "      <td>[maryland, th, congression, district, offic, s...</td>\n",
       "    </tr>\n",
       "    <tr>\n",
       "      <th>3</th>\n",
       "      <td>AnthonyBrownMD4</td>\n",
       "      <td>2018-05-23 18:11:56</td>\n",
       "      <td>1</td>\n",
       "      <td>1</td>\n",
       "      <td>Congratulations @AmyMcGrathKY</td>\n",
       "      <td>@AmyMcGrathKY</td>\n",
       "      <td>NaN</td>\n",
       "      <td>999352242829438983</td>\n",
       "      <td>https://twitter.com/AnthonyBrownMD4/status/999...</td>\n",
       "      <td>29</td>\n",
       "      <td>2018</td>\n",
       "      <td>[congratul]</td>\n",
       "    </tr>\n",
       "    <tr>\n",
       "      <th>6</th>\n",
       "      <td>AnthonyBrownMD4</td>\n",
       "      <td>2018-04-14 12:29:37</td>\n",
       "      <td>3</td>\n",
       "      <td>11</td>\n",
       "      <td>Mission Accomplished? Not so easy Mr. Presiden...</td>\n",
       "      <td>NaN</td>\n",
       "      <td>NaN</td>\n",
       "      <td>985132970746044416</td>\n",
       "      <td>https://twitter.com/AnthonyBrownMD4/status/985...</td>\n",
       "      <td>279</td>\n",
       "      <td>2018</td>\n",
       "      <td>[mission, accomplish, easi, mr, presid, missio...</td>\n",
       "    </tr>\n",
       "    <tr>\n",
       "      <th>8</th>\n",
       "      <td>AnthonyBrownMD4</td>\n",
       "      <td>2018-03-17 03:46:08</td>\n",
       "      <td>4</td>\n",
       "      <td>23</td>\n",
       "      <td>First 16th seed men’s basketball team to beat ...</td>\n",
       "      <td>NaN</td>\n",
       "      <td>#1</td>\n",
       "      <td>974854369169563648</td>\n",
       "      <td>https://twitter.com/AnthonyBrownMD4/status/974...</td>\n",
       "      <td>93</td>\n",
       "      <td>2018</td>\n",
       "      <td>[first, th, seed, men, basketbal, team, beat, ...</td>\n",
       "    </tr>\n",
       "  </tbody>\n",
       "</table>\n",
       "</div>"
      ],
      "text/plain": [
       "          username                date  retweets  favorites  \\\n",
       "0  AnthonyBrownMD4 2018-09-07 17:31:08         6         12   \n",
       "2  AnthonyBrownMD4 2018-08-19 18:29:15         1          3   \n",
       "3  AnthonyBrownMD4 2018-05-23 18:11:56         1          1   \n",
       "6  AnthonyBrownMD4 2018-04-14 12:29:37         3         11   \n",
       "8  AnthonyBrownMD4 2018-03-17 03:46:08         4         23   \n",
       "\n",
       "                                                text  \\\n",
       "0  Last night, @realDonaldTrump attacked Maryland...   \n",
       "2  The Maryland 4th Congressional District Office...   \n",
       "3                      Congratulations @AmyMcGrathKY   \n",
       "6  Mission Accomplished? Not so easy Mr. Presiden...   \n",
       "8  First 16th seed men’s basketball team to beat ...   \n",
       "\n",
       "                       mentions   hashtags                   id  \\\n",
       "0  @realDonaldTrump @BenJealous  #Dreamers  1038117477622992900   \n",
       "2                           NaN        NaN  1031246733114662912   \n",
       "3                 @AmyMcGrathKY        NaN   999352242829438983   \n",
       "6                           NaN        NaN   985132970746044416   \n",
       "8                           NaN         #1   974854369169563648   \n",
       "\n",
       "                                           permalink  length  year  \\\n",
       "0  https://twitter.com/AnthonyBrownMD4/status/103...     299  2018   \n",
       "2  https://twitter.com/AnthonyBrownMD4/status/103...     301  2018   \n",
       "3  https://twitter.com/AnthonyBrownMD4/status/999...      29  2018   \n",
       "6  https://twitter.com/AnthonyBrownMD4/status/985...     279  2018   \n",
       "8  https://twitter.com/AnthonyBrownMD4/status/974...      93  2018   \n",
       "\n",
       "                                              tokens  \n",
       "0  [last, night, attack, maryland, valu, go, immi...  \n",
       "2  [maryland, th, congression, district, offic, s...  \n",
       "3                                        [congratul]  \n",
       "6  [mission, accomplish, easi, mr, presid, missio...  \n",
       "8  [first, th, seed, men, basketbal, team, beat, ...  "
      ]
     },
     "execution_count": 51,
     "metadata": {},
     "output_type": "execute_result"
    }
   ],
   "source": [
    "tweets.head()"
   ]
  },
  {
   "cell_type": "code",
   "execution_count": 52,
   "metadata": {},
   "outputs": [],
   "source": [
    "# Join stems to create strings to be used with Count Vectorizer\n",
    "tweets['clean_text'] = tweets.tokens.apply(lambda x: ' '.join(x))"
   ]
  },
  {
   "cell_type": "code",
   "execution_count": 54,
   "metadata": {},
   "outputs": [],
   "source": [
    "tweets.to_pickle('preprocessed_tweets.pkl')"
   ]
  },
  {
   "cell_type": "code",
   "execution_count": null,
   "metadata": {},
   "outputs": [],
   "source": []
  }
 ],
 "metadata": {
  "kernelspec": {
   "display_name": "Python 3",
   "language": "python",
   "name": "python3"
  },
  "language_info": {
   "codemirror_mode": {
    "name": "ipython",
    "version": 3
   },
   "file_extension": ".py",
   "mimetype": "text/x-python",
   "name": "python",
   "nbconvert_exporter": "python",
   "pygments_lexer": "ipython3",
   "version": "3.6.6"
  }
 },
 "nbformat": 4,
 "nbformat_minor": 2
}

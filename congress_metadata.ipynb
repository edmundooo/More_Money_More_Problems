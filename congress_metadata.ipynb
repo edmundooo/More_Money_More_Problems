{
 "cells": [
  {
   "cell_type": "markdown",
   "metadata": {},
   "source": [
    "__Subject:__ Topics of Tweets of US Congress through the Lens of Campaign Finance\n",
    "\n",
    "__Date:__ 09/12/2018\n",
    "\n",
    "__Author:__ Edmund D. Chitwood\n",
    "***"
   ]
  },
  {
   "cell_type": "markdown",
   "metadata": {},
   "source": [
    "__Summary:__<br>\n",
    "<br>The following Notebook\n",
    "- downloads metadata for each Congress member,\n",
    "- resolves discrepancies between the Twitter usernames listed in the Congress metadata and Tweet data.\n",
    "***"
   ]
  },
  {
   "cell_type": "code",
   "execution_count": 34,
   "metadata": {},
   "outputs": [],
   "source": [
    "import pandas as pd\n",
    "import pickle"
   ]
  },
  {
   "cell_type": "code",
   "execution_count": 35,
   "metadata": {},
   "outputs": [],
   "source": [
    "# Download CSV file that contains geographic, party, social media, etc. data\n",
    "# about members of the US Congress. Source:\n",
    "# https://theunitedstates.io/congress-legislators/legislators-current.csv"
   ]
  },
  {
   "cell_type": "code",
   "execution_count": 44,
   "metadata": {},
   "outputs": [
    {
     "data": {
      "text/plain": [
       "Index(['last_name', 'first_name', 'birthday', 'gender', 'type', 'state',\n",
       "       'district', 'senate_class', 'party', 'url', 'address', 'phone',\n",
       "       'contact_form', 'rss_url', 'twitter', 'facebook', 'youtube',\n",
       "       'youtube_id', 'bioguide_id', 'thomas_id', 'opensecrets_id', 'lis_id',\n",
       "       'fec_ids', 'cspan_id', 'govtrack_id', 'votesmart_id', 'ballotpedia_id',\n",
       "       'washington_post_id', 'icpsr_id', 'wikipedia_id'],\n",
       "      dtype='object')"
      ]
     },
     "execution_count": 44,
     "metadata": {},
     "output_type": "execute_result"
    }
   ],
   "source": [
    "congress_metadata = pd.read_csv('legislators-current.csv')\n",
    "congress_metadata.columns"
   ]
  },
  {
   "cell_type": "code",
   "execution_count": 45,
   "metadata": {},
   "outputs": [],
   "source": [
    "# Indicate Congress members for whom no Twitter username was listed\n",
    "congress_metadata.twitter.fillna(value='no twitter',inplace=True)"
   ]
  },
  {
   "cell_type": "code",
   "execution_count": 53,
   "metadata": {},
   "outputs": [
    {
     "data": {
      "text/html": [
       "<div>\n",
       "<style scoped>\n",
       "    .dataframe tbody tr th:only-of-type {\n",
       "        vertical-align: middle;\n",
       "    }\n",
       "\n",
       "    .dataframe tbody tr th {\n",
       "        vertical-align: top;\n",
       "    }\n",
       "\n",
       "    .dataframe thead th {\n",
       "        text-align: right;\n",
       "    }\n",
       "</style>\n",
       "<table border=\"1\" class=\"dataframe\">\n",
       "  <thead>\n",
       "    <tr style=\"text-align: right;\">\n",
       "      <th></th>\n",
       "      <th>last_name</th>\n",
       "      <th>first_name</th>\n",
       "      <th>birthday</th>\n",
       "      <th>gender</th>\n",
       "      <th>type</th>\n",
       "      <th>state</th>\n",
       "      <th>district</th>\n",
       "      <th>senate_class</th>\n",
       "      <th>party</th>\n",
       "      <th>url</th>\n",
       "      <th>...</th>\n",
       "      <th>opensecrets_id</th>\n",
       "      <th>lis_id</th>\n",
       "      <th>fec_ids</th>\n",
       "      <th>cspan_id</th>\n",
       "      <th>govtrack_id</th>\n",
       "      <th>votesmart_id</th>\n",
       "      <th>ballotpedia_id</th>\n",
       "      <th>washington_post_id</th>\n",
       "      <th>icpsr_id</th>\n",
       "      <th>wikipedia_id</th>\n",
       "    </tr>\n",
       "  </thead>\n",
       "  <tbody>\n",
       "    <tr>\n",
       "      <th>37</th>\n",
       "      <td>Amash</td>\n",
       "      <td>Justin</td>\n",
       "      <td>1980-04-18</td>\n",
       "      <td>M</td>\n",
       "      <td>rep</td>\n",
       "      <td>MI</td>\n",
       "      <td>3.0</td>\n",
       "      <td>NaN</td>\n",
       "      <td>Republican</td>\n",
       "      <td>https://amash.house.gov</td>\n",
       "      <td>...</td>\n",
       "      <td>N00031938</td>\n",
       "      <td>NaN</td>\n",
       "      <td>H0MI03126</td>\n",
       "      <td>1033767.0</td>\n",
       "      <td>412438</td>\n",
       "      <td>105566.0</td>\n",
       "      <td>Justin Amash</td>\n",
       "      <td>NaN</td>\n",
       "      <td>21143.0</td>\n",
       "      <td>Justin Amash</td>\n",
       "    </tr>\n",
       "    <tr>\n",
       "      <th>52</th>\n",
       "      <td>Bordallo</td>\n",
       "      <td>Madeleine</td>\n",
       "      <td>1933-05-31</td>\n",
       "      <td>F</td>\n",
       "      <td>rep</td>\n",
       "      <td>GU</td>\n",
       "      <td>0.0</td>\n",
       "      <td>NaN</td>\n",
       "      <td>Democrat</td>\n",
       "      <td>https://bordallo.house.gov</td>\n",
       "      <td>...</td>\n",
       "      <td>N00024866</td>\n",
       "      <td>NaN</td>\n",
       "      <td>H2GU00033</td>\n",
       "      <td>1003568.0</td>\n",
       "      <td>400041</td>\n",
       "      <td>1751.0</td>\n",
       "      <td>NaN</td>\n",
       "      <td>NaN</td>\n",
       "      <td>NaN</td>\n",
       "      <td>Madeleine Bordallo</td>\n",
       "    </tr>\n",
       "    <tr>\n",
       "      <th>66</th>\n",
       "      <td>Cassidy</td>\n",
       "      <td>Bill</td>\n",
       "      <td>1957-09-28</td>\n",
       "      <td>M</td>\n",
       "      <td>sen</td>\n",
       "      <td>LA</td>\n",
       "      <td>NaN</td>\n",
       "      <td>2.0</td>\n",
       "      <td>Republican</td>\n",
       "      <td>https://www.cassidy.senate.gov</td>\n",
       "      <td>...</td>\n",
       "      <td>N00030245</td>\n",
       "      <td>S373</td>\n",
       "      <td>H8LA00017,S4LA00107</td>\n",
       "      <td>1030546.0</td>\n",
       "      <td>412269</td>\n",
       "      <td>69494.0</td>\n",
       "      <td>Bill Cassidy</td>\n",
       "      <td>NaN</td>\n",
       "      <td>20919.0</td>\n",
       "      <td>Bill Cassidy</td>\n",
       "    </tr>\n",
       "    <tr>\n",
       "      <th>72</th>\n",
       "      <td>Clay</td>\n",
       "      <td>Wm.</td>\n",
       "      <td>1956-07-27</td>\n",
       "      <td>M</td>\n",
       "      <td>rep</td>\n",
       "      <td>MO</td>\n",
       "      <td>1.0</td>\n",
       "      <td>NaN</td>\n",
       "      <td>Democrat</td>\n",
       "      <td>https://lacyclay.house.gov</td>\n",
       "      <td>...</td>\n",
       "      <td>N00012460</td>\n",
       "      <td>NaN</td>\n",
       "      <td>H0MO01066</td>\n",
       "      <td>88332.0</td>\n",
       "      <td>400074</td>\n",
       "      <td>8967.0</td>\n",
       "      <td>William Lacy Clay</td>\n",
       "      <td>NaN</td>\n",
       "      <td>20147.0</td>\n",
       "      <td>Lacy Clay</td>\n",
       "    </tr>\n",
       "    <tr>\n",
       "      <th>223</th>\n",
       "      <td>Peterson</td>\n",
       "      <td>Collin</td>\n",
       "      <td>1944-06-29</td>\n",
       "      <td>M</td>\n",
       "      <td>rep</td>\n",
       "      <td>MN</td>\n",
       "      <td>7.0</td>\n",
       "      <td>NaN</td>\n",
       "      <td>Democrat</td>\n",
       "      <td>https://collinpeterson.house.gov</td>\n",
       "      <td>...</td>\n",
       "      <td>N00004558</td>\n",
       "      <td>NaN</td>\n",
       "      <td>H2MN07014</td>\n",
       "      <td>23978.0</td>\n",
       "      <td>400316</td>\n",
       "      <td>26926.0</td>\n",
       "      <td>Collin Peterson</td>\n",
       "      <td>NaN</td>\n",
       "      <td>29127.0</td>\n",
       "      <td>Collin Peterson</td>\n",
       "    </tr>\n",
       "    <tr>\n",
       "      <th>386</th>\n",
       "      <td>Kaine</td>\n",
       "      <td>Timothy</td>\n",
       "      <td>1958-02-26</td>\n",
       "      <td>M</td>\n",
       "      <td>sen</td>\n",
       "      <td>VA</td>\n",
       "      <td>NaN</td>\n",
       "      <td>1.0</td>\n",
       "      <td>Democrat</td>\n",
       "      <td>https://www.kaine.senate.gov</td>\n",
       "      <td>...</td>\n",
       "      <td>N00033177</td>\n",
       "      <td>S362</td>\n",
       "      <td>S2VA00142</td>\n",
       "      <td>49219.0</td>\n",
       "      <td>412582</td>\n",
       "      <td>50772.0</td>\n",
       "      <td>Tim Kaine</td>\n",
       "      <td>NaN</td>\n",
       "      <td>41305.0</td>\n",
       "      <td>Tim Kaine</td>\n",
       "    </tr>\n",
       "    <tr>\n",
       "      <th>463</th>\n",
       "      <td>Comer</td>\n",
       "      <td>James</td>\n",
       "      <td>1972-08-19</td>\n",
       "      <td>M</td>\n",
       "      <td>rep</td>\n",
       "      <td>KY</td>\n",
       "      <td>1.0</td>\n",
       "      <td>NaN</td>\n",
       "      <td>Republican</td>\n",
       "      <td>https://comer.house.gov</td>\n",
       "      <td>...</td>\n",
       "      <td>N00038260</td>\n",
       "      <td>NaN</td>\n",
       "      <td>H6KY01110</td>\n",
       "      <td>76619.0</td>\n",
       "      <td>412676</td>\n",
       "      <td>35169.0</td>\n",
       "      <td>James Comer Jr.</td>\n",
       "      <td>NaN</td>\n",
       "      <td>21565.0</td>\n",
       "      <td>James Comer (politician)</td>\n",
       "    </tr>\n",
       "    <tr>\n",
       "      <th>523</th>\n",
       "      <td>Gianforte</td>\n",
       "      <td>Greg</td>\n",
       "      <td>1961-04-17</td>\n",
       "      <td>M</td>\n",
       "      <td>rep</td>\n",
       "      <td>MT</td>\n",
       "      <td>0.0</td>\n",
       "      <td>NaN</td>\n",
       "      <td>Republican</td>\n",
       "      <td>https://gianforte.house.gov</td>\n",
       "      <td>...</td>\n",
       "      <td>N00040733</td>\n",
       "      <td>NaN</td>\n",
       "      <td>H8MT01182</td>\n",
       "      <td>104895.0</td>\n",
       "      <td>412736</td>\n",
       "      <td>168594.0</td>\n",
       "      <td>Greg Gianforte</td>\n",
       "      <td>NaN</td>\n",
       "      <td>NaN</td>\n",
       "      <td>Greg Gianforte</td>\n",
       "    </tr>\n",
       "    <tr>\n",
       "      <th>533</th>\n",
       "      <td>Cloud</td>\n",
       "      <td>Michael</td>\n",
       "      <td>1975-05-13</td>\n",
       "      <td>M</td>\n",
       "      <td>rep</td>\n",
       "      <td>TX</td>\n",
       "      <td>27.0</td>\n",
       "      <td>NaN</td>\n",
       "      <td>Republican</td>\n",
       "      <td>https://cloud.house.gov/</td>\n",
       "      <td>...</td>\n",
       "      <td>N00041882</td>\n",
       "      <td>NaN</td>\n",
       "      <td>H8TX27049</td>\n",
       "      <td>10322.0</td>\n",
       "      <td>412746</td>\n",
       "      <td>177350.0</td>\n",
       "      <td>Michael Cloud (Texas)</td>\n",
       "      <td>NaN</td>\n",
       "      <td>NaN</td>\n",
       "      <td>Michael Cloud</td>\n",
       "    </tr>\n",
       "    <tr>\n",
       "      <th>534</th>\n",
       "      <td>Kyl</td>\n",
       "      <td>Jon</td>\n",
       "      <td>1942-04-25</td>\n",
       "      <td>M</td>\n",
       "      <td>sen</td>\n",
       "      <td>AZ</td>\n",
       "      <td>NaN</td>\n",
       "      <td>3.0</td>\n",
       "      <td>Republican</td>\n",
       "      <td>NaN</td>\n",
       "      <td>...</td>\n",
       "      <td>N00006406</td>\n",
       "      <td>S243</td>\n",
       "      <td>S4AZ00030</td>\n",
       "      <td>NaN</td>\n",
       "      <td>300062</td>\n",
       "      <td>26721.0</td>\n",
       "      <td>NaN</td>\n",
       "      <td>NaN</td>\n",
       "      <td>15429.0</td>\n",
       "      <td>Jon Kyl</td>\n",
       "    </tr>\n",
       "  </tbody>\n",
       "</table>\n",
       "<p>10 rows × 30 columns</p>\n",
       "</div>"
      ],
      "text/plain": [
       "     last_name first_name    birthday gender type state  district  \\\n",
       "37       Amash     Justin  1980-04-18      M  rep    MI       3.0   \n",
       "52    Bordallo  Madeleine  1933-05-31      F  rep    GU       0.0   \n",
       "66     Cassidy       Bill  1957-09-28      M  sen    LA       NaN   \n",
       "72        Clay        Wm.  1956-07-27      M  rep    MO       1.0   \n",
       "223   Peterson     Collin  1944-06-29      M  rep    MN       7.0   \n",
       "386      Kaine    Timothy  1958-02-26      M  sen    VA       NaN   \n",
       "463      Comer      James  1972-08-19      M  rep    KY       1.0   \n",
       "523  Gianforte       Greg  1961-04-17      M  rep    MT       0.0   \n",
       "533      Cloud    Michael  1975-05-13      M  rep    TX      27.0   \n",
       "534        Kyl        Jon  1942-04-25      M  sen    AZ       NaN   \n",
       "\n",
       "     senate_class       party                               url  \\\n",
       "37            NaN  Republican           https://amash.house.gov   \n",
       "52            NaN    Democrat        https://bordallo.house.gov   \n",
       "66            2.0  Republican    https://www.cassidy.senate.gov   \n",
       "72            NaN    Democrat        https://lacyclay.house.gov   \n",
       "223           NaN    Democrat  https://collinpeterson.house.gov   \n",
       "386           1.0    Democrat      https://www.kaine.senate.gov   \n",
       "463           NaN  Republican           https://comer.house.gov   \n",
       "523           NaN  Republican       https://gianforte.house.gov   \n",
       "533           NaN  Republican          https://cloud.house.gov/   \n",
       "534           3.0  Republican                               NaN   \n",
       "\n",
       "               ...            opensecrets_id lis_id              fec_ids  \\\n",
       "37             ...                 N00031938    NaN            H0MI03126   \n",
       "52             ...                 N00024866    NaN            H2GU00033   \n",
       "66             ...                 N00030245   S373  H8LA00017,S4LA00107   \n",
       "72             ...                 N00012460    NaN            H0MO01066   \n",
       "223            ...                 N00004558    NaN            H2MN07014   \n",
       "386            ...                 N00033177   S362            S2VA00142   \n",
       "463            ...                 N00038260    NaN            H6KY01110   \n",
       "523            ...                 N00040733    NaN            H8MT01182   \n",
       "533            ...                 N00041882    NaN            H8TX27049   \n",
       "534            ...                 N00006406   S243            S4AZ00030   \n",
       "\n",
       "      cspan_id govtrack_id votesmart_id         ballotpedia_id  \\\n",
       "37   1033767.0      412438     105566.0           Justin Amash   \n",
       "52   1003568.0      400041       1751.0                    NaN   \n",
       "66   1030546.0      412269      69494.0           Bill Cassidy   \n",
       "72     88332.0      400074       8967.0      William Lacy Clay   \n",
       "223    23978.0      400316      26926.0        Collin Peterson   \n",
       "386    49219.0      412582      50772.0              Tim Kaine   \n",
       "463    76619.0      412676      35169.0        James Comer Jr.   \n",
       "523   104895.0      412736     168594.0         Greg Gianforte   \n",
       "533    10322.0      412746     177350.0  Michael Cloud (Texas)   \n",
       "534        NaN      300062      26721.0                    NaN   \n",
       "\n",
       "    washington_post_id icpsr_id              wikipedia_id  \n",
       "37                 NaN  21143.0              Justin Amash  \n",
       "52                 NaN      NaN        Madeleine Bordallo  \n",
       "66                 NaN  20919.0              Bill Cassidy  \n",
       "72                 NaN  20147.0                 Lacy Clay  \n",
       "223                NaN  29127.0           Collin Peterson  \n",
       "386                NaN  41305.0                 Tim Kaine  \n",
       "463                NaN  21565.0  James Comer (politician)  \n",
       "523                NaN      NaN            Greg Gianforte  \n",
       "533                NaN      NaN             Michael Cloud  \n",
       "534                NaN  15429.0                   Jon Kyl  \n",
       "\n",
       "[10 rows x 30 columns]"
      ]
     },
     "execution_count": 53,
     "metadata": {},
     "output_type": "execute_result"
    }
   ],
   "source": [
    "congress_metadata[congress_metadata.twitter=='no twitter']"
   ]
  },
  {
   "cell_type": "code",
   "execution_count": 46,
   "metadata": {},
   "outputs": [],
   "source": [
    "# Lowercase Twitter usernames in order to join with Tweet data\n",
    "congress_metadata.twitter = congress_metadata.twitter.apply(lambda x:x.lower()) "
   ]
  },
  {
   "cell_type": "code",
   "execution_count": 47,
   "metadata": {},
   "outputs": [],
   "source": [
    "# Import Tweets to compare usernames to Congress metadata Twitter usernames\n",
    "tweets = pd.read_pickle('preprocessed_tweets.pkl')"
   ]
  },
  {
   "cell_type": "code",
   "execution_count": 48,
   "metadata": {},
   "outputs": [
    {
     "data": {
      "text/html": [
       "<div>\n",
       "<style scoped>\n",
       "    .dataframe tbody tr th:only-of-type {\n",
       "        vertical-align: middle;\n",
       "    }\n",
       "\n",
       "    .dataframe tbody tr th {\n",
       "        vertical-align: top;\n",
       "    }\n",
       "\n",
       "    .dataframe thead th {\n",
       "        text-align: right;\n",
       "    }\n",
       "</style>\n",
       "<table border=\"1\" class=\"dataframe\">\n",
       "  <thead>\n",
       "    <tr style=\"text-align: right;\">\n",
       "      <th></th>\n",
       "      <th>username</th>\n",
       "      <th>date</th>\n",
       "      <th>retweets</th>\n",
       "      <th>favorites</th>\n",
       "      <th>text</th>\n",
       "      <th>mentions</th>\n",
       "      <th>hashtags</th>\n",
       "      <th>id</th>\n",
       "      <th>permalink</th>\n",
       "      <th>length</th>\n",
       "      <th>year</th>\n",
       "      <th>tokens</th>\n",
       "      <th>clean_text</th>\n",
       "    </tr>\n",
       "  </thead>\n",
       "  <tbody>\n",
       "    <tr>\n",
       "      <th>0</th>\n",
       "      <td>amyklobuchar</td>\n",
       "      <td>2018-09-06 16:15:52</td>\n",
       "      <td>264</td>\n",
       "      <td>947</td>\n",
       "      <td>“A popular Government, without popular informa...</td>\n",
       "      <td>NaN</td>\n",
       "      <td>NaN</td>\n",
       "      <td>1037736146019729409</td>\n",
       "      <td>https://twitter.com/amyklobuchar/status/103773...</td>\n",
       "      <td>199</td>\n",
       "      <td>2018</td>\n",
       "      <td>[popular, government, without, popular, inform...</td>\n",
       "      <td>popular government without popular information...</td>\n",
       "    </tr>\n",
       "    <tr>\n",
       "      <th>2</th>\n",
       "      <td>amyklobuchar</td>\n",
       "      <td>2018-09-05 21:31:45</td>\n",
       "      <td>975</td>\n",
       "      <td>2657</td>\n",
       "      <td>Yes..Hidden in all the legal density are 3 key...</td>\n",
       "      <td>NaN</td>\n",
       "      <td>#Pattern</td>\n",
       "      <td>1037453252495855616</td>\n",
       "      <td>https://twitter.com/amyklobuchar/status/103745...</td>\n",
       "      <td>340</td>\n",
       "      <td>2018</td>\n",
       "      <td>[yeshidden, legal, density, key, consumer, iss...</td>\n",
       "      <td>yeshidden legal density key consumer issues fo...</td>\n",
       "    </tr>\n",
       "    <tr>\n",
       "      <th>3</th>\n",
       "      <td>amyklobuchar</td>\n",
       "      <td>2018-09-05 16:19:55</td>\n",
       "      <td>908</td>\n",
       "      <td>2522</td>\n",
       "      <td>Re Supreme Court: The 4 “confidential” 2002 do...</td>\n",
       "      <td>NaN</td>\n",
       "      <td>NaN</td>\n",
       "      <td>1037374780725440513</td>\n",
       "      <td>https://twitter.com/amyklobuchar/status/103737...</td>\n",
       "      <td>229</td>\n",
       "      <td>2018</td>\n",
       "      <td>[supreme, court, confidential, docs, got, made...</td>\n",
       "      <td>supreme court confidential docs got made publi...</td>\n",
       "    </tr>\n",
       "    <tr>\n",
       "      <th>6</th>\n",
       "      <td>amyklobuchar</td>\n",
       "      <td>2018-09-04 22:38:52</td>\n",
       "      <td>109</td>\n",
       "      <td>880</td>\n",
       "      <td>A little break in my day to celebrate this...t...</td>\n",
       "      <td>NaN</td>\n",
       "      <td>NaN</td>\n",
       "      <td>1037107756409479168</td>\n",
       "      <td>https://twitter.com/amyklobuchar/status/103710...</td>\n",
       "      <td>238</td>\n",
       "      <td>2018</td>\n",
       "      <td>[little, break, day, celebrate, thisthe, bigge...</td>\n",
       "      <td>little break day celebrate thisthe biggest fai...</td>\n",
       "    </tr>\n",
       "    <tr>\n",
       "      <th>8</th>\n",
       "      <td>amyklobuchar</td>\n",
       "      <td>2018-09-04 19:29:45</td>\n",
       "      <td>235</td>\n",
       "      <td>1611</td>\n",
       "      <td>Thanks @FullFrontalSamB for watching, for spea...</td>\n",
       "      <td>@FullFrontalSamB</td>\n",
       "      <td>NaN</td>\n",
       "      <td>1037060164673839104</td>\n",
       "      <td>https://twitter.com/amyklobuchar/status/103706...</td>\n",
       "      <td>209</td>\n",
       "      <td>2018</td>\n",
       "      <td>[thanks, watching, speaking, making, hearing, ...</td>\n",
       "      <td>thanks watching speaking making hearing real d...</td>\n",
       "    </tr>\n",
       "  </tbody>\n",
       "</table>\n",
       "</div>"
      ],
      "text/plain": [
       "       username                date  retweets  favorites  \\\n",
       "0  amyklobuchar 2018-09-06 16:15:52       264        947   \n",
       "2  amyklobuchar 2018-09-05 21:31:45       975       2657   \n",
       "3  amyklobuchar 2018-09-05 16:19:55       908       2522   \n",
       "6  amyklobuchar 2018-09-04 22:38:52       109        880   \n",
       "8  amyklobuchar 2018-09-04 19:29:45       235       1611   \n",
       "\n",
       "                                                text          mentions  \\\n",
       "0  “A popular Government, without popular informa...               NaN   \n",
       "2  Yes..Hidden in all the legal density are 3 key...               NaN   \n",
       "3  Re Supreme Court: The 4 “confidential” 2002 do...               NaN   \n",
       "6  A little break in my day to celebrate this...t...               NaN   \n",
       "8  Thanks @FullFrontalSamB for watching, for spea...  @FullFrontalSamB   \n",
       "\n",
       "   hashtags                   id  \\\n",
       "0       NaN  1037736146019729409   \n",
       "2  #Pattern  1037453252495855616   \n",
       "3       NaN  1037374780725440513   \n",
       "6       NaN  1037107756409479168   \n",
       "8       NaN  1037060164673839104   \n",
       "\n",
       "                                           permalink  length  year  \\\n",
       "0  https://twitter.com/amyklobuchar/status/103773...     199  2018   \n",
       "2  https://twitter.com/amyklobuchar/status/103745...     340  2018   \n",
       "3  https://twitter.com/amyklobuchar/status/103737...     229  2018   \n",
       "6  https://twitter.com/amyklobuchar/status/103710...     238  2018   \n",
       "8  https://twitter.com/amyklobuchar/status/103706...     209  2018   \n",
       "\n",
       "                                              tokens  \\\n",
       "0  [popular, government, without, popular, inform...   \n",
       "2  [yeshidden, legal, density, key, consumer, iss...   \n",
       "3  [supreme, court, confidential, docs, got, made...   \n",
       "6  [little, break, day, celebrate, thisthe, bigge...   \n",
       "8  [thanks, watching, speaking, making, hearing, ...   \n",
       "\n",
       "                                          clean_text  \n",
       "0  popular government without popular information...  \n",
       "2  yeshidden legal density key consumer issues fo...  \n",
       "3  supreme court confidential docs got made publi...  \n",
       "6  little break day celebrate thisthe biggest fai...  \n",
       "8  thanks watching speaking making hearing real d...  "
      ]
     },
     "execution_count": 48,
     "metadata": {},
     "output_type": "execute_result"
    }
   ],
   "source": [
    "tweets.head()"
   ]
  },
  {
   "cell_type": "code",
   "execution_count": 49,
   "metadata": {},
   "outputs": [],
   "source": [
    "# Lowercase Twitter usernames in order to join with Congress metadata\n",
    "tweets.username = tweets.username.apply(lambda x:x.lower()) "
   ]
  },
  {
   "cell_type": "code",
   "execution_count": 50,
   "metadata": {},
   "outputs": [],
   "source": [
    "# Compare Twitter usernames in Congress metadata to those in Tweets DataFrame\n",
    "cm_usernames = set(congress_metadata.twitter)\n",
    "tweets_usernames = set(tweets.username.unique())\n",
    "\n",
    "in_cm_not_tweets = cm_usernames - tweets_usernames\n",
    "in_tweets_not_cm = tweets_usernames - cm_usernames"
   ]
  },
  {
   "cell_type": "code",
   "execution_count": 51,
   "metadata": {},
   "outputs": [
    {
     "data": {
      "text/plain": [
       "{'blumenauermedia',\n",
       " 'kilili_sablan',\n",
       " 'no twitter',\n",
       " 'repanthonybrown',\n",
       " 'repbenraylujan',\n",
       " 'repclayhiggins',\n",
       " 'repconorlamb',\n",
       " 'repdavidrouzer',\n",
       " 'repdevinnunes',\n",
       " 'repdlesko',\n",
       " 'repgregorymeeks',\n",
       " 'repguthrie',\n",
       " 'repjimmygomez',\n",
       " 'repjohncurtis',\n",
       " 'repkhandel',\n",
       " 'replbr',\n",
       " 'reploucorrea',\n",
       " 'repmarshall',\n",
       " 'repmaxinewaters',\n",
       " 'repmikejohnson',\n",
       " 'repralphnorman',\n",
       " 'reprobbishop',\n",
       " 'reprohrabacher',\n",
       " 'reprutherfordfl',\n",
       " 'repscotttaylor',\n",
       " 'repstevepearce',\n",
       " 'reptomgarrett',\n",
       " 'roslehtinen',\n",
       " 'senamyklobuchar',\n",
       " 'sendougjones',\n",
       " 'senhydesmith',\n",
       " 'senkamalaharris',\n",
       " 'sentinasmith'}"
      ]
     },
     "execution_count": 51,
     "metadata": {},
     "output_type": "execute_result"
    }
   ],
   "source": [
    "in_cm_not_tweets"
   ]
  },
  {
   "cell_type": "code",
   "execution_count": 52,
   "metadata": {},
   "outputs": [
    {
     "data": {
      "text/plain": [
       "{'amyklobuchar',\n",
       " 'anthonybrownmd4',\n",
       " 'billcassidy',\n",
       " 'brettguthrie',\n",
       " 'danarohrabacher',\n",
       " 'davidrouzer',\n",
       " 'devinnunes',\n",
       " 'farenthold',\n",
       " 'gregorymeeks',\n",
       " 'jasoninthehouse',\n",
       " 'justinamash',\n",
       " 'kamalaharris',\n",
       " 'kycomer',\n",
       " 'louiseslaughter',\n",
       " 'lutherstrange',\n",
       " 'maxinewaters',\n",
       " 'patmeehanpa',\n",
       " 'pattiberi',\n",
       " 'repbecerra',\n",
       " 'repblumenauer',\n",
       " 'repcharliedent',\n",
       " 'repjbridenstine',\n",
       " 'repjohnconyers',\n",
       " 'rogermarshallmd',\n",
       " 'scotttaylorva',\n",
       " 'senfranken',\n",
       " 'senjohnmccain',\n",
       " 'senthadcochran',\n",
       " 'timkaine'}"
      ]
     },
     "execution_count": 52,
     "metadata": {},
     "output_type": "execute_result"
    }
   ],
   "source": [
    "in_tweets_not_cm"
   ]
  },
  {
   "cell_type": "code",
   "execution_count": 54,
   "metadata": {},
   "outputs": [],
   "source": [
    "# The following Twitter usernames were listed in Twitter username source: \n",
    "# https://gwu-libraries.github.io/sfm-ui/posts/2017-05-23-congress-seed-list\n",
    "# but their owners were no longer in Congress as of 09/12/18\n",
    "former_congress_members= ['farenthold','jasoninthehouse','louiseslaughter',\\\n",
    "                          'lutherstrange','patmeehanpa', 'pattiberi', \\\n",
    "                          'repbecerra', 'repcharliedent','repjbridenstine',\\\n",
    "                          'repjohnconyers','senfranken', 'senjohnmccain', 'senthadcochran']"
   ]
  },
  {
   "cell_type": "code",
   "execution_count": 56,
   "metadata": {},
   "outputs": [
    {
     "data": {
      "text/plain": [
       "522"
      ]
     },
     "execution_count": 56,
     "metadata": {},
     "output_type": "execute_result"
    }
   ],
   "source": [
    "tweets.username.nunique()"
   ]
  },
  {
   "cell_type": "code",
   "execution_count": 57,
   "metadata": {},
   "outputs": [],
   "source": [
    "# Drop Tweets from preprocessed Tweets if Tweeters are no longer in Congress\n",
    "for i in former_congress_members:\n",
    "    tweets.reset_index(inplace=True,drop=True)\n",
    "    tweets.drop(tweets[tweets.username==i].index,inplace=True)\n",
    "    "
   ]
  },
  {
   "cell_type": "code",
   "execution_count": 58,
   "metadata": {},
   "outputs": [],
   "source": [
    "tweets.to_pickle('updated_preprocessed_tweets.pkl')"
   ]
  },
  {
   "cell_type": "code",
   "execution_count": 59,
   "metadata": {},
   "outputs": [],
   "source": [
    "# There were discrepancies between the two data sources for the following usernames:\n",
    "\n",
    "twitter_usernames_tweets = (['maxinewaters','kamalaharris','gregorymeeks',\\\n",
    "                            'devinnunes','davidrouzer','danarohrabacher',\\\n",
    "                            'brettguthrie','anthonybrownmd4',\\\n",
    "                            'scotttaylorva','rogermarshallmd',\\\n",
    "                            'repblumenauer','amyklobuchar'])\n",
    "\n",
    "twitter_usernames_cm = (['repmaxinewaters','senkamalaharris',\\\n",
    "                         'repgregorymeeks','repdevinnunes',\\\n",
    "                         'repdavidrouzer','reprohrabacher','repguthrie',\\\n",
    "                         'repanthonybrown','repscotttaylor','repmarshall',\\\n",
    "                         'blumenauermedia','senamyklobuchar'])\n"
   ]
  },
  {
   "cell_type": "code",
   "execution_count": 60,
   "metadata": {},
   "outputs": [],
   "source": [
    "# Change names in T.U.C. to the corresponding ones in T.U.T. for purposes of \n",
    "# joining Tweet data to Congress metadata\n",
    "\n",
    "for i in range(len(twitter_usernames_cm)):\n",
    "    index = (congress_metadata[congress_metadata.twitter==\\\n",
    "                    twitter_usernames_cm\\\n",
    "                    [i]].twitter.index)\n",
    "    congress_metadata.at[index, 'twitter'] = twitter_usernames_tweets[i]\n"
   ]
  },
  {
   "cell_type": "code",
   "execution_count": 61,
   "metadata": {},
   "outputs": [],
   "source": [
    "# The Congress metadata source was missing Twitter usernames for\n",
    "# several current members of Congress who have Twitter accounts\n",
    "# Add Twitter names to Congress members with nan's where applicable\n",
    "\n",
    "def add_username(last_name,username):\n",
    "    \n",
    "    index = (congress_metadata[congress_metadata.last_name==\\\n",
    "                    last_name]).index\n",
    "\n",
    "    congress_metadata.at[index, 'twitter'] = username"
   ]
  },
  {
   "cell_type": "code",
   "execution_count": 62,
   "metadata": {},
   "outputs": [],
   "source": [
    "add_username('Cassidy','billcassidy')\n",
    "add_username('Amash','justinamash')\n",
    "add_username('Comer','kycomer')\n",
    "add_username('Kaine','timkaine')"
   ]
  },
  {
   "cell_type": "code",
   "execution_count": 63,
   "metadata": {},
   "outputs": [],
   "source": [
    "# Compare Twitter usernames in Congress metadata to those in Tweets DataFrame\n",
    "cm_usernames = set(congress_metadata.twitter)\n",
    "tweets_usernames = set(tweets.username.unique())\n",
    "\n",
    "in_cm_not_tweets = cm_usernames - tweets_usernames\n",
    "in_tweets_not_cm = tweets_usernames - cm_usernames"
   ]
  },
  {
   "cell_type": "code",
   "execution_count": 64,
   "metadata": {},
   "outputs": [
    {
     "data": {
      "text/plain": [
       "set()"
      ]
     },
     "execution_count": 64,
     "metadata": {},
     "output_type": "execute_result"
    }
   ],
   "source": [
    "# Discrepancies in Tweets DataFrame resolved\n",
    "in_tweets_not_cm"
   ]
  },
  {
   "cell_type": "code",
   "execution_count": 65,
   "metadata": {},
   "outputs": [
    {
     "data": {
      "text/plain": [
       "{'kilili_sablan',\n",
       " 'no twitter',\n",
       " 'repbenraylujan',\n",
       " 'repclayhiggins',\n",
       " 'repconorlamb',\n",
       " 'repdlesko',\n",
       " 'repjimmygomez',\n",
       " 'repjohncurtis',\n",
       " 'repkhandel',\n",
       " 'replbr',\n",
       " 'reploucorrea',\n",
       " 'repmikejohnson',\n",
       " 'repralphnorman',\n",
       " 'reprobbishop',\n",
       " 'reprutherfordfl',\n",
       " 'repstevepearce',\n",
       " 'reptomgarrett',\n",
       " 'roslehtinen',\n",
       " 'sendougjones',\n",
       " 'senhydesmith',\n",
       " 'sentinasmith'}"
      ]
     },
     "execution_count": 65,
     "metadata": {},
     "output_type": "execute_result"
    }
   ],
   "source": [
    "# Unresolved Discrepancies in Congress metadata\n",
    "in_cm_not_tweets"
   ]
  },
  {
   "cell_type": "code",
   "execution_count": 31,
   "metadata": {},
   "outputs": [],
   "source": [
    "# Drop the Congress members not accounted for in Tweets DataFrame from Congress \n",
    "# metadata\n",
    "for i in in_cm_not_tweets:\n",
    "    congress_metadata.reset_index(inplace=True,drop=True)\n",
    "    (congress_metadata.drop(congress_metadata[congress_metadata\\\n",
    "                        .twitter==i].index,inplace=True))\n",
    "    "
   ]
  },
  {
   "cell_type": "code",
   "execution_count": 66,
   "metadata": {},
   "outputs": [
    {
     "data": {
      "text/plain": [
       "509"
      ]
     },
     "execution_count": 66,
     "metadata": {},
     "output_type": "execute_result"
    }
   ],
   "source": [
    "tweets.username.nunique()"
   ]
  },
  {
   "cell_type": "code",
   "execution_count": 32,
   "metadata": {},
   "outputs": [
    {
     "data": {
      "text/plain": [
       "509"
      ]
     },
     "execution_count": 32,
     "metadata": {},
     "output_type": "execute_result"
    }
   ],
   "source": [
    "# Twitter usernames in two DataFrames now match \n",
    "congress_metadata.twitter.nunique()"
   ]
  },
  {
   "cell_type": "code",
   "execution_count": 69,
   "metadata": {},
   "outputs": [],
   "source": [
    "congress_metadata.to_pickle('congress_metadata.pkl')"
   ]
  }
 ],
 "metadata": {
  "kernelspec": {
   "display_name": "Python 3",
   "language": "python",
   "name": "python3"
  },
  "language_info": {
   "codemirror_mode": {
    "name": "ipython",
    "version": 3
   },
   "file_extension": ".py",
   "mimetype": "text/x-python",
   "name": "python",
   "nbconvert_exporter": "python",
   "pygments_lexer": "ipython3",
   "version": "3.6.6"
  }
 },
 "nbformat": 4,
 "nbformat_minor": 2
}

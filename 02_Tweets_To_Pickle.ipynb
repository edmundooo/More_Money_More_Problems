{
 "cells": [
  {
   "cell_type": "markdown",
   "metadata": {},
   "source": [
    "__Subject:__ Topics of Tweets of Congress through \n",
    "             the Lens of Campaign Finance\n",
    "\n",
    "__Date:__ 09/08/2018\n",
    "\n",
    "__Name:__ Edmund D. Chitwood\n",
    "\n",
    "***"
   ]
  },
  {
   "cell_type": "markdown",
   "metadata": {},
   "source": [
    "__Summary:__<br>\n",
    "<br>The following Notebook \n",
    "- reads all Tweets from CSV files,\n",
    "- reads them into a Pandas DataFrame, and\n",
    "- then pickles the DataFrame.\n",
    "***"
   ]
  },
  {
   "cell_type": "code",
   "execution_count": 1,
   "metadata": {},
   "outputs": [],
   "source": [
    "import pandas as pd\n",
    "import pickle"
   ]
  },
  {
   "cell_type": "code",
   "execution_count": 50,
   "metadata": {},
   "outputs": [],
   "source": [
    "# Navigate to data folder which contains csv files\n",
    "# with Tweets and Tweet metadata by all members of \n",
    "# Congress and get names of all csv files\n",
    "csv_names = !var=\"cd data && ls\" && eval $var\n",
    "csv_names = list(csv_names)"
   ]
  },
  {
   "cell_type": "code",
   "execution_count": 28,
   "metadata": {},
   "outputs": [],
   "source": [
    "# Initialize DataFrame to hold Tweets and Tweet metadata\n",
    "tweets = pd.read_csv('data/'+csv_names[0],sep=';',header=None)"
   ]
  },
  {
   "cell_type": "code",
   "execution_count": 29,
   "metadata": {},
   "outputs": [],
   "source": [
    "# Read in data from all members of Congress\n",
    "for i in range(1,len(csv_names)):\n",
    "    new_tweets = pd.read_csv('data/'+csv_names[i],sep=';',header=None)\n",
    "    tweets = tweets.append(new_tweets)"
   ]
  },
  {
   "cell_type": "code",
   "execution_count": 30,
   "metadata": {},
   "outputs": [],
   "source": [
    "tweets.columns = (['username','date','retweets','favorites','text','mentions',\\n",
    "                   'hashtags','id','permalink'])"
   ]
  },
  {
   "cell_type": "code",
   "execution_count": 33,
   "metadata": {},
   "outputs": [
    {
     "data": {
      "text/html": [
       "<div>\n",
       "<style scoped>\n",
       "    .dataframe tbody tr th:only-of-type {\n",
       "        vertical-align: middle;\n",
       "    }\n",
       "\n",
       "    .dataframe tbody tr th {\n",
       "        vertical-align: top;\n",
       "    }\n",
       "\n",
       "    .dataframe thead th {\n",
       "        text-align: right;\n",
       "    }\n",
       "</style>\n",
       "<table border=\"1\" class=\"dataframe\">\n",
       "  <thead>\n",
       "    <tr style=\"text-align: right;\">\n",
       "      <th></th>\n",
       "      <th>username</th>\n",
       "      <th>date</th>\n",
       "      <th>retweets</th>\n",
       "      <th>favorites</th>\n",
       "      <th>text</th>\n",
       "      <th>mentions</th>\n",
       "      <th>hashtags</th>\n",
       "      <th>id</th>\n",
       "      <th>permalink</th>\n",
       "    </tr>\n",
       "  </thead>\n",
       "  <tbody>\n",
       "    <tr>\n",
       "      <th>11006</th>\n",
       "      <td>SenatorHeitkamp</td>\n",
       "      <td>2013-01-11 13:54:34</td>\n",
       "      <td>0</td>\n",
       "      <td>0</td>\n",
       "      <td>Editorial from @MinotDailyNews - Heitkamp isn'...</td>\n",
       "      <td>@MinotDailyNews</td>\n",
       "      <td>NaN</td>\n",
       "      <td>289732034081980416</td>\n",
       "      <td>https://twitter.com/SenatorHeitkamp/status/289...</td>\n",
       "    </tr>\n",
       "    <tr>\n",
       "      <th>11007</th>\n",
       "      <td>SenatorHeitkamp</td>\n",
       "      <td>2013-01-09 20:06:00</td>\n",
       "      <td>2</td>\n",
       "      <td>0</td>\n",
       "      <td>Good mtg w/ Sec. Salazar @Interior today to ta...</td>\n",
       "      <td>@Interior</td>\n",
       "      <td>#NorthDakota</td>\n",
       "      <td>289100727811457024</td>\n",
       "      <td>https://twitter.com/SenatorHeitkamp/status/289...</td>\n",
       "    </tr>\n",
       "    <tr>\n",
       "      <th>11008</th>\n",
       "      <td>SenatorHeitkamp</td>\n",
       "      <td>2013-01-09 14:59:38</td>\n",
       "      <td>1</td>\n",
       "      <td>0</td>\n",
       "      <td>Heitkamp responds to attack ads: http:// bit.l...</td>\n",
       "      <td>@bistrib</td>\n",
       "      <td>NaN</td>\n",
       "      <td>289023633710538752</td>\n",
       "      <td>https://twitter.com/SenatorHeitkamp/status/289...</td>\n",
       "    </tr>\n",
       "    <tr>\n",
       "      <th>11009</th>\n",
       "      <td>SenatorHeitkamp</td>\n",
       "      <td>2013-01-08 15:35:43</td>\n",
       "      <td>0</td>\n",
       "      <td>0</td>\n",
       "      <td>NDs interested in attending Inauguration- call...</td>\n",
       "      <td>NaN</td>\n",
       "      <td>NaN</td>\n",
       "      <td>288670326336921603</td>\n",
       "      <td>https://twitter.com/SenatorHeitkamp/status/288...</td>\n",
       "    </tr>\n",
       "    <tr>\n",
       "      <th>11010</th>\n",
       "      <td>SenatorHeitkamp</td>\n",
       "      <td>2013-01-07 20:35:01</td>\n",
       "      <td>1</td>\n",
       "      <td>2</td>\n",
       "      <td>Facebook page is up and running! http://www. f...</td>\n",
       "      <td>NaN</td>\n",
       "      <td>NaN</td>\n",
       "      <td>288383256968187904</td>\n",
       "      <td>https://twitter.com/SenatorHeitkamp/status/288...</td>\n",
       "    </tr>\n",
       "  </tbody>\n",
       "</table>\n",
       "</div>"
      ],
      "text/plain": [
       "              username                 date  retweets  favorites  \\\n",
       "11006  SenatorHeitkamp  2013-01-11 13:54:34         0          0   \n",
       "11007  SenatorHeitkamp  2013-01-09 20:06:00         2          0   \n",
       "11008  SenatorHeitkamp  2013-01-09 14:59:38         1          0   \n",
       "11009  SenatorHeitkamp  2013-01-08 15:35:43         0          0   \n",
       "11010  SenatorHeitkamp  2013-01-07 20:35:01         1          2   \n",
       "\n",
       "                                                    text         mentions  \\\n",
       "11006  Editorial from @MinotDailyNews - Heitkamp isn'...  @MinotDailyNews   \n",
       "11007  Good mtg w/ Sec. Salazar @Interior today to ta...        @Interior   \n",
       "11008  Heitkamp responds to attack ads: http:// bit.l...         @bistrib   \n",
       "11009  NDs interested in attending Inauguration- call...              NaN   \n",
       "11010  Facebook page is up and running! http://www. f...              NaN   \n",
       "\n",
       "           hashtags                  id  \\\n",
       "11006           NaN  289732034081980416   \n",
       "11007  #NorthDakota  289100727811457024   \n",
       "11008           NaN  289023633710538752   \n",
       "11009           NaN  288670326336921603   \n",
       "11010           NaN  288383256968187904   \n",
       "\n",
       "                                               permalink  \n",
       "11006  https://twitter.com/SenatorHeitkamp/status/289...  \n",
       "11007  https://twitter.com/SenatorHeitkamp/status/289...  \n",
       "11008  https://twitter.com/SenatorHeitkamp/status/289...  \n",
       "11009  https://twitter.com/SenatorHeitkamp/status/288...  \n",
       "11010  https://twitter.com/SenatorHeitkamp/status/288...  "
      ]
     },
     "execution_count": 33,
     "metadata": {},
     "output_type": "execute_result"
    }
   ],
   "source": [
    "tweets.head()"
   ]
  },
  {
   "cell_type": "code",
   "execution_count": 40,
   "metadata": {},
   "outputs": [],
   "source": [
    "tweets.to_pickle('congress_tweets.pkl')"
   ]
  }
 ],
 "metadata": {
  "kernelspec": {
   "display_name": "Python 3",
   "language": "python",
   "name": "python3"
  },
  "language_info": {
   "codemirror_mode": {
    "name": "ipython",
    "version": 3
   },
   "file_extension": ".py",
   "mimetype": "text/x-python",
   "name": "python",
   "nbconvert_exporter": "python",
   "pygments_lexer": "ipython3",
   "version": "3.6.6"
  }
 },
 "nbformat": 4,
 "nbformat_minor": 2
}

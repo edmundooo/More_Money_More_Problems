{
 "cells": [
  {
   "cell_type": "markdown",
   "metadata": {},
   "source": [
    "__Subject:__ Topics of Tweets of US Congress through the Lens of Campaign Finance\n",
    "\n",
    "__Date:__ 09/12/2018\n",
    "\n",
    "__Author:__ Edmund D. Chitwood\n",
    "***"
   ]
  },
  {
   "cell_type": "markdown",
   "metadata": {},
   "source": [
    "__Summary:__<br>\n",
    "<br>The following Notebook\n",
    "- downloads campaign finance information for each relevant member of Congress from opensecrets.org\n",
    "***"
   ]
  },
  {
   "cell_type": "code",
   "execution_count": 17,
   "metadata": {},
   "outputs": [],
   "source": [
    "import pandas as pd\n",
    "import pickle"
   ]
  },
  {
   "cell_type": "code",
   "execution_count": 18,
   "metadata": {},
   "outputs": [],
   "source": [
    "congress_metadata = pd.read_pickle('congress_metadata.pkl')"
   ]
  },
  {
   "cell_type": "code",
   "execution_count": 20,
   "metadata": {},
   "outputs": [
    {
     "data": {
      "text/html": [
       "<div>\n",
       "<style scoped>\n",
       "    .dataframe tbody tr th:only-of-type {\n",
       "        vertical-align: middle;\n",
       "    }\n",
       "\n",
       "    .dataframe tbody tr th {\n",
       "        vertical-align: top;\n",
       "    }\n",
       "\n",
       "    .dataframe thead th {\n",
       "        text-align: right;\n",
       "    }\n",
       "</style>\n",
       "<table border=\"1\" class=\"dataframe\">\n",
       "  <thead>\n",
       "    <tr style=\"text-align: right;\">\n",
       "      <th></th>\n",
       "      <th>last_name</th>\n",
       "      <th>first_name</th>\n",
       "      <th>birthday</th>\n",
       "      <th>gender</th>\n",
       "      <th>type</th>\n",
       "      <th>state</th>\n",
       "      <th>district</th>\n",
       "      <th>senate_class</th>\n",
       "      <th>party</th>\n",
       "      <th>url</th>\n",
       "      <th>...</th>\n",
       "      <th>opensecrets_id</th>\n",
       "      <th>lis_id</th>\n",
       "      <th>fec_ids</th>\n",
       "      <th>cspan_id</th>\n",
       "      <th>govtrack_id</th>\n",
       "      <th>votesmart_id</th>\n",
       "      <th>ballotpedia_id</th>\n",
       "      <th>washington_post_id</th>\n",
       "      <th>icpsr_id</th>\n",
       "      <th>wikipedia_id</th>\n",
       "    </tr>\n",
       "  </thead>\n",
       "  <tbody>\n",
       "    <tr>\n",
       "      <th>0</th>\n",
       "      <td>Brown</td>\n",
       "      <td>Sherrod</td>\n",
       "      <td>1952-11-09</td>\n",
       "      <td>M</td>\n",
       "      <td>sen</td>\n",
       "      <td>OH</td>\n",
       "      <td>NaN</td>\n",
       "      <td>1.0</td>\n",
       "      <td>Democrat</td>\n",
       "      <td>https://www.brown.senate.gov</td>\n",
       "      <td>...</td>\n",
       "      <td>N00003535</td>\n",
       "      <td>S307</td>\n",
       "      <td>H2OH13033,S6OH00163</td>\n",
       "      <td>5051.0</td>\n",
       "      <td>400050</td>\n",
       "      <td>27018.0</td>\n",
       "      <td>Sherrod Brown</td>\n",
       "      <td>NaN</td>\n",
       "      <td>29389.0</td>\n",
       "      <td>Sherrod Brown</td>\n",
       "    </tr>\n",
       "    <tr>\n",
       "      <th>1</th>\n",
       "      <td>Cantwell</td>\n",
       "      <td>Maria</td>\n",
       "      <td>1958-10-13</td>\n",
       "      <td>F</td>\n",
       "      <td>sen</td>\n",
       "      <td>WA</td>\n",
       "      <td>NaN</td>\n",
       "      <td>1.0</td>\n",
       "      <td>Democrat</td>\n",
       "      <td>https://www.cantwell.senate.gov</td>\n",
       "      <td>...</td>\n",
       "      <td>N00007836</td>\n",
       "      <td>S275</td>\n",
       "      <td>S8WA00194,H2WA01054</td>\n",
       "      <td>26137.0</td>\n",
       "      <td>300018</td>\n",
       "      <td>27122.0</td>\n",
       "      <td>Maria Cantwell</td>\n",
       "      <td>NaN</td>\n",
       "      <td>39310.0</td>\n",
       "      <td>Maria Cantwell</td>\n",
       "    </tr>\n",
       "    <tr>\n",
       "      <th>2</th>\n",
       "      <td>Cardin</td>\n",
       "      <td>Benjamin</td>\n",
       "      <td>1943-10-05</td>\n",
       "      <td>M</td>\n",
       "      <td>sen</td>\n",
       "      <td>MD</td>\n",
       "      <td>NaN</td>\n",
       "      <td>1.0</td>\n",
       "      <td>Democrat</td>\n",
       "      <td>https://www.cardin.senate.gov</td>\n",
       "      <td>...</td>\n",
       "      <td>N00001955</td>\n",
       "      <td>S308</td>\n",
       "      <td>H6MD03177,S6MD03177</td>\n",
       "      <td>4004.0</td>\n",
       "      <td>400064</td>\n",
       "      <td>26888.0</td>\n",
       "      <td>Ben Cardin</td>\n",
       "      <td>NaN</td>\n",
       "      <td>15408.0</td>\n",
       "      <td>Ben Cardin</td>\n",
       "    </tr>\n",
       "    <tr>\n",
       "      <th>3</th>\n",
       "      <td>Carper</td>\n",
       "      <td>Thomas</td>\n",
       "      <td>1947-01-23</td>\n",
       "      <td>M</td>\n",
       "      <td>sen</td>\n",
       "      <td>DE</td>\n",
       "      <td>NaN</td>\n",
       "      <td>1.0</td>\n",
       "      <td>Democrat</td>\n",
       "      <td>https://www.carper.senate.gov/public</td>\n",
       "      <td>...</td>\n",
       "      <td>N00012508</td>\n",
       "      <td>S277</td>\n",
       "      <td>S8DE00079</td>\n",
       "      <td>663.0</td>\n",
       "      <td>300019</td>\n",
       "      <td>22421.0</td>\n",
       "      <td>Tom Carper</td>\n",
       "      <td>NaN</td>\n",
       "      <td>15015.0</td>\n",
       "      <td>Tom Carper</td>\n",
       "    </tr>\n",
       "    <tr>\n",
       "      <th>4</th>\n",
       "      <td>Casey</td>\n",
       "      <td>Robert</td>\n",
       "      <td>1960-04-13</td>\n",
       "      <td>M</td>\n",
       "      <td>sen</td>\n",
       "      <td>PA</td>\n",
       "      <td>NaN</td>\n",
       "      <td>1.0</td>\n",
       "      <td>Democrat</td>\n",
       "      <td>https://www.casey.senate.gov</td>\n",
       "      <td>...</td>\n",
       "      <td>N00027503</td>\n",
       "      <td>S309</td>\n",
       "      <td>S6PA00217</td>\n",
       "      <td>47036.0</td>\n",
       "      <td>412246</td>\n",
       "      <td>2541.0</td>\n",
       "      <td>Bob Casey, Jr.</td>\n",
       "      <td>NaN</td>\n",
       "      <td>40703.0</td>\n",
       "      <td>Bob Casey Jr.</td>\n",
       "    </tr>\n",
       "  </tbody>\n",
       "</table>\n",
       "<p>5 rows × 30 columns</p>\n",
       "</div>"
      ],
      "text/plain": [
       "  last_name first_name    birthday gender type state  district  senate_class  \\\n",
       "0     Brown    Sherrod  1952-11-09      M  sen    OH       NaN           1.0   \n",
       "1  Cantwell      Maria  1958-10-13      F  sen    WA       NaN           1.0   \n",
       "2    Cardin   Benjamin  1943-10-05      M  sen    MD       NaN           1.0   \n",
       "3    Carper     Thomas  1947-01-23      M  sen    DE       NaN           1.0   \n",
       "4     Casey     Robert  1960-04-13      M  sen    PA       NaN           1.0   \n",
       "\n",
       "      party                                   url       ...        \\\n",
       "0  Democrat          https://www.brown.senate.gov       ...         \n",
       "1  Democrat       https://www.cantwell.senate.gov       ...         \n",
       "2  Democrat         https://www.cardin.senate.gov       ...         \n",
       "3  Democrat  https://www.carper.senate.gov/public       ...         \n",
       "4  Democrat          https://www.casey.senate.gov       ...         \n",
       "\n",
       "  opensecrets_id lis_id              fec_ids cspan_id govtrack_id  \\\n",
       "0      N00003535   S307  H2OH13033,S6OH00163   5051.0      400050   \n",
       "1      N00007836   S275  S8WA00194,H2WA01054  26137.0      300018   \n",
       "2      N00001955   S308  H6MD03177,S6MD03177   4004.0      400064   \n",
       "3      N00012508   S277            S8DE00079    663.0      300019   \n",
       "4      N00027503   S309            S6PA00217  47036.0      412246   \n",
       "\n",
       "  votesmart_id  ballotpedia_id washington_post_id icpsr_id    wikipedia_id  \n",
       "0      27018.0   Sherrod Brown                NaN  29389.0   Sherrod Brown  \n",
       "1      27122.0  Maria Cantwell                NaN  39310.0  Maria Cantwell  \n",
       "2      26888.0      Ben Cardin                NaN  15408.0      Ben Cardin  \n",
       "3      22421.0      Tom Carper                NaN  15015.0      Tom Carper  \n",
       "4       2541.0  Bob Casey, Jr.                NaN  40703.0   Bob Casey Jr.  \n",
       "\n",
       "[5 rows x 30 columns]"
      ]
     },
     "execution_count": 20,
     "metadata": {},
     "output_type": "execute_result"
    }
   ],
   "source": [
    "congress_metadata.head()"
   ]
  },
  {
   "cell_type": "code",
   "execution_count": 21,
   "metadata": {},
   "outputs": [
    {
     "data": {
      "text/plain": [
       "Index(['last_name', 'first_name', 'birthday', 'gender', 'type', 'state',\n",
       "       'district', 'senate_class', 'party', 'url', 'address', 'phone',\n",
       "       'contact_form', 'rss_url', 'twitter', 'facebook', 'youtube',\n",
       "       'youtube_id', 'bioguide_id', 'thomas_id', 'opensecrets_id', 'lis_id',\n",
       "       'fec_ids', 'cspan_id', 'govtrack_id', 'votesmart_id', 'ballotpedia_id',\n",
       "       'washington_post_id', 'icpsr_id', 'wikipedia_id'],\n",
       "      dtype='object')"
      ]
     },
     "execution_count": 21,
     "metadata": {},
     "output_type": "execute_result"
    }
   ],
   "source": [
    "congress_metadata.columns"
   ]
  },
  {
   "cell_type": "code",
   "execution_count": 18,
   "metadata": {},
   "outputs": [],
   "source": [
    "# https://www.opensecrets.org/ is data source for campaign finance data\n",
    "#!pip install opensecrets-crpapi"
   ]
  },
  {
   "cell_type": "code",
   "execution_count": 7,
   "metadata": {},
   "outputs": [],
   "source": [
    "from crpapi import CRP\n",
    "#crp = CRP(apikey)\n",
    "crp = CRP('21539018e701b26436921b72553a4208')"
   ]
  },
  {
   "cell_type": "code",
   "execution_count": 8,
   "metadata": {},
   "outputs": [
    {
     "data": {
      "text/plain": [
       "[{'@attributes': {'sector_name': 'Agribusiness',\n",
       "   'sectorid': 'A',\n",
       "   'indivs': '220786',\n",
       "   'pacs': '95000',\n",
       "   'total': '315786'}},\n",
       " {'@attributes': {'sector_name': 'Communic/Electronics',\n",
       "   'sectorid': 'B',\n",
       "   'indivs': '1336249',\n",
       "   'pacs': '126000',\n",
       "   'total': '1462249'}},\n",
       " {'@attributes': {'sector_name': 'Construction',\n",
       "   'sectorid': 'C',\n",
       "   'indivs': '269334',\n",
       "   'pacs': '90750',\n",
       "   'total': '360084'}},\n",
       " {'@attributes': {'sector_name': 'Defense',\n",
       "   'sectorid': 'D',\n",
       "   'indivs': '11210',\n",
       "   'pacs': '44000',\n",
       "   'total': '55210'}},\n",
       " {'@attributes': {'sector_name': 'Energy/Nat Resource',\n",
       "   'sectorid': 'E',\n",
       "   'indivs': '149317',\n",
       "   'pacs': '90000',\n",
       "   'total': '239317'}},\n",
       " {'@attributes': {'sector_name': 'Finance/Insur/RealEst',\n",
       "   'sectorid': 'F',\n",
       "   'indivs': '2877538',\n",
       "   'pacs': '968350',\n",
       "   'total': '3845888'}},\n",
       " {'@attributes': {'sector_name': 'Health',\n",
       "   'sectorid': 'H',\n",
       "   'indivs': '1521128',\n",
       "   'pacs': '401200',\n",
       "   'total': '1922328'}},\n",
       " {'@attributes': {'sector_name': 'Lawyers & Lobbyists',\n",
       "   'sectorid': 'K',\n",
       "   'indivs': '3667782',\n",
       "   'pacs': '176575',\n",
       "   'total': '3844357'}},\n",
       " {'@attributes': {'sector_name': 'Transportation',\n",
       "   'sectorid': 'M',\n",
       "   'indivs': '100642',\n",
       "   'pacs': '58750',\n",
       "   'total': '159392'}},\n",
       " {'@attributes': {'sector_name': 'Misc Business',\n",
       "   'sectorid': 'N',\n",
       "   'indivs': '1536910',\n",
       "   'pacs': '278750',\n",
       "   'total': '1815660'}},\n",
       " {'@attributes': {'sector_name': 'Labor',\n",
       "   'sectorid': 'P',\n",
       "   'indivs': '30758',\n",
       "   'pacs': '385000',\n",
       "   'total': '415758'}},\n",
       " {'@attributes': {'sector_name': 'Ideology/Single-Issue',\n",
       "   'sectorid': 'Q',\n",
       "   'indivs': '3692897',\n",
       "   'pacs': '568516',\n",
       "   'total': '4261413'}},\n",
       " {'@attributes': {'sector_name': 'Other',\n",
       "   'sectorid': 'W',\n",
       "   'indivs': '4193771',\n",
       "   'pacs': '8000',\n",
       "   'total': '4201771'}}]"
      ]
     },
     "execution_count": 8,
     "metadata": {},
     "output_type": "execute_result"
    }
   ],
   "source": [
    "# Example campaign finance data\n",
    "contributions = crp.candidates.sector('N00003535')\n",
    "contributions"
   ]
  },
  {
   "cell_type": "code",
   "execution_count": 23,
   "metadata": {},
   "outputs": [
    {
     "name": "stdout",
     "output_type": "stream",
     "text": [
      "N00000267\n"
     ]
    }
   ],
   "source": [
    "# Get Campaign contriubtion information for each member of Congress, broken \n",
    "# down by sector and type of donor (i.e. Individual or PAC) \n",
    "# Totals are from most recent election cycle\n",
    "\n",
    "contributions = []\n",
    "\n",
    "for i in congress_metadata.opensecrets_id:\n",
    "    try:\n",
    "        contributions.append(crp.candidates.sector(i))\n",
    "    except:\n",
    "        print(i)\n",
    "        contributions.append('empty')"
   ]
  },
  {
   "cell_type": "code",
   "execution_count": 28,
   "metadata": {},
   "outputs": [],
   "source": [
    "# No data returned for Representative Chris Collins:\n",
    "# https://www.opensecrets.org/members-of-congress/summary?cid=N00001285&cycle=2018\n",
    "# Collins suspended his campaign on August 11, 2018 after he was indicted for\n",
    "# insider trading \n",
    "# Drop him from data\n",
    "\n",
    "contributions.remove('empty')\n",
    "congress_metadata.drop(congress_metadata[congress_metadata.opensecrets_id\\\n",
    "                       =='N00000267'].index, inplace=True)"
   ]
  },
  {
   "cell_type": "code",
   "execution_count": 35,
   "metadata": {},
   "outputs": [
    {
     "name": "stdout",
     "output_type": "stream",
     "text": [
      "12\n",
      "12\n",
      "12\n",
      "12\n",
      "12\n",
      "12\n",
      "9\n",
      "12\n",
      "12\n",
      "12\n",
      "11\n",
      "12\n",
      "12\n",
      "12\n",
      "12\n",
      "3\n",
      "12\n",
      "1\n",
      "12\n",
      "10\n",
      "11\n",
      "12\n",
      "12\n",
      "12\n",
      "12\n",
      "12\n",
      "12\n",
      "9\n",
      "12\n",
      "12\n",
      "10\n",
      "10\n",
      "12\n",
      "11\n",
      "12\n",
      "11\n",
      "12\n",
      "12\n",
      "12\n",
      "10\n",
      "11\n",
      "11\n",
      "12\n",
      "12\n",
      "12\n",
      "12\n",
      "12\n",
      "11\n",
      "6\n",
      "12\n",
      "12\n",
      "12\n",
      "12\n",
      "12\n",
      "12\n",
      "12\n",
      "12\n",
      "12\n",
      "11\n",
      "12\n",
      "12\n",
      "11\n",
      "8\n",
      "12\n",
      "12\n",
      "11\n",
      "12\n",
      "12\n",
      "12\n",
      "12\n",
      "10\n"
     ]
    }
   ],
   "source": [
    "# JSON objects for each member of Congress vary\n",
    "# For most Congress members, JSON object contain info for 13 sectors\n",
    "# That is not the case for the following\n",
    "for v in contributions:\n",
    "    if len(v) != 13:\n",
    "        print(len(v))"
   ]
  },
  {
   "cell_type": "code",
   "execution_count": 42,
   "metadata": {},
   "outputs": [],
   "source": [
    "# Flatten list of dicts of dicts\n",
    "flat_contributions = []\n",
    "\n",
    "for i,v in enumerate(contributions):\n",
    "    if type(v) == list:\n",
    "        for j in range(len(v)):\n",
    "            contributions[i][j]['@attributes']['os_id'] = ids[i]\n",
    "            flat_contributions.append(contributions[i][j]['@attributes'])\n",
    "    else:\n",
    "        v['@attributes']['os_id'] = ids[i]\n",
    "        flat_contributions.append(v['@attributes'])"
   ]
  },
  {
   "cell_type": "code",
   "execution_count": 43,
   "metadata": {},
   "outputs": [
    {
     "data": {
      "text/plain": [
       "{'sector_name': 'Agribusiness',\n",
       " 'sectorid': 'A',\n",
       " 'indivs': '220786',\n",
       " 'pacs': '95000',\n",
       " 'total': '315786',\n",
       " 'os_id': 'N00003535'}"
      ]
     },
     "execution_count": 43,
     "metadata": {},
     "output_type": "execute_result"
    }
   ],
   "source": [
    "flat_contributions[0]"
   ]
  },
  {
   "cell_type": "code",
   "execution_count": 44,
   "metadata": {},
   "outputs": [],
   "source": [
    "contributions_congress = pd.DataFrame(flat_contributions)"
   ]
  },
  {
   "cell_type": "code",
   "execution_count": 45,
   "metadata": {},
   "outputs": [
    {
     "data": {
      "text/plain": [
       "(6477, 6)"
      ]
     },
     "execution_count": 45,
     "metadata": {},
     "output_type": "execute_result"
    }
   ],
   "source": [
    "contributions_congress.shape"
   ]
  },
  {
   "cell_type": "code",
   "execution_count": 46,
   "metadata": {},
   "outputs": [
    {
     "data": {
      "text/html": [
       "<div>\n",
       "<style scoped>\n",
       "    .dataframe tbody tr th:only-of-type {\n",
       "        vertical-align: middle;\n",
       "    }\n",
       "\n",
       "    .dataframe tbody tr th {\n",
       "        vertical-align: top;\n",
       "    }\n",
       "\n",
       "    .dataframe thead th {\n",
       "        text-align: right;\n",
       "    }\n",
       "</style>\n",
       "<table border=\"1\" class=\"dataframe\">\n",
       "  <thead>\n",
       "    <tr style=\"text-align: right;\">\n",
       "      <th></th>\n",
       "      <th>indivs</th>\n",
       "      <th>os_id</th>\n",
       "      <th>pacs</th>\n",
       "      <th>sector_name</th>\n",
       "      <th>sectorid</th>\n",
       "      <th>total</th>\n",
       "    </tr>\n",
       "  </thead>\n",
       "  <tbody>\n",
       "    <tr>\n",
       "      <th>count</th>\n",
       "      <td>6477</td>\n",
       "      <td>6477</td>\n",
       "      <td>6477</td>\n",
       "      <td>6477</td>\n",
       "      <td>6477</td>\n",
       "      <td>6477</td>\n",
       "    </tr>\n",
       "    <tr>\n",
       "      <th>unique</th>\n",
       "      <td>4372</td>\n",
       "      <td>508</td>\n",
       "      <td>2366</td>\n",
       "      <td>14</td>\n",
       "      <td>14</td>\n",
       "      <td>5274</td>\n",
       "    </tr>\n",
       "    <tr>\n",
       "      <th>top</th>\n",
       "      <td>0</td>\n",
       "      <td>N00000575</td>\n",
       "      <td>0</td>\n",
       "      <td>Finance/Insur/RealEst</td>\n",
       "      <td>F</td>\n",
       "      <td>1000</td>\n",
       "    </tr>\n",
       "    <tr>\n",
       "      <th>freq</th>\n",
       "      <td>689</td>\n",
       "      <td>13</td>\n",
       "      <td>380</td>\n",
       "      <td>507</td>\n",
       "      <td>507</td>\n",
       "      <td>44</td>\n",
       "    </tr>\n",
       "  </tbody>\n",
       "</table>\n",
       "</div>"
      ],
      "text/plain": [
       "       indivs      os_id  pacs            sector_name sectorid total\n",
       "count    6477       6477  6477                   6477     6477  6477\n",
       "unique   4372        508  2366                     14       14  5274\n",
       "top         0  N00000575     0  Finance/Insur/RealEst        F  1000\n",
       "freq      689         13   380                    507      507    44"
      ]
     },
     "execution_count": 46,
     "metadata": {},
     "output_type": "execute_result"
    }
   ],
   "source": [
    "contributions_congress.describe()"
   ]
  },
  {
   "cell_type": "code",
   "execution_count": 47,
   "metadata": {},
   "outputs": [],
   "source": [
    "contributions_congress.to_pickle('contributions_congress.pkl')"
   ]
  }
 ],
 "metadata": {
  "kernelspec": {
   "display_name": "Python 3",
   "language": "python",
   "name": "python3"
  },
  "language_info": {
   "codemirror_mode": {
    "name": "ipython",
    "version": 3
   },
   "file_extension": ".py",
   "mimetype": "text/x-python",
   "name": "python",
   "nbconvert_exporter": "python",
   "pygments_lexer": "ipython3",
   "version": "3.6.6"
  }
 },
 "nbformat": 4,
 "nbformat_minor": 2
}

{
 "cells": [
  {
   "cell_type": "markdown",
   "metadata": {},
   "source": [
    "__Subject:__ Topics of Tweets of US Congress through the Lens of Campaign Finance\n",
    "\n",
    "__Date:__ 09/14/2018\n",
    "\n",
    "__Author:__ Edmund D. Chitwood"
   ]
  },
  {
   "cell_type": "markdown",
   "metadata": {},
   "source": [
    "__Summary:__\n",
    "\n",
    "The following Notebook\n",
    "\n",
    "- shows the amount of PAC money received by Congress Members by state, party, etc.\n",
    "- imports and abbreviates topics for analysis,\n",
    "- shows the top Tweet topics by Congress Members who received the most and least money from PACs to finance their most recent campaigns, and\n",
    "- explores the high level differences between in PAC contributions depending on what Congress Members Tweet about."
   ]
  },
  {
   "cell_type": "code",
   "execution_count": 238,
   "metadata": {},
   "outputs": [],
   "source": [
    "import pandas as pd\n",
    "import pickle\n",
    "import numpy as np\n",
    "from gensim import corpora, models, similarities\n",
    "import seaborn as sns\n",
    "sns.set() # need to set to get seaborn defaults"
   ]
  },
  {
   "cell_type": "code",
   "execution_count": 170,
   "metadata": {},
   "outputs": [],
   "source": [
    "contributions_pacs = pd.read_pickle('contributions_pacs.pkl')"
   ]
  },
  {
   "cell_type": "code",
   "execution_count": 171,
   "metadata": {},
   "outputs": [
    {
     "data": {
      "text/html": [
       "<div>\n",
       "<style scoped>\n",
       "    .dataframe tbody tr th:only-of-type {\n",
       "        vertical-align: middle;\n",
       "    }\n",
       "\n",
       "    .dataframe tbody tr th {\n",
       "        vertical-align: top;\n",
       "    }\n",
       "\n",
       "    .dataframe thead th {\n",
       "        text-align: right;\n",
       "    }\n",
       "</style>\n",
       "<table border=\"1\" class=\"dataframe\">\n",
       "  <thead>\n",
       "    <tr style=\"text-align: right;\">\n",
       "      <th></th>\n",
       "      <th>os_id</th>\n",
       "      <th>pacs</th>\n",
       "    </tr>\n",
       "  </thead>\n",
       "  <tbody>\n",
       "    <tr>\n",
       "      <th>0</th>\n",
       "      <td>N00000078</td>\n",
       "      <td>744634</td>\n",
       "    </tr>\n",
       "    <tr>\n",
       "      <th>1</th>\n",
       "      <td>N00000153</td>\n",
       "      <td>2019609</td>\n",
       "    </tr>\n",
       "    <tr>\n",
       "      <th>2</th>\n",
       "      <td>N00000179</td>\n",
       "      <td>479044</td>\n",
       "    </tr>\n",
       "    <tr>\n",
       "      <th>3</th>\n",
       "      <td>N00000270</td>\n",
       "      <td>2513089</td>\n",
       "    </tr>\n",
       "    <tr>\n",
       "      <th>4</th>\n",
       "      <td>N00000362</td>\n",
       "      <td>1894962</td>\n",
       "    </tr>\n",
       "  </tbody>\n",
       "</table>\n",
       "</div>"
      ],
      "text/plain": [
       "       os_id     pacs\n",
       "0  N00000078   744634\n",
       "1  N00000153  2019609\n",
       "2  N00000179   479044\n",
       "3  N00000270  2513089\n",
       "4  N00000362  1894962"
      ]
     },
     "execution_count": 171,
     "metadata": {},
     "output_type": "execute_result"
    }
   ],
   "source": [
    "contributions_pacs.head()"
   ]
  },
  {
   "cell_type": "code",
   "execution_count": 240,
   "metadata": {},
   "outputs": [],
   "source": [
    "tweet_topics = pd.read_pickle('tweet_topics_links.pkl')"
   ]
  },
  {
   "cell_type": "code",
   "execution_count": 172,
   "metadata": {},
   "outputs": [
    {
     "data": {
      "text/html": [
       "<div>\n",
       "<style scoped>\n",
       "    .dataframe tbody tr th:only-of-type {\n",
       "        vertical-align: middle;\n",
       "    }\n",
       "\n",
       "    .dataframe tbody tr th {\n",
       "        vertical-align: top;\n",
       "    }\n",
       "\n",
       "    .dataframe thead th {\n",
       "        text-align: right;\n",
       "    }\n",
       "</style>\n",
       "<table border=\"1\" class=\"dataframe\">\n",
       "  <thead>\n",
       "    <tr style=\"text-align: right;\">\n",
       "      <th></th>\n",
       "      <th>index</th>\n",
       "      <th>tweets</th>\n",
       "      <th>0</th>\n",
       "      <th>1</th>\n",
       "      <th>2</th>\n",
       "      <th>3</th>\n",
       "      <th>4</th>\n",
       "      <th>5</th>\n",
       "      <th>6</th>\n",
       "      <th>7</th>\n",
       "      <th>...</th>\n",
       "      <th>41</th>\n",
       "      <th>42</th>\n",
       "      <th>43</th>\n",
       "      <th>44</th>\n",
       "      <th>45</th>\n",
       "      <th>46</th>\n",
       "      <th>47</th>\n",
       "      <th>48</th>\n",
       "      <th>49</th>\n",
       "      <th>username</th>\n",
       "    </tr>\n",
       "  </thead>\n",
       "  <tbody>\n",
       "    <tr>\n",
       "      <th>0</th>\n",
       "      <td>0</td>\n",
       "      <td>https://twitter.com/AnthonyBrownMD4/status/103...</td>\n",
       "      <td>NaN</td>\n",
       "      <td>NaN</td>\n",
       "      <td>NaN</td>\n",
       "      <td>0.051439</td>\n",
       "      <td>NaN</td>\n",
       "      <td>NaN</td>\n",
       "      <td>NaN</td>\n",
       "      <td>NaN</td>\n",
       "      <td>...</td>\n",
       "      <td>NaN</td>\n",
       "      <td>NaN</td>\n",
       "      <td>NaN</td>\n",
       "      <td>NaN</td>\n",
       "      <td>NaN</td>\n",
       "      <td>0.049822</td>\n",
       "      <td>NaN</td>\n",
       "      <td>NaN</td>\n",
       "      <td>NaN</td>\n",
       "      <td>anthonybrownmd4</td>\n",
       "    </tr>\n",
       "    <tr>\n",
       "      <th>1</th>\n",
       "      <td>1</td>\n",
       "      <td>https://twitter.com/AnthonyBrownMD4/status/103...</td>\n",
       "      <td>NaN</td>\n",
       "      <td>0.0408</td>\n",
       "      <td>NaN</td>\n",
       "      <td>NaN</td>\n",
       "      <td>NaN</td>\n",
       "      <td>NaN</td>\n",
       "      <td>NaN</td>\n",
       "      <td>0.0408</td>\n",
       "      <td>...</td>\n",
       "      <td>0.0408</td>\n",
       "      <td>NaN</td>\n",
       "      <td>NaN</td>\n",
       "      <td>NaN</td>\n",
       "      <td>NaN</td>\n",
       "      <td>0.040800</td>\n",
       "      <td>NaN</td>\n",
       "      <td>NaN</td>\n",
       "      <td>0.0408</td>\n",
       "      <td>anthonybrownmd4</td>\n",
       "    </tr>\n",
       "    <tr>\n",
       "      <th>2</th>\n",
       "      <td>2</td>\n",
       "      <td>https://twitter.com/AnthonyBrownMD4/status/999...</td>\n",
       "      <td>NaN</td>\n",
       "      <td>NaN</td>\n",
       "      <td>NaN</td>\n",
       "      <td>NaN</td>\n",
       "      <td>NaN</td>\n",
       "      <td>NaN</td>\n",
       "      <td>NaN</td>\n",
       "      <td>NaN</td>\n",
       "      <td>...</td>\n",
       "      <td>NaN</td>\n",
       "      <td>NaN</td>\n",
       "      <td>NaN</td>\n",
       "      <td>NaN</td>\n",
       "      <td>NaN</td>\n",
       "      <td>NaN</td>\n",
       "      <td>NaN</td>\n",
       "      <td>NaN</td>\n",
       "      <td>NaN</td>\n",
       "      <td>anthonybrownmd4</td>\n",
       "    </tr>\n",
       "    <tr>\n",
       "      <th>3</th>\n",
       "      <td>3</td>\n",
       "      <td>https://twitter.com/AnthonyBrownMD4/status/985...</td>\n",
       "      <td>NaN</td>\n",
       "      <td>NaN</td>\n",
       "      <td>0.410252</td>\n",
       "      <td>0.050610</td>\n",
       "      <td>NaN</td>\n",
       "      <td>NaN</td>\n",
       "      <td>NaN</td>\n",
       "      <td>NaN</td>\n",
       "      <td>...</td>\n",
       "      <td>NaN</td>\n",
       "      <td>NaN</td>\n",
       "      <td>NaN</td>\n",
       "      <td>NaN</td>\n",
       "      <td>NaN</td>\n",
       "      <td>NaN</td>\n",
       "      <td>NaN</td>\n",
       "      <td>NaN</td>\n",
       "      <td>NaN</td>\n",
       "      <td>anthonybrownmd4</td>\n",
       "    </tr>\n",
       "    <tr>\n",
       "      <th>4</th>\n",
       "      <td>4</td>\n",
       "      <td>https://twitter.com/AnthonyBrownMD4/status/974...</td>\n",
       "      <td>NaN</td>\n",
       "      <td>NaN</td>\n",
       "      <td>NaN</td>\n",
       "      <td>0.231917</td>\n",
       "      <td>NaN</td>\n",
       "      <td>NaN</td>\n",
       "      <td>NaN</td>\n",
       "      <td>NaN</td>\n",
       "      <td>...</td>\n",
       "      <td>NaN</td>\n",
       "      <td>NaN</td>\n",
       "      <td>NaN</td>\n",
       "      <td>NaN</td>\n",
       "      <td>NaN</td>\n",
       "      <td>0.108892</td>\n",
       "      <td>NaN</td>\n",
       "      <td>NaN</td>\n",
       "      <td>NaN</td>\n",
       "      <td>anthonybrownmd4</td>\n",
       "    </tr>\n",
       "  </tbody>\n",
       "</table>\n",
       "<p>5 rows × 53 columns</p>\n",
       "</div>"
      ],
      "text/plain": [
       "   index                                             tweets   0       1  \\\n",
       "0      0  https://twitter.com/AnthonyBrownMD4/status/103... NaN     NaN   \n",
       "1      1  https://twitter.com/AnthonyBrownMD4/status/103... NaN  0.0408   \n",
       "2      2  https://twitter.com/AnthonyBrownMD4/status/999... NaN     NaN   \n",
       "3      3  https://twitter.com/AnthonyBrownMD4/status/985... NaN     NaN   \n",
       "4      4  https://twitter.com/AnthonyBrownMD4/status/974... NaN     NaN   \n",
       "\n",
       "          2         3   4   5   6       7       ...             41  42  43  \\\n",
       "0       NaN  0.051439 NaN NaN NaN     NaN       ...            NaN NaN NaN   \n",
       "1       NaN       NaN NaN NaN NaN  0.0408       ...         0.0408 NaN NaN   \n",
       "2       NaN       NaN NaN NaN NaN     NaN       ...            NaN NaN NaN   \n",
       "3  0.410252  0.050610 NaN NaN NaN     NaN       ...            NaN NaN NaN   \n",
       "4       NaN  0.231917 NaN NaN NaN     NaN       ...            NaN NaN NaN   \n",
       "\n",
       "   44  45        46  47  48      49         username  \n",
       "0 NaN NaN  0.049822 NaN NaN     NaN  anthonybrownmd4  \n",
       "1 NaN NaN  0.040800 NaN NaN  0.0408  anthonybrownmd4  \n",
       "2 NaN NaN       NaN NaN NaN     NaN  anthonybrownmd4  \n",
       "3 NaN NaN       NaN NaN NaN     NaN  anthonybrownmd4  \n",
       "4 NaN NaN  0.108892 NaN NaN     NaN  anthonybrownmd4  \n",
       "\n",
       "[5 rows x 53 columns]"
      ]
     },
     "execution_count": 172,
     "metadata": {},
     "output_type": "execute_result"
    }
   ],
   "source": [
    "tweet_topics.head()"
   ]
  },
  {
   "cell_type": "code",
   "execution_count": 173,
   "metadata": {},
   "outputs": [],
   "source": [
    "# For merging later:\n",
    "tweet_topics['username'] = (tweet_topics.tweets.apply\n",
    "                           (lambda x: x.split('/')[3].lower()))"
   ]
  },
  {
   "cell_type": "code",
   "execution_count": 174,
   "metadata": {},
   "outputs": [],
   "source": [
    "# Drop Rep. Chris Collins\n",
    "# https://www.opensecrets.org/members-of-congress/summary?cid=N00001285&cycle=2018\n",
    "# Collins suspended his campaign on August 11, 2018 after he was indicted for\n",
    "# insider trading. \n",
    "(tweet_topics.drop(tweet_topics[tweet_topics\n",
    "                                .username=='repchriscollins']\n",
    "                                .index, inplace=True))"
   ]
  },
  {
   "cell_type": "code",
   "execution_count": 175,
   "metadata": {},
   "outputs": [],
   "source": [
    "congress_metadata = pd.read_pickle('congress_metadata.pkl')"
   ]
  },
  {
   "cell_type": "code",
   "execution_count": 176,
   "metadata": {},
   "outputs": [
    {
     "data": {
      "text/html": [
       "<div>\n",
       "<style scoped>\n",
       "    .dataframe tbody tr th:only-of-type {\n",
       "        vertical-align: middle;\n",
       "    }\n",
       "\n",
       "    .dataframe tbody tr th {\n",
       "        vertical-align: top;\n",
       "    }\n",
       "\n",
       "    .dataframe thead th {\n",
       "        text-align: right;\n",
       "    }\n",
       "</style>\n",
       "<table border=\"1\" class=\"dataframe\">\n",
       "  <thead>\n",
       "    <tr style=\"text-align: right;\">\n",
       "      <th></th>\n",
       "      <th>last_name</th>\n",
       "      <th>first_name</th>\n",
       "      <th>birthday</th>\n",
       "      <th>gender</th>\n",
       "      <th>type</th>\n",
       "      <th>state</th>\n",
       "      <th>district</th>\n",
       "      <th>senate_class</th>\n",
       "      <th>party</th>\n",
       "      <th>url</th>\n",
       "      <th>...</th>\n",
       "      <th>opensecrets_id</th>\n",
       "      <th>lis_id</th>\n",
       "      <th>fec_ids</th>\n",
       "      <th>cspan_id</th>\n",
       "      <th>govtrack_id</th>\n",
       "      <th>votesmart_id</th>\n",
       "      <th>ballotpedia_id</th>\n",
       "      <th>washington_post_id</th>\n",
       "      <th>icpsr_id</th>\n",
       "      <th>wikipedia_id</th>\n",
       "    </tr>\n",
       "  </thead>\n",
       "  <tbody>\n",
       "    <tr>\n",
       "      <th>0</th>\n",
       "      <td>Brown</td>\n",
       "      <td>Sherrod</td>\n",
       "      <td>1952-11-09</td>\n",
       "      <td>M</td>\n",
       "      <td>sen</td>\n",
       "      <td>OH</td>\n",
       "      <td>NaN</td>\n",
       "      <td>1.0</td>\n",
       "      <td>Democrat</td>\n",
       "      <td>https://www.brown.senate.gov</td>\n",
       "      <td>...</td>\n",
       "      <td>N00003535</td>\n",
       "      <td>S307</td>\n",
       "      <td>H2OH13033,S6OH00163</td>\n",
       "      <td>5051.0</td>\n",
       "      <td>400050</td>\n",
       "      <td>27018.0</td>\n",
       "      <td>Sherrod Brown</td>\n",
       "      <td>NaN</td>\n",
       "      <td>29389.0</td>\n",
       "      <td>Sherrod Brown</td>\n",
       "    </tr>\n",
       "    <tr>\n",
       "      <th>1</th>\n",
       "      <td>Cantwell</td>\n",
       "      <td>Maria</td>\n",
       "      <td>1958-10-13</td>\n",
       "      <td>F</td>\n",
       "      <td>sen</td>\n",
       "      <td>WA</td>\n",
       "      <td>NaN</td>\n",
       "      <td>1.0</td>\n",
       "      <td>Democrat</td>\n",
       "      <td>https://www.cantwell.senate.gov</td>\n",
       "      <td>...</td>\n",
       "      <td>N00007836</td>\n",
       "      <td>S275</td>\n",
       "      <td>S8WA00194,H2WA01054</td>\n",
       "      <td>26137.0</td>\n",
       "      <td>300018</td>\n",
       "      <td>27122.0</td>\n",
       "      <td>Maria Cantwell</td>\n",
       "      <td>NaN</td>\n",
       "      <td>39310.0</td>\n",
       "      <td>Maria Cantwell</td>\n",
       "    </tr>\n",
       "    <tr>\n",
       "      <th>2</th>\n",
       "      <td>Cardin</td>\n",
       "      <td>Benjamin</td>\n",
       "      <td>1943-10-05</td>\n",
       "      <td>M</td>\n",
       "      <td>sen</td>\n",
       "      <td>MD</td>\n",
       "      <td>NaN</td>\n",
       "      <td>1.0</td>\n",
       "      <td>Democrat</td>\n",
       "      <td>https://www.cardin.senate.gov</td>\n",
       "      <td>...</td>\n",
       "      <td>N00001955</td>\n",
       "      <td>S308</td>\n",
       "      <td>H6MD03177,S6MD03177</td>\n",
       "      <td>4004.0</td>\n",
       "      <td>400064</td>\n",
       "      <td>26888.0</td>\n",
       "      <td>Ben Cardin</td>\n",
       "      <td>NaN</td>\n",
       "      <td>15408.0</td>\n",
       "      <td>Ben Cardin</td>\n",
       "    </tr>\n",
       "    <tr>\n",
       "      <th>3</th>\n",
       "      <td>Carper</td>\n",
       "      <td>Thomas</td>\n",
       "      <td>1947-01-23</td>\n",
       "      <td>M</td>\n",
       "      <td>sen</td>\n",
       "      <td>DE</td>\n",
       "      <td>NaN</td>\n",
       "      <td>1.0</td>\n",
       "      <td>Democrat</td>\n",
       "      <td>https://www.carper.senate.gov/public</td>\n",
       "      <td>...</td>\n",
       "      <td>N00012508</td>\n",
       "      <td>S277</td>\n",
       "      <td>S8DE00079</td>\n",
       "      <td>663.0</td>\n",
       "      <td>300019</td>\n",
       "      <td>22421.0</td>\n",
       "      <td>Tom Carper</td>\n",
       "      <td>NaN</td>\n",
       "      <td>15015.0</td>\n",
       "      <td>Tom Carper</td>\n",
       "    </tr>\n",
       "    <tr>\n",
       "      <th>4</th>\n",
       "      <td>Casey</td>\n",
       "      <td>Robert</td>\n",
       "      <td>1960-04-13</td>\n",
       "      <td>M</td>\n",
       "      <td>sen</td>\n",
       "      <td>PA</td>\n",
       "      <td>NaN</td>\n",
       "      <td>1.0</td>\n",
       "      <td>Democrat</td>\n",
       "      <td>https://www.casey.senate.gov</td>\n",
       "      <td>...</td>\n",
       "      <td>N00027503</td>\n",
       "      <td>S309</td>\n",
       "      <td>S6PA00217</td>\n",
       "      <td>47036.0</td>\n",
       "      <td>412246</td>\n",
       "      <td>2541.0</td>\n",
       "      <td>Bob Casey, Jr.</td>\n",
       "      <td>NaN</td>\n",
       "      <td>40703.0</td>\n",
       "      <td>Bob Casey Jr.</td>\n",
       "    </tr>\n",
       "  </tbody>\n",
       "</table>\n",
       "<p>5 rows × 30 columns</p>\n",
       "</div>"
      ],
      "text/plain": [
       "  last_name first_name    birthday gender type state  district  senate_class  \\\n",
       "0     Brown    Sherrod  1952-11-09      M  sen    OH       NaN           1.0   \n",
       "1  Cantwell      Maria  1958-10-13      F  sen    WA       NaN           1.0   \n",
       "2    Cardin   Benjamin  1943-10-05      M  sen    MD       NaN           1.0   \n",
       "3    Carper     Thomas  1947-01-23      M  sen    DE       NaN           1.0   \n",
       "4     Casey     Robert  1960-04-13      M  sen    PA       NaN           1.0   \n",
       "\n",
       "      party                                   url       ...        \\\n",
       "0  Democrat          https://www.brown.senate.gov       ...         \n",
       "1  Democrat       https://www.cantwell.senate.gov       ...         \n",
       "2  Democrat         https://www.cardin.senate.gov       ...         \n",
       "3  Democrat  https://www.carper.senate.gov/public       ...         \n",
       "4  Democrat          https://www.casey.senate.gov       ...         \n",
       "\n",
       "  opensecrets_id lis_id              fec_ids cspan_id govtrack_id  \\\n",
       "0      N00003535   S307  H2OH13033,S6OH00163   5051.0      400050   \n",
       "1      N00007836   S275  S8WA00194,H2WA01054  26137.0      300018   \n",
       "2      N00001955   S308  H6MD03177,S6MD03177   4004.0      400064   \n",
       "3      N00012508   S277            S8DE00079    663.0      300019   \n",
       "4      N00027503   S309            S6PA00217  47036.0      412246   \n",
       "\n",
       "  votesmart_id  ballotpedia_id washington_post_id icpsr_id    wikipedia_id  \n",
       "0      27018.0   Sherrod Brown                NaN  29389.0   Sherrod Brown  \n",
       "1      27122.0  Maria Cantwell                NaN  39310.0  Maria Cantwell  \n",
       "2      26888.0      Ben Cardin                NaN  15408.0      Ben Cardin  \n",
       "3      22421.0      Tom Carper                NaN  15015.0      Tom Carper  \n",
       "4       2541.0  Bob Casey, Jr.                NaN  40703.0   Bob Casey Jr.  \n",
       "\n",
       "[5 rows x 30 columns]"
      ]
     },
     "execution_count": 176,
     "metadata": {},
     "output_type": "execute_result"
    }
   ],
   "source": [
    "congress_metadata.head()"
   ]
  },
  {
   "cell_type": "code",
   "execution_count": 177,
   "metadata": {},
   "outputs": [],
   "source": [
    "# Drop Representative Chris Collins.\n",
    "(congress_metadata.drop(congress_metadata[congress_metadata.opensecrets_id\n",
    "                                          =='N00001285'].index, inplace=True))\n"
   ]
  },
  {
   "cell_type": "code",
   "execution_count": 178,
   "metadata": {},
   "outputs": [
    {
     "data": {
      "text/html": [
       "<div>\n",
       "<style scoped>\n",
       "    .dataframe tbody tr th:only-of-type {\n",
       "        vertical-align: middle;\n",
       "    }\n",
       "\n",
       "    .dataframe tbody tr th {\n",
       "        vertical-align: top;\n",
       "    }\n",
       "\n",
       "    .dataframe thead th {\n",
       "        text-align: right;\n",
       "    }\n",
       "</style>\n",
       "<table border=\"1\" class=\"dataframe\">\n",
       "  <thead>\n",
       "    <tr style=\"text-align: right;\">\n",
       "      <th></th>\n",
       "      <th>index</th>\n",
       "      <th>tweets</th>\n",
       "      <th>0</th>\n",
       "      <th>1</th>\n",
       "      <th>2</th>\n",
       "      <th>3</th>\n",
       "      <th>4</th>\n",
       "      <th>5</th>\n",
       "      <th>6</th>\n",
       "      <th>7</th>\n",
       "      <th>...</th>\n",
       "      <th>41</th>\n",
       "      <th>42</th>\n",
       "      <th>43</th>\n",
       "      <th>44</th>\n",
       "      <th>45</th>\n",
       "      <th>46</th>\n",
       "      <th>47</th>\n",
       "      <th>48</th>\n",
       "      <th>49</th>\n",
       "      <th>username</th>\n",
       "    </tr>\n",
       "  </thead>\n",
       "  <tbody>\n",
       "    <tr>\n",
       "      <th>0</th>\n",
       "      <td>0</td>\n",
       "      <td>https://twitter.com/AnthonyBrownMD4/status/103...</td>\n",
       "      <td>NaN</td>\n",
       "      <td>NaN</td>\n",
       "      <td>NaN</td>\n",
       "      <td>0.051439</td>\n",
       "      <td>NaN</td>\n",
       "      <td>NaN</td>\n",
       "      <td>NaN</td>\n",
       "      <td>NaN</td>\n",
       "      <td>...</td>\n",
       "      <td>NaN</td>\n",
       "      <td>NaN</td>\n",
       "      <td>NaN</td>\n",
       "      <td>NaN</td>\n",
       "      <td>NaN</td>\n",
       "      <td>0.049822</td>\n",
       "      <td>NaN</td>\n",
       "      <td>NaN</td>\n",
       "      <td>NaN</td>\n",
       "      <td>anthonybrownmd4</td>\n",
       "    </tr>\n",
       "    <tr>\n",
       "      <th>1</th>\n",
       "      <td>1</td>\n",
       "      <td>https://twitter.com/AnthonyBrownMD4/status/103...</td>\n",
       "      <td>NaN</td>\n",
       "      <td>0.0408</td>\n",
       "      <td>NaN</td>\n",
       "      <td>NaN</td>\n",
       "      <td>NaN</td>\n",
       "      <td>NaN</td>\n",
       "      <td>NaN</td>\n",
       "      <td>0.0408</td>\n",
       "      <td>...</td>\n",
       "      <td>0.0408</td>\n",
       "      <td>NaN</td>\n",
       "      <td>NaN</td>\n",
       "      <td>NaN</td>\n",
       "      <td>NaN</td>\n",
       "      <td>0.040800</td>\n",
       "      <td>NaN</td>\n",
       "      <td>NaN</td>\n",
       "      <td>0.0408</td>\n",
       "      <td>anthonybrownmd4</td>\n",
       "    </tr>\n",
       "    <tr>\n",
       "      <th>2</th>\n",
       "      <td>2</td>\n",
       "      <td>https://twitter.com/AnthonyBrownMD4/status/999...</td>\n",
       "      <td>NaN</td>\n",
       "      <td>NaN</td>\n",
       "      <td>NaN</td>\n",
       "      <td>NaN</td>\n",
       "      <td>NaN</td>\n",
       "      <td>NaN</td>\n",
       "      <td>NaN</td>\n",
       "      <td>NaN</td>\n",
       "      <td>...</td>\n",
       "      <td>NaN</td>\n",
       "      <td>NaN</td>\n",
       "      <td>NaN</td>\n",
       "      <td>NaN</td>\n",
       "      <td>NaN</td>\n",
       "      <td>NaN</td>\n",
       "      <td>NaN</td>\n",
       "      <td>NaN</td>\n",
       "      <td>NaN</td>\n",
       "      <td>anthonybrownmd4</td>\n",
       "    </tr>\n",
       "    <tr>\n",
       "      <th>3</th>\n",
       "      <td>3</td>\n",
       "      <td>https://twitter.com/AnthonyBrownMD4/status/985...</td>\n",
       "      <td>NaN</td>\n",
       "      <td>NaN</td>\n",
       "      <td>0.410252</td>\n",
       "      <td>0.050610</td>\n",
       "      <td>NaN</td>\n",
       "      <td>NaN</td>\n",
       "      <td>NaN</td>\n",
       "      <td>NaN</td>\n",
       "      <td>...</td>\n",
       "      <td>NaN</td>\n",
       "      <td>NaN</td>\n",
       "      <td>NaN</td>\n",
       "      <td>NaN</td>\n",
       "      <td>NaN</td>\n",
       "      <td>NaN</td>\n",
       "      <td>NaN</td>\n",
       "      <td>NaN</td>\n",
       "      <td>NaN</td>\n",
       "      <td>anthonybrownmd4</td>\n",
       "    </tr>\n",
       "    <tr>\n",
       "      <th>4</th>\n",
       "      <td>4</td>\n",
       "      <td>https://twitter.com/AnthonyBrownMD4/status/974...</td>\n",
       "      <td>NaN</td>\n",
       "      <td>NaN</td>\n",
       "      <td>NaN</td>\n",
       "      <td>0.231917</td>\n",
       "      <td>NaN</td>\n",
       "      <td>NaN</td>\n",
       "      <td>NaN</td>\n",
       "      <td>NaN</td>\n",
       "      <td>...</td>\n",
       "      <td>NaN</td>\n",
       "      <td>NaN</td>\n",
       "      <td>NaN</td>\n",
       "      <td>NaN</td>\n",
       "      <td>NaN</td>\n",
       "      <td>0.108892</td>\n",
       "      <td>NaN</td>\n",
       "      <td>NaN</td>\n",
       "      <td>NaN</td>\n",
       "      <td>anthonybrownmd4</td>\n",
       "    </tr>\n",
       "  </tbody>\n",
       "</table>\n",
       "<p>5 rows × 53 columns</p>\n",
       "</div>"
      ],
      "text/plain": [
       "   index                                             tweets   0       1  \\\n",
       "0      0  https://twitter.com/AnthonyBrownMD4/status/103... NaN     NaN   \n",
       "1      1  https://twitter.com/AnthonyBrownMD4/status/103... NaN  0.0408   \n",
       "2      2  https://twitter.com/AnthonyBrownMD4/status/999... NaN     NaN   \n",
       "3      3  https://twitter.com/AnthonyBrownMD4/status/985... NaN     NaN   \n",
       "4      4  https://twitter.com/AnthonyBrownMD4/status/974... NaN     NaN   \n",
       "\n",
       "          2         3   4   5   6       7       ...             41  42  43  \\\n",
       "0       NaN  0.051439 NaN NaN NaN     NaN       ...            NaN NaN NaN   \n",
       "1       NaN       NaN NaN NaN NaN  0.0408       ...         0.0408 NaN NaN   \n",
       "2       NaN       NaN NaN NaN NaN     NaN       ...            NaN NaN NaN   \n",
       "3  0.410252  0.050610 NaN NaN NaN     NaN       ...            NaN NaN NaN   \n",
       "4       NaN  0.231917 NaN NaN NaN     NaN       ...            NaN NaN NaN   \n",
       "\n",
       "   44  45        46  47  48      49         username  \n",
       "0 NaN NaN  0.049822 NaN NaN     NaN  anthonybrownmd4  \n",
       "1 NaN NaN  0.040800 NaN NaN  0.0408  anthonybrownmd4  \n",
       "2 NaN NaN       NaN NaN NaN     NaN  anthonybrownmd4  \n",
       "3 NaN NaN       NaN NaN NaN     NaN  anthonybrownmd4  \n",
       "4 NaN NaN  0.108892 NaN NaN     NaN  anthonybrownmd4  \n",
       "\n",
       "[5 rows x 53 columns]"
      ]
     },
     "execution_count": 178,
     "metadata": {},
     "output_type": "execute_result"
    }
   ],
   "source": [
    "tweet_topics.head()"
   ]
  },
  {
   "cell_type": "code",
   "execution_count": 179,
   "metadata": {},
   "outputs": [],
   "source": [
    "contributions_meta = (pd.merge(contributions_pacs, congress_metadata, left_on\n",
    "                              ='os_id', right_on='opensecrets_id'))"
   ]
  },
  {
   "cell_type": "code",
   "execution_count": 180,
   "metadata": {},
   "outputs": [
    {
     "data": {
      "text/plain": [
       "Index(['os_id', 'pacs', 'last_name', 'first_name', 'birthday', 'gender',\n",
       "       'type', 'state', 'district', 'senate_class', 'party', 'url', 'address',\n",
       "       'phone', 'contact_form', 'rss_url', 'twitter', 'facebook', 'youtube',\n",
       "       'youtube_id', 'bioguide_id', 'thomas_id', 'opensecrets_id', 'lis_id',\n",
       "       'fec_ids', 'cspan_id', 'govtrack_id', 'votesmart_id', 'ballotpedia_id',\n",
       "       'washington_post_id', 'icpsr_id', 'wikipedia_id'],\n",
       "      dtype='object')"
      ]
     },
     "execution_count": 180,
     "metadata": {},
     "output_type": "execute_result"
    }
   ],
   "source": [
    "contributions_meta.columns"
   ]
  },
  {
   "cell_type": "code",
   "execution_count": 181,
   "metadata": {},
   "outputs": [],
   "source": [
    "contributions_meta = (contributions_meta[['os_id','pacs','state','party',\n",
    "                                          'twitter', 'last_name','first_name',\n",
    "                                          'gender','senate_class','type']])"
   ]
  },
  {
   "cell_type": "code",
   "execution_count": 237,
   "metadata": {},
   "outputs": [
    {
     "data": {
      "text/plain": [
       "<matplotlib.axes._subplots.AxesSubplot at 0x1732cb6a0>"
      ]
     },
     "execution_count": 237,
     "metadata": {},
     "output_type": "execute_result"
    },
    {
     "data": {
      "image/png": "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\n",
      "text/plain": [
       "<Figure size 432x288 with 1 Axes>"
      ]
     },
     "metadata": {},
     "output_type": "display_data"
    }
   ],
   "source": [
    "# The majority of Congress Members received under $1 million from PACs.\n",
    "# However, several Congress Members received over $5 million from PACs.\n",
    "contributions_meta.pacs.hist(bins=10)"
   ]
  },
  {
   "cell_type": "code",
   "execution_count": 184,
   "metadata": {},
   "outputs": [
    {
     "data": {
      "text/plain": [
       "997719.6213017751"
      ]
     },
     "execution_count": 184,
     "metadata": {},
     "output_type": "execute_result"
    }
   ],
   "source": [
    "# The average Congress Member took almost $1,000,000 dollars from PACS to \n",
    "# to finance their most recent campaign.\n",
    "(contributions_meta\n",
    "    .pacs\n",
    "    .mean())"
   ]
  },
  {
   "cell_type": "code",
   "execution_count": 186,
   "metadata": {},
   "outputs": [
    {
     "data": {
      "text/plain": [
       "party\n",
       "Democrat       8.785913e+05\n",
       "Independent    6.627935e+05\n",
       "Republican     1.101411e+06\n",
       "Name: pacs, dtype: float64"
      ]
     },
     "execution_count": 186,
     "metadata": {},
     "output_type": "execute_result"
    }
   ],
   "source": [
    "# The average Republican Congress Member took $1.1 Million dollars, over\n",
    "# $200,000 more than the average Democrat took.\n",
    "(contributions_meta\n",
    "    .groupby('party')\n",
    "    .pacs\n",
    "    .mean())"
   ]
  },
  {
   "cell_type": "code",
   "execution_count": 187,
   "metadata": {},
   "outputs": [
    {
     "data": {
      "text/plain": [
       "gender\n",
       "F    8.619670e+05\n",
       "M    1.033177e+06\n",
       "Name: pacs, dtype: float64"
      ]
     },
     "execution_count": 187,
     "metadata": {},
     "output_type": "execute_result"
    }
   ],
   "source": [
    "# Male Members of Congress took over $150,000 more than did Female Members of \n",
    "# Congress.\n",
    "(contributions_meta\n",
    "    .groupby('gender')\n",
    "    .pacs\n",
    "    .mean())"
   ]
  },
  {
   "cell_type": "code",
   "execution_count": 19,
   "metadata": {},
   "outputs": [
    {
     "data": {
      "text/plain": [
       "state\n",
       "MT    2.801525e+06\n",
       "DE    2.079046e+06\n",
       "ND    2.000293e+06\n",
       "SD    1.937467e+06\n",
       "WY    1.898909e+06\n",
       "Name: pacs, dtype: float64"
      ]
     },
     "execution_count": 19,
     "metadata": {},
     "output_type": "execute_result"
    }
   ],
   "source": [
    "# The five states whose Congress Members received the most PAC money \n",
    "# during their last campaigns have just one Member in the House of \n",
    "# Representatives, due to their low populations. Therefore, the ratios of \n",
    "# US Senators to US Representatives in those states are uncommonly high.\n",
    "(contributions_meta\n",
    "    .groupby('state')\n",
    "    .pacs\n",
    "    .mean()\n",
    "    .sort_values(ascending=False)\n",
    "    .head())"
   ]
  },
  {
   "cell_type": "code",
   "execution_count": 20,
   "metadata": {},
   "outputs": [
    {
     "data": {
      "text/plain": [
       "type\n",
       "rep    6.432884e+05\n",
       "sen    2.515128e+06\n",
       "Name: pacs, dtype: float64"
      ]
     },
     "execution_count": 20,
     "metadata": {},
     "output_type": "execute_result"
    }
   ],
   "source": [
    "# US Senators receive about four times as much PAC money as US\n",
    "# Representatives do.\n",
    "(contributions_meta\n",
    "    .groupby('type')\n",
    "    .pacs\n",
    "    .mean())"
   ]
  },
  {
   "cell_type": "code",
   "execution_count": 194,
   "metadata": {},
   "outputs": [
    {
     "data": {
      "text/plain": [
       "state\n",
       "OH    4585344.0\n",
       "PA    4448134.5\n",
       "SC    3936951.5\n",
       "MO    3798196.5\n",
       "NC    3513402.5\n",
       "Name: pacs, dtype: float64"
      ]
     },
     "execution_count": 194,
     "metadata": {},
     "output_type": "execute_result"
    }
   ],
   "source": [
    "# The states whose US Senators took the most money from PACs on\n",
    "# average:\n",
    "(contributions_meta[contributions_meta.type=='sen']\n",
    "    .groupby(['state'])\n",
    "    .pacs\n",
    "    .mean()\n",
    "    .sort_values(ascending=False)\n",
    "    .head())"
   ]
  },
  {
   "cell_type": "code",
   "execution_count": 196,
   "metadata": {},
   "outputs": [
    {
     "data": {
      "text/plain": [
       "state\n",
       "VT     841816.5\n",
       "CA    1086992.5\n",
       "AZ    1461868.0\n",
       "MA    1475381.0\n",
       "RI    1573027.5\n",
       "Name: pacs, dtype: float64"
      ]
     },
     "execution_count": 196,
     "metadata": {},
     "output_type": "execute_result"
    }
   ],
   "source": [
    "# The states whose US Senators took the least money from PACs on \n",
    "# average:\n",
    "(contributions_meta[contributions_meta.type=='sen']\n",
    "    .groupby(['state'])\n",
    "    .pacs\n",
    "    .mean()\n",
    "    .sort_values(ascending=True)\n",
    "    .head())"
   ]
  },
  {
   "cell_type": "code",
   "execution_count": 193,
   "metadata": {},
   "outputs": [
    {
     "data": {
      "text/plain": [
       "state\n",
       "OR    1.129690e+06\n",
       "MO    9.865974e+05\n",
       "LA    9.486040e+05\n",
       "IL    8.949859e+05\n",
       "WI    8.287786e+05\n",
       "Name: pacs, dtype: float64"
      ]
     },
     "execution_count": 193,
     "metadata": {},
     "output_type": "execute_result"
    }
   ],
   "source": [
    "# The states whose US Representatives took the most money from PACs on \n",
    "# average:\n",
    "(contributions_meta[contributions_meta.type=='rep']\n",
    "    .groupby(['state'])\n",
    "    .pacs\n",
    "    .mean()\n",
    "    .sort_values(ascending=False)\n",
    "    .head())"
   ]
  },
  {
   "cell_type": "code",
   "execution_count": 192,
   "metadata": {},
   "outputs": [
    {
     "data": {
      "text/plain": [
       "state\n",
       "NM    17500.0\n",
       "SD    24225.0\n",
       "PR    26700.0\n",
       "AS    40250.0\n",
       "HI    72491.5\n",
       "Name: pacs, dtype: float64"
      ]
     },
     "execution_count": 192,
     "metadata": {},
     "output_type": "execute_result"
    }
   ],
   "source": [
    "# The states whose US Representatives took the least money from PACs on \n",
    "# average: (Puerto Rico and American Samoa are included)\n",
    "(contributions_meta[contributions_meta.type=='rep']\n",
    "    .groupby(['state'])\n",
    "    .pacs\n",
    "    .mean()\n",
    "    .sort_values(ascending=True)\n",
    "    .head())"
   ]
  },
  {
   "cell_type": "code",
   "execution_count": 197,
   "metadata": {},
   "outputs": [],
   "source": [
    "contributions_meta_topics = (pd.merge(contributions_meta,\n",
    "                                     tweet_topics, left_on='twitter',\n",
    "                                     right_on='username'))"
   ]
  },
  {
   "cell_type": "code",
   "execution_count": 198,
   "metadata": {},
   "outputs": [
    {
     "data": {
      "text/html": [
       "<div>\n",
       "<style scoped>\n",
       "    .dataframe tbody tr th:only-of-type {\n",
       "        vertical-align: middle;\n",
       "    }\n",
       "\n",
       "    .dataframe tbody tr th {\n",
       "        vertical-align: top;\n",
       "    }\n",
       "\n",
       "    .dataframe thead th {\n",
       "        text-align: right;\n",
       "    }\n",
       "</style>\n",
       "<table border=\"1\" class=\"dataframe\">\n",
       "  <thead>\n",
       "    <tr style=\"text-align: right;\">\n",
       "      <th></th>\n",
       "      <th>os_id</th>\n",
       "      <th>pacs</th>\n",
       "      <th>state</th>\n",
       "      <th>party</th>\n",
       "      <th>twitter</th>\n",
       "      <th>last_name</th>\n",
       "      <th>first_name</th>\n",
       "      <th>gender</th>\n",
       "      <th>senate_class</th>\n",
       "      <th>type</th>\n",
       "      <th>...</th>\n",
       "      <th>41</th>\n",
       "      <th>42</th>\n",
       "      <th>43</th>\n",
       "      <th>44</th>\n",
       "      <th>45</th>\n",
       "      <th>46</th>\n",
       "      <th>47</th>\n",
       "      <th>48</th>\n",
       "      <th>49</th>\n",
       "      <th>username</th>\n",
       "    </tr>\n",
       "  </thead>\n",
       "  <tbody>\n",
       "    <tr>\n",
       "      <th>0</th>\n",
       "      <td>N00000078</td>\n",
       "      <td>744634</td>\n",
       "      <td>NY</td>\n",
       "      <td>Democrat</td>\n",
       "      <td>repmaloney</td>\n",
       "      <td>Maloney</td>\n",
       "      <td>Carolyn</td>\n",
       "      <td>F</td>\n",
       "      <td>NaN</td>\n",
       "      <td>rep</td>\n",
       "      <td>...</td>\n",
       "      <td>NaN</td>\n",
       "      <td>NaN</td>\n",
       "      <td>NaN</td>\n",
       "      <td>NaN</td>\n",
       "      <td>NaN</td>\n",
       "      <td>NaN</td>\n",
       "      <td>NaN</td>\n",
       "      <td>NaN</td>\n",
       "      <td>NaN</td>\n",
       "      <td>repmaloney</td>\n",
       "    </tr>\n",
       "    <tr>\n",
       "      <th>1</th>\n",
       "      <td>N00000078</td>\n",
       "      <td>744634</td>\n",
       "      <td>NY</td>\n",
       "      <td>Democrat</td>\n",
       "      <td>repmaloney</td>\n",
       "      <td>Maloney</td>\n",
       "      <td>Carolyn</td>\n",
       "      <td>F</td>\n",
       "      <td>NaN</td>\n",
       "      <td>rep</td>\n",
       "      <td>...</td>\n",
       "      <td>NaN</td>\n",
       "      <td>NaN</td>\n",
       "      <td>NaN</td>\n",
       "      <td>NaN</td>\n",
       "      <td>NaN</td>\n",
       "      <td>NaN</td>\n",
       "      <td>NaN</td>\n",
       "      <td>NaN</td>\n",
       "      <td>NaN</td>\n",
       "      <td>repmaloney</td>\n",
       "    </tr>\n",
       "    <tr>\n",
       "      <th>2</th>\n",
       "      <td>N00000078</td>\n",
       "      <td>744634</td>\n",
       "      <td>NY</td>\n",
       "      <td>Democrat</td>\n",
       "      <td>repmaloney</td>\n",
       "      <td>Maloney</td>\n",
       "      <td>Carolyn</td>\n",
       "      <td>F</td>\n",
       "      <td>NaN</td>\n",
       "      <td>rep</td>\n",
       "      <td>...</td>\n",
       "      <td>NaN</td>\n",
       "      <td>NaN</td>\n",
       "      <td>NaN</td>\n",
       "      <td>NaN</td>\n",
       "      <td>NaN</td>\n",
       "      <td>0.102</td>\n",
       "      <td>NaN</td>\n",
       "      <td>NaN</td>\n",
       "      <td>NaN</td>\n",
       "      <td>repmaloney</td>\n",
       "    </tr>\n",
       "    <tr>\n",
       "      <th>3</th>\n",
       "      <td>N00000078</td>\n",
       "      <td>744634</td>\n",
       "      <td>NY</td>\n",
       "      <td>Democrat</td>\n",
       "      <td>repmaloney</td>\n",
       "      <td>Maloney</td>\n",
       "      <td>Carolyn</td>\n",
       "      <td>F</td>\n",
       "      <td>NaN</td>\n",
       "      <td>rep</td>\n",
       "      <td>...</td>\n",
       "      <td>NaN</td>\n",
       "      <td>NaN</td>\n",
       "      <td>NaN</td>\n",
       "      <td>NaN</td>\n",
       "      <td>NaN</td>\n",
       "      <td>0.102</td>\n",
       "      <td>NaN</td>\n",
       "      <td>NaN</td>\n",
       "      <td>NaN</td>\n",
       "      <td>repmaloney</td>\n",
       "    </tr>\n",
       "    <tr>\n",
       "      <th>4</th>\n",
       "      <td>N00000078</td>\n",
       "      <td>744634</td>\n",
       "      <td>NY</td>\n",
       "      <td>Democrat</td>\n",
       "      <td>repmaloney</td>\n",
       "      <td>Maloney</td>\n",
       "      <td>Carolyn</td>\n",
       "      <td>F</td>\n",
       "      <td>NaN</td>\n",
       "      <td>rep</td>\n",
       "      <td>...</td>\n",
       "      <td>NaN</td>\n",
       "      <td>NaN</td>\n",
       "      <td>NaN</td>\n",
       "      <td>NaN</td>\n",
       "      <td>NaN</td>\n",
       "      <td>0.051</td>\n",
       "      <td>NaN</td>\n",
       "      <td>NaN</td>\n",
       "      <td>NaN</td>\n",
       "      <td>repmaloney</td>\n",
       "    </tr>\n",
       "  </tbody>\n",
       "</table>\n",
       "<p>5 rows × 63 columns</p>\n",
       "</div>"
      ],
      "text/plain": [
       "       os_id    pacs state     party     twitter last_name first_name gender  \\\n",
       "0  N00000078  744634    NY  Democrat  repmaloney   Maloney    Carolyn      F   \n",
       "1  N00000078  744634    NY  Democrat  repmaloney   Maloney    Carolyn      F   \n",
       "2  N00000078  744634    NY  Democrat  repmaloney   Maloney    Carolyn      F   \n",
       "3  N00000078  744634    NY  Democrat  repmaloney   Maloney    Carolyn      F   \n",
       "4  N00000078  744634    NY  Democrat  repmaloney   Maloney    Carolyn      F   \n",
       "\n",
       "   senate_class type     ...      41  42  43  44  45     46  47  48  49  \\\n",
       "0           NaN  rep     ...     NaN NaN NaN NaN NaN    NaN NaN NaN NaN   \n",
       "1           NaN  rep     ...     NaN NaN NaN NaN NaN    NaN NaN NaN NaN   \n",
       "2           NaN  rep     ...     NaN NaN NaN NaN NaN  0.102 NaN NaN NaN   \n",
       "3           NaN  rep     ...     NaN NaN NaN NaN NaN  0.102 NaN NaN NaN   \n",
       "4           NaN  rep     ...     NaN NaN NaN NaN NaN  0.051 NaN NaN NaN   \n",
       "\n",
       "     username  \n",
       "0  repmaloney  \n",
       "1  repmaloney  \n",
       "2  repmaloney  \n",
       "3  repmaloney  \n",
       "4  repmaloney  \n",
       "\n",
       "[5 rows x 63 columns]"
      ]
     },
     "execution_count": 198,
     "metadata": {},
     "output_type": "execute_result"
    }
   ],
   "source": [
    "contributions_meta_topics.head()"
   ]
  },
  {
   "cell_type": "code",
   "execution_count": 199,
   "metadata": {},
   "outputs": [
    {
     "data": {
      "text/plain": [
       "Index([       'os_id',         'pacs',        'state',        'party',\n",
       "            'twitter',    'last_name',   'first_name',       'gender',\n",
       "       'senate_class',         'type',        'index',       'tweets',\n",
       "                    0,              1,              2,              3,\n",
       "                    4,              5,              6,              7,\n",
       "                    8,              9,             10,             11,\n",
       "                   12,             13,             14,             15,\n",
       "                   16,             17,             18,             19,\n",
       "                   20,             21,             22,             23,\n",
       "                   24,             25,             26,             27,\n",
       "                   28,             29,             30,             31,\n",
       "                   32,             33,             34,             35,\n",
       "                   36,             37,             38,             39,\n",
       "                   40,             41,             42,             43,\n",
       "                   44,             45,             46,             47,\n",
       "                   48,             49,     'username'],\n",
       "      dtype='object')"
      ]
     },
     "execution_count": 199,
     "metadata": {},
     "output_type": "execute_result"
    }
   ],
   "source": [
    "contributions_meta_topics.columns"
   ]
  },
  {
   "cell_type": "code",
   "execution_count": 27,
   "metadata": {},
   "outputs": [],
   "source": [
    "# Import model to review and abbreviate topics.\n",
    "lda =  models.LdaModel.load('lda.model')"
   ]
  },
  {
   "cell_type": "code",
   "execution_count": 15,
   "metadata": {},
   "outputs": [
    {
     "name": "stderr",
     "output_type": "stream",
     "text": [
      "2018-09-13 11:33:27,301 : INFO : topic #0 (0.020): 0.079*\"va\" + 0.061*\"take\" + 0.046*\"federal\" + 0.037*\"veterans\" + 0.035*\"better\" + 0.031*\"government\" + 0.027*\"ensure\" + 0.027*\"deserve\" + 0.025*\"benefits\" + 0.025*\"speak\"\n",
      "2018-09-13 11:33:27,306 : INFO : topic #1 (0.020): 0.073*\"working\" + 0.053*\"community\" + 0.038*\"hear\" + 0.036*\"look\" + 0.034*\"rights\" + 0.032*\"children\" + 0.028*\"kids\" + 0.021*\"de\" + 0.021*\"income\" + 0.015*\"human\"\n",
      "2018-09-13 11:33:27,309 : INFO : topic #2 (0.020): 0.059*\"security\" + 0.043*\"vote\" + 0.037*\"lets\" + 0.034*\"access\" + 0.032*\"republicans\" + 0.026*\"find\" + 0.026*\"billion\" + 0.025*\"obamacare\" + 0.025*\"social\" + 0.022*\"repeal\"\n",
      "2018-09-13 11:33:27,313 : INFO : topic #3 (0.020): 0.073*\"first\" + 0.072*\"stop\" + 0.037*\"oped\" + 0.031*\"use\" + 0.029*\"may\" + 0.027*\"hold\" + 0.025*\"reduce\" + 0.016*\"nothing\" + 0.016*\"old\" + 0.016*\"officials\"\n",
      "2018-09-13 11:33:27,316 : INFO : topic #4 (0.020): 0.065*\"visit\" + 0.062*\"joined\" + 0.041*\"colleagues\" + 0.027*\"weekend\" + 0.026*\"two\" + 0.023*\"weeks\" + 0.020*\"strengthen\" + 0.018*\"today\" + 0.017*\"opening\" + 0.016*\"park\"\n",
      "2018-09-13 11:33:27,320 : INFO : topic #5 (0.020): 0.140*\"read\" + 0.083*\"rt\" + 0.032*\"mt\" + 0.027*\"food\" + 0.022*\"sexual\" + 0.020*\"street\" + 0.020*\"assault\" + 0.019*\"nearly\" + 0.019*\"victory\" + 0.018*\"expand\"\n",
      "2018-09-13 11:33:27,323 : INFO : topic #6 (0.020): 0.046*\"cant\" + 0.045*\"spoke\" + 0.033*\"court\" + 0.030*\"say\" + 0.030*\"calls\" + 0.022*\"earlier\" + 0.021*\"believe\" + 0.021*\"move\" + 0.020*\"past\" + 0.019*\"supreme\"\n",
      "2018-09-13 11:33:27,328 : INFO : topic #7 (0.020): 0.112*\"people\" + 0.099*\"american\" + 0.065*\"protect\" + 0.044*\"happening\" + 0.041*\"want\" + 0.039*\"funding\" + 0.022*\"trade\" + 0.020*\"political\" + 0.018*\"stabenow\" + 0.016*\"must\"\n",
      "2018-09-13 11:33:27,331 : INFO : topic #8 (0.020): 0.048*\"world\" + 0.043*\"change\" + 0.038*\"crisis\" + 0.037*\"climate\" + 0.033*\"war\" + 0.026*\"iran\" + 0.026*\"fair\" + 0.025*\"immigration\" + 0.025*\"lead\" + 0.025*\"us\"\n",
      "2018-09-13 11:33:27,335 : INFO : topic #9 (0.020): 0.128*\"day\" + 0.068*\"years\" + 0.044*\"coming\" + 0.042*\"today\" + 0.027*\"ago\" + 0.024*\"pmet\" + 0.022*\"discussing\" + 0.018*\"capitol\" + 0.017*\"development\" + 0.016*\"approach\"\n",
      "2018-09-13 11:33:27,338 : INFO : topic #10 (0.020): 0.103*\"get\" + 0.091*\"state\" + 0.057*\"check\" + 0.043*\"washington\" + 0.031*\"days\" + 0.028*\"presidents\" + 0.026*\"special\" + 0.025*\"record\" + 0.021*\"without\" + 0.016*\"investigation\"\n",
      "2018-09-13 11:33:27,342 : INFO : topic #11 (0.020): 0.076*\"fight\" + 0.061*\"st\" + 0.039*\"step\" + 0.038*\"going\" + 0.038*\"strong\" + 0.030*\"remember\" + 0.027*\"protecting\" + 0.024*\"wall\" + 0.020*\"corporate\" + 0.016*\"today\"\n",
      "2018-09-13 11:33:27,346 : INFO : topic #12 (0.020): 0.084*\"keep\" + 0.065*\"law\" + 0.042*\"sign\" + 0.039*\"safe\" + 0.031*\"fighting\" + 0.029*\"even\" + 0.026*\"thx\" + 0.019*\"receive\" + 0.019*\"research\" + 0.018*\"award\"\n",
      "2018-09-13 11:33:27,350 : INFO : topic #13 (0.020): 0.129*\"make\" + 0.041*\"top\" + 0.041*\"sure\" + 0.034*\"real\" + 0.033*\"power\" + 0.021*\"voice\" + 0.020*\"missed\" + 0.020*\"fix\" + 0.020*\"heard\" + 0.020*\"fund\"\n",
      "2018-09-13 11:33:27,354 : INFO : topic #14 (0.020): 0.057*\"hatch\" + 0.053*\"meet\" + 0.039*\"everyone\" + 0.038*\"justice\" + 0.036*\"come\" + 0.036*\"got\" + 0.034*\"much\" + 0.029*\"done\" + 0.015*\"ban\" + 0.015*\"called\"\n",
      "2018-09-13 11:33:27,358 : INFO : topic #15 (0.020): 0.074*\"budget\" + 0.072*\"women\" + 0.048*\"hearing\" + 0.038*\"committee\" + 0.037*\"create\" + 0.033*\"ohio\" + 0.028*\"hard\" + 0.022*\"men\" + 0.021*\"defense\" + 0.021*\"secretary\"\n",
      "2018-09-13 11:33:27,361 : INFO : topic #16 (0.020): 0.157*\"bill\" + 0.107*\"act\" + 0.053*\"bipartisan\" + 0.038*\"legislation\" + 0.034*\"amendment\" + 0.031*\"passed\" + 0.028*\"would\" + 0.026*\"today\" + 0.025*\"voted\" + 0.022*\"house\"\n",
      "2018-09-13 11:33:27,365 : INFO : topic #17 (0.020): 0.056*\"energy\" + 0.054*\"economic\" + 0.045*\"program\" + 0.031*\"deal\" + 0.029*\"report\" + 0.027*\"growth\" + 0.027*\"jobs\" + 0.026*\"story\" + 0.023*\"calling\" + 0.022*\"water\"\n",
      "2018-09-13 11:33:27,369 : INFO : topic #18 (0.020): 0.157*\"senate\" + 0.067*\"must\" + 0.034*\"continue\" + 0.033*\"pass\" + 0.029*\"action\" + 0.028*\"congress\" + 0.026*\"give\" + 0.024*\"agree\" + 0.023*\"us\" + 0.018*\"since\"\n",
      "2018-09-13 11:33:27,372 : INFO : topic #19 (0.020): 0.116*\"support\" + 0.096*\"proud\" + 0.045*\"every\" + 0.042*\"military\" + 0.033*\"students\" + 0.029*\"communities\" + 0.022*\"nations\" + 0.019*\"help\" + 0.018*\"month\" + 0.016*\"schools\"\n",
      "2018-09-13 11:33:27,376 : INFO : topic #20 (0.020): 0.090*\"president\" + 0.072*\"congrats\" + 0.054*\"obama\" + 0.041*\"trump\" + 0.034*\"plan\" + 0.026*\"history\" + 0.023*\"debate\" + 0.019*\"anniversary\" + 0.019*\"election\" + 0.017*\"talent\"\n",
      "2018-09-13 11:33:27,380 : INFO : topic #21 (0.020): 0.075*\"happy\" + 0.065*\"th\" + 0.061*\"america\" + 0.032*\"birthday\" + 0.031*\"drug\" + 0.029*\"friend\" + 0.024*\"celebrate\" + 0.024*\"arkansas\" + 0.024*\"getting\" + 0.020*\"ri\"\n",
      "2018-09-13 11:33:27,384 : INFO : topic #22 (0.020): 0.093*\"jobs\" + 0.088*\"join\" + 0.085*\"economy\" + 0.043*\"please\" + 0.036*\"address\" + 0.032*\"issues\" + 0.024*\"us\" + 0.023*\"tus\" + 0.021*\"helping\" + 0.020*\"help\"\n",
      "2018-09-13 11:33:27,388 : INFO : topic #23 (0.020): 0.102*\"last\" + 0.072*\"back\" + 0.040*\"night\" + 0.034*\"ny\" + 0.030*\"also\" + 0.028*\"part\" + 0.027*\"bring\" + 0.023*\"review\" + 0.022*\"newsletter\" + 0.019*\"facebook\"\n",
      "2018-09-13 11:33:27,392 : INFO : topic #24 (0.020): 0.122*\"good\" + 0.045*\"learn\" + 0.040*\"met\" + 0.030*\"today\" + 0.029*\"questions\" + 0.028*\"team\" + 0.028*\"always\" + 0.028*\"start\" + 0.027*\"open\" + 0.027*\"luck\"\n",
      "2018-09-13 11:33:27,395 : INFO : topic #25 (0.020): 0.177*\"sanders\" + 0.069*\"talking\" + 0.055*\"talk\" + 0.051*\"listen\" + 0.050*\"way\" + 0.030*\"ivt\" + 0.022*\"sanderssenategovnewsroomnews\" + 0.016*\"headed\" + 0.016*\"atch\" + 0.016*\"sanderssenategovnewsroomnewsw\"\n",
      "2018-09-13 11:33:27,399 : INFO : topic #26 (0.020): 0.139*\"watch\" + 0.108*\"live\" + 0.085*\"discuss\" + 0.064*\"morning\" + 0.047*\"pm\" + 0.039*\"joining\" + 0.030*\"tomorrow\" + 0.030*\"discussion\" + 0.024*\"hearing\" + 0.022*\"today\"\n",
      "2018-09-13 11:33:27,403 : INFO : topic #27 (0.020): 0.196*\"great\" + 0.096*\"thanks\" + 0.056*\"see\" + 0.044*\"tonight\" + 0.043*\"meeting\" + 0.041*\"yesterday\" + 0.040*\"today\" + 0.032*\"enjoyed\" + 0.031*\"hope\" + 0.024*\"town\"\n",
      "2018-09-13 11:33:27,407 : INFO : topic #28 (0.020): 0.069*\"glad\" + 0.052*\"debt\" + 0.050*\"together\" + 0.038*\"put\" + 0.027*\"impact\" + 0.024*\"work\" + 0.023*\"event\" + 0.019*\"see\" + 0.015*\"dinner\" + 0.015*\"potus\"\n",
      "2018-09-13 11:33:27,411 : INFO : topic #29 (0.020): 0.083*\"statement\" + 0.066*\"made\" + 0.047*\"full\" + 0.030*\"think\" + 0.027*\"says\" + 0.022*\"farmers\" + 0.017*\"texas\" + 0.017*\"moving\" + 0.016*\"heart\" + 0.015*\"toward\"\n",
      "2018-09-13 11:33:27,415 : INFO : topic #30 (0.020): 0.038*\"govt\" + 0.029*\"supporting\" + 0.028*\"services\" + 0.021*\"general\" + 0.021*\"continues\" + 0.018*\"wonderful\" + 0.016*\"largest\" + 0.016*\"stopped\" + 0.016*\"facility\" + 0.016*\"winning\"\n",
      "2018-09-13 11:33:27,419 : INFO : topic #31 (0.020): 0.064*\"office\" + 0.047*\"dc\" + 0.047*\"call\" + 0.042*\"county\" + 0.031*\"student\" + 0.028*\"young\" + 0.022*\"conference\" + 0.021*\"visiting\" + 0.020*\"folks\" + 0.020*\"today\"\n",
      "2018-09-13 11:33:27,423 : INFO : topic #32 (0.020): 0.071*\"important\" + 0.037*\"leadership\" + 0.034*\"money\" + 0.032*\"issue\" + 0.030*\"let\" + 0.027*\"industry\" + 0.022*\"financial\" + 0.020*\"roundtable\" + 0.019*\"us\" + 0.019*\"proposal\"\n",
      "2018-09-13 11:33:27,427 : INFO : topic #33 (0.020): 0.093*\"health\" + 0.077*\"americans\" + 0.077*\"care\" + 0.037*\"million\" + 0.029*\"still\" + 0.025*\"show\" + 0.023*\"safety\" + 0.023*\"millions\" + 0.020*\"insurance\" + 0.018*\"republican\"\n",
      "2018-09-13 11:33:27,431 : INFO : topic #34 (0.020): 0.043*\"school\" + 0.041*\"future\" + 0.038*\"gov\" + 0.035*\"high\" + 0.032*\"center\" + 0.025*\"share\" + 0.023*\"game\" + 0.022*\"major\" + 0.022*\"americas\" + 0.019*\"students\"\n",
      "2018-09-13 11:33:27,434 : INFO : topic #35 (0.020): 0.061*\"go\" + 0.052*\"home\" + 0.047*\"members\" + 0.043*\"status\" + 0.031*\"welcome\" + 0.021*\"discussed\" + 0.020*\"named\" + 0.017*\"little\" + 0.017*\"mayor\" + 0.017*\"others\"\n",
      "2018-09-13 11:33:27,438 : INFO : topic #36 (0.020): 0.072*\"video\" + 0.061*\"icymi\" + 0.042*\"virginia\" + 0.041*\"tour\" + 0.031*\"pres\" + 0.026*\"montana\" + 0.023*\"holding\" + 0.019*\"recent\" + 0.019*\"already\" + 0.016*\"funds\"\n",
      "2018-09-13 11:33:27,442 : INFO : topic #37 (0.020): 0.080*\"country\" + 0.076*\"forward\" + 0.054*\"looking\" + 0.053*\"workers\" + 0.051*\"best\" + 0.048*\"across\" + 0.025*\"anne\" + 0.024*\"freedom\" + 0.017*\"district\" + 0.016*\"ct\"\n"
     ]
    },
    {
     "name": "stderr",
     "output_type": "stream",
     "text": [
      "2018-09-13 11:33:27,446 : INFO : topic #38 (0.020): 0.078*\"week\" + 0.077*\"staff\" + 0.050*\"leaders\" + 0.048*\"next\" + 0.037*\"local\" + 0.029*\"taking\" + 0.024*\"joe\" + 0.022*\"stopping\" + 0.022*\"air\" + 0.019*\"womens\"\n",
      "2018-09-13 11:33:27,450 : INFO : topic #39 (0.020): 0.093*\"tax\" + 0.044*\"reform\" + 0.044*\"end\" + 0.038*\"stand\" + 0.035*\"cuts\" + 0.034*\"cut\" + 0.027*\"class\" + 0.026*\"middle\" + 0.026*\"families\" + 0.021*\"long\"\n",
      "2018-09-13 11:33:27,453 : INFO : topic #40 (0.020): 0.097*\"like\" + 0.065*\"big\" + 0.038*\"congratulations\" + 0.031*\"oil\" + 0.030*\"win\" + 0.025*\"recovery\" + 0.025*\"place\" + 0.022*\"effort\" + 0.020*\"john\" + 0.018*\"training\"\n",
      "2018-09-13 11:33:27,455 : INFO : topic #41 (0.020): 0.038*\"system\" + 0.037*\"free\" + 0.032*\"campaign\" + 0.030*\"lives\" + 0.029*\"critical\" + 0.029*\"decision\" + 0.028*\"improve\" + 0.027*\"letter\" + 0.020*\"urging\" + 0.018*\"consumers\"\n",
      "2018-09-13 11:33:27,460 : INFO : topic #42 (0.020): 0.080*\"year\" + 0.064*\"family\" + 0.030*\"thoughts\" + 0.029*\"friends\" + 0.028*\"victims\" + 0.027*\"prayers\" + 0.027*\"introduced\" + 0.022*\"new\" + 0.020*\"today\" + 0.019*\"vets\"\n",
      "2018-09-13 11:33:27,463 : INFO : topic #43 (0.020): 0.116*\"todays\" + 0.055*\"business\" + 0.049*\"small\" + 0.046*\"via\" + 0.039*\"businesses\" + 0.039*\"efforts\" + 0.025*\"lost\" + 0.024*\"biz\" + 0.019*\"white\" + 0.018*\"visited\"\n",
      "2018-09-13 11:33:27,468 : INFO : topic #44 (0.020): 0.040*\"well\" + 0.038*\"needs\" + 0.034*\"college\" + 0.034*\"policy\" + 0.032*\"excited\" + 0.029*\"yrs\" + 0.028*\"ready\" + 0.028*\"save\" + 0.022*\"natl\" + 0.022*\"soon\"\n",
      "2018-09-13 11:33:27,471 : INFO : topic #45 (0.020): 0.058*\"speech\" + 0.055*\"states\" + 0.038*\"united\" + 0.036*\"seniors\" + 0.030*\"deficit\" + 0.029*\"programs\" + 0.027*\"rule\" + 0.023*\"attack\" + 0.021*\"trumps\" + 0.020*\"true\"\n",
      "2018-09-13 11:33:27,475 : INFO : topic #46 (0.020): 0.095*\"one\" + 0.052*\"know\" + 0.046*\"could\" + 0.039*\"another\" + 0.036*\"making\" + 0.025*\"never\" + 0.025*\"increase\" + 0.022*\"admin\" + 0.020*\"grow\" + 0.018*\"rules\"\n",
      "2018-09-13 11:33:27,479 : INFO : topic #47 (0.020): 0.104*\"bernie\" + 0.084*\"senator\" + 0.049*\"public\" + 0.030*\"pleased\" + 0.029*\"life\" + 0.018*\"commitment\" + 0.017*\"shouldnt\" + 0.017*\"online\" + 0.017*\"nd\" + 0.016*\"announce\"\n",
      "2018-09-13 11:33:27,482 : INFO : topic #48 (0.020): 0.201*\"sen\" + 0.058*\"floor\" + 0.046*\"right\" + 0.042*\"gop\" + 0.042*\"house\" + 0.040*\"speaking\" + 0.038*\"job\" + 0.028*\"spending\" + 0.023*\"companies\" + 0.021*\"kaine\"\n",
      "2018-09-13 11:33:27,486 : INFO : topic #49 (0.020): 0.112*\"news\" + 0.069*\"thank\" + 0.061*\"tune\" + 0.048*\"service\" + 0.048*\"ill\" + 0.043*\"honor\" + 0.032*\"nation\" + 0.027*\"today\" + 0.025*\"honored\" + 0.018*\"senators\"\n"
     ]
    },
    {
     "data": {
      "text/plain": [
       "[(0,\n",
       "  '0.079*\"va\" + 0.061*\"take\" + 0.046*\"federal\" + 0.037*\"veterans\" + 0.035*\"better\" + 0.031*\"government\" + 0.027*\"ensure\" + 0.027*\"deserve\" + 0.025*\"benefits\" + 0.025*\"speak\"'),\n",
       " (1,\n",
       "  '0.073*\"working\" + 0.053*\"community\" + 0.038*\"hear\" + 0.036*\"look\" + 0.034*\"rights\" + 0.032*\"children\" + 0.028*\"kids\" + 0.021*\"de\" + 0.021*\"income\" + 0.015*\"human\"'),\n",
       " (2,\n",
       "  '0.059*\"security\" + 0.043*\"vote\" + 0.037*\"lets\" + 0.034*\"access\" + 0.032*\"republicans\" + 0.026*\"find\" + 0.026*\"billion\" + 0.025*\"obamacare\" + 0.025*\"social\" + 0.022*\"repeal\"'),\n",
       " (3,\n",
       "  '0.073*\"first\" + 0.072*\"stop\" + 0.037*\"oped\" + 0.031*\"use\" + 0.029*\"may\" + 0.027*\"hold\" + 0.025*\"reduce\" + 0.016*\"nothing\" + 0.016*\"old\" + 0.016*\"officials\"'),\n",
       " (4,\n",
       "  '0.065*\"visit\" + 0.062*\"joined\" + 0.041*\"colleagues\" + 0.027*\"weekend\" + 0.026*\"two\" + 0.023*\"weeks\" + 0.020*\"strengthen\" + 0.018*\"today\" + 0.017*\"opening\" + 0.016*\"park\"'),\n",
       " (5,\n",
       "  '0.140*\"read\" + 0.083*\"rt\" + 0.032*\"mt\" + 0.027*\"food\" + 0.022*\"sexual\" + 0.020*\"street\" + 0.020*\"assault\" + 0.019*\"nearly\" + 0.019*\"victory\" + 0.018*\"expand\"'),\n",
       " (6,\n",
       "  '0.046*\"cant\" + 0.045*\"spoke\" + 0.033*\"court\" + 0.030*\"say\" + 0.030*\"calls\" + 0.022*\"earlier\" + 0.021*\"believe\" + 0.021*\"move\" + 0.020*\"past\" + 0.019*\"supreme\"'),\n",
       " (7,\n",
       "  '0.112*\"people\" + 0.099*\"american\" + 0.065*\"protect\" + 0.044*\"happening\" + 0.041*\"want\" + 0.039*\"funding\" + 0.022*\"trade\" + 0.020*\"political\" + 0.018*\"stabenow\" + 0.016*\"must\"'),\n",
       " (8,\n",
       "  '0.048*\"world\" + 0.043*\"change\" + 0.038*\"crisis\" + 0.037*\"climate\" + 0.033*\"war\" + 0.026*\"iran\" + 0.026*\"fair\" + 0.025*\"immigration\" + 0.025*\"lead\" + 0.025*\"us\"'),\n",
       " (9,\n",
       "  '0.128*\"day\" + 0.068*\"years\" + 0.044*\"coming\" + 0.042*\"today\" + 0.027*\"ago\" + 0.024*\"pmet\" + 0.022*\"discussing\" + 0.018*\"capitol\" + 0.017*\"development\" + 0.016*\"approach\"'),\n",
       " (10,\n",
       "  '0.103*\"get\" + 0.091*\"state\" + 0.057*\"check\" + 0.043*\"washington\" + 0.031*\"days\" + 0.028*\"presidents\" + 0.026*\"special\" + 0.025*\"record\" + 0.021*\"without\" + 0.016*\"investigation\"'),\n",
       " (11,\n",
       "  '0.076*\"fight\" + 0.061*\"st\" + 0.039*\"step\" + 0.038*\"going\" + 0.038*\"strong\" + 0.030*\"remember\" + 0.027*\"protecting\" + 0.024*\"wall\" + 0.020*\"corporate\" + 0.016*\"today\"'),\n",
       " (12,\n",
       "  '0.084*\"keep\" + 0.065*\"law\" + 0.042*\"sign\" + 0.039*\"safe\" + 0.031*\"fighting\" + 0.029*\"even\" + 0.026*\"thx\" + 0.019*\"receive\" + 0.019*\"research\" + 0.018*\"award\"'),\n",
       " (13,\n",
       "  '0.129*\"make\" + 0.041*\"top\" + 0.041*\"sure\" + 0.034*\"real\" + 0.033*\"power\" + 0.021*\"voice\" + 0.020*\"missed\" + 0.020*\"fix\" + 0.020*\"heard\" + 0.020*\"fund\"'),\n",
       " (14,\n",
       "  '0.057*\"hatch\" + 0.053*\"meet\" + 0.039*\"everyone\" + 0.038*\"justice\" + 0.036*\"come\" + 0.036*\"got\" + 0.034*\"much\" + 0.029*\"done\" + 0.015*\"ban\" + 0.015*\"called\"'),\n",
       " (15,\n",
       "  '0.074*\"budget\" + 0.072*\"women\" + 0.048*\"hearing\" + 0.038*\"committee\" + 0.037*\"create\" + 0.033*\"ohio\" + 0.028*\"hard\" + 0.022*\"men\" + 0.021*\"defense\" + 0.021*\"secretary\"'),\n",
       " (16,\n",
       "  '0.157*\"bill\" + 0.107*\"act\" + 0.053*\"bipartisan\" + 0.038*\"legislation\" + 0.034*\"amendment\" + 0.031*\"passed\" + 0.028*\"would\" + 0.026*\"today\" + 0.025*\"voted\" + 0.022*\"house\"'),\n",
       " (17,\n",
       "  '0.056*\"energy\" + 0.054*\"economic\" + 0.045*\"program\" + 0.031*\"deal\" + 0.029*\"report\" + 0.027*\"growth\" + 0.027*\"jobs\" + 0.026*\"story\" + 0.023*\"calling\" + 0.022*\"water\"'),\n",
       " (18,\n",
       "  '0.157*\"senate\" + 0.067*\"must\" + 0.034*\"continue\" + 0.033*\"pass\" + 0.029*\"action\" + 0.028*\"congress\" + 0.026*\"give\" + 0.024*\"agree\" + 0.023*\"us\" + 0.018*\"since\"'),\n",
       " (19,\n",
       "  '0.116*\"support\" + 0.096*\"proud\" + 0.045*\"every\" + 0.042*\"military\" + 0.033*\"students\" + 0.029*\"communities\" + 0.022*\"nations\" + 0.019*\"help\" + 0.018*\"month\" + 0.016*\"schools\"'),\n",
       " (20,\n",
       "  '0.090*\"president\" + 0.072*\"congrats\" + 0.054*\"obama\" + 0.041*\"trump\" + 0.034*\"plan\" + 0.026*\"history\" + 0.023*\"debate\" + 0.019*\"anniversary\" + 0.019*\"election\" + 0.017*\"talent\"'),\n",
       " (21,\n",
       "  '0.075*\"happy\" + 0.065*\"th\" + 0.061*\"america\" + 0.032*\"birthday\" + 0.031*\"drug\" + 0.029*\"friend\" + 0.024*\"celebrate\" + 0.024*\"arkansas\" + 0.024*\"getting\" + 0.020*\"ri\"'),\n",
       " (22,\n",
       "  '0.093*\"jobs\" + 0.088*\"join\" + 0.085*\"economy\" + 0.043*\"please\" + 0.036*\"address\" + 0.032*\"issues\" + 0.024*\"us\" + 0.023*\"tus\" + 0.021*\"helping\" + 0.020*\"help\"'),\n",
       " (23,\n",
       "  '0.102*\"last\" + 0.072*\"back\" + 0.040*\"night\" + 0.034*\"ny\" + 0.030*\"also\" + 0.028*\"part\" + 0.027*\"bring\" + 0.023*\"review\" + 0.022*\"newsletter\" + 0.019*\"facebook\"'),\n",
       " (24,\n",
       "  '0.122*\"good\" + 0.045*\"learn\" + 0.040*\"met\" + 0.030*\"today\" + 0.029*\"questions\" + 0.028*\"team\" + 0.028*\"always\" + 0.028*\"start\" + 0.027*\"open\" + 0.027*\"luck\"'),\n",
       " (25,\n",
       "  '0.177*\"sanders\" + 0.069*\"talking\" + 0.055*\"talk\" + 0.051*\"listen\" + 0.050*\"way\" + 0.030*\"ivt\" + 0.022*\"sanderssenategovnewsroomnews\" + 0.016*\"headed\" + 0.016*\"atch\" + 0.016*\"sanderssenategovnewsroomnewsw\"'),\n",
       " (26,\n",
       "  '0.139*\"watch\" + 0.108*\"live\" + 0.085*\"discuss\" + 0.064*\"morning\" + 0.047*\"pm\" + 0.039*\"joining\" + 0.030*\"tomorrow\" + 0.030*\"discussion\" + 0.024*\"hearing\" + 0.022*\"today\"'),\n",
       " (27,\n",
       "  '0.196*\"great\" + 0.096*\"thanks\" + 0.056*\"see\" + 0.044*\"tonight\" + 0.043*\"meeting\" + 0.041*\"yesterday\" + 0.040*\"today\" + 0.032*\"enjoyed\" + 0.031*\"hope\" + 0.024*\"town\"'),\n",
       " (28,\n",
       "  '0.069*\"glad\" + 0.052*\"debt\" + 0.050*\"together\" + 0.038*\"put\" + 0.027*\"impact\" + 0.024*\"work\" + 0.023*\"event\" + 0.019*\"see\" + 0.015*\"dinner\" + 0.015*\"potus\"'),\n",
       " (29,\n",
       "  '0.083*\"statement\" + 0.066*\"made\" + 0.047*\"full\" + 0.030*\"think\" + 0.027*\"says\" + 0.022*\"farmers\" + 0.017*\"texas\" + 0.017*\"moving\" + 0.016*\"heart\" + 0.015*\"toward\"'),\n",
       " (30,\n",
       "  '0.038*\"govt\" + 0.029*\"supporting\" + 0.028*\"services\" + 0.021*\"general\" + 0.021*\"continues\" + 0.018*\"wonderful\" + 0.016*\"largest\" + 0.016*\"stopped\" + 0.016*\"facility\" + 0.016*\"winning\"'),\n",
       " (31,\n",
       "  '0.064*\"office\" + 0.047*\"dc\" + 0.047*\"call\" + 0.042*\"county\" + 0.031*\"student\" + 0.028*\"young\" + 0.022*\"conference\" + 0.021*\"visiting\" + 0.020*\"folks\" + 0.020*\"today\"'),\n",
       " (32,\n",
       "  '0.071*\"important\" + 0.037*\"leadership\" + 0.034*\"money\" + 0.032*\"issue\" + 0.030*\"let\" + 0.027*\"industry\" + 0.022*\"financial\" + 0.020*\"roundtable\" + 0.019*\"us\" + 0.019*\"proposal\"'),\n",
       " (33,\n",
       "  '0.093*\"health\" + 0.077*\"americans\" + 0.077*\"care\" + 0.037*\"million\" + 0.029*\"still\" + 0.025*\"show\" + 0.023*\"safety\" + 0.023*\"millions\" + 0.020*\"insurance\" + 0.018*\"republican\"'),\n",
       " (34,\n",
       "  '0.043*\"school\" + 0.041*\"future\" + 0.038*\"gov\" + 0.035*\"high\" + 0.032*\"center\" + 0.025*\"share\" + 0.023*\"game\" + 0.022*\"major\" + 0.022*\"americas\" + 0.019*\"students\"'),\n",
       " (35,\n",
       "  '0.061*\"go\" + 0.052*\"home\" + 0.047*\"members\" + 0.043*\"status\" + 0.031*\"welcome\" + 0.021*\"discussed\" + 0.020*\"named\" + 0.017*\"little\" + 0.017*\"mayor\" + 0.017*\"others\"'),\n",
       " (36,\n",
       "  '0.072*\"video\" + 0.061*\"icymi\" + 0.042*\"virginia\" + 0.041*\"tour\" + 0.031*\"pres\" + 0.026*\"montana\" + 0.023*\"holding\" + 0.019*\"recent\" + 0.019*\"already\" + 0.016*\"funds\"'),\n",
       " (37,\n",
       "  '0.080*\"country\" + 0.076*\"forward\" + 0.054*\"looking\" + 0.053*\"workers\" + 0.051*\"best\" + 0.048*\"across\" + 0.025*\"anne\" + 0.024*\"freedom\" + 0.017*\"district\" + 0.016*\"ct\"'),\n",
       " (38,\n",
       "  '0.078*\"week\" + 0.077*\"staff\" + 0.050*\"leaders\" + 0.048*\"next\" + 0.037*\"local\" + 0.029*\"taking\" + 0.024*\"joe\" + 0.022*\"stopping\" + 0.022*\"air\" + 0.019*\"womens\"'),\n",
       " (39,\n",
       "  '0.093*\"tax\" + 0.044*\"reform\" + 0.044*\"end\" + 0.038*\"stand\" + 0.035*\"cuts\" + 0.034*\"cut\" + 0.027*\"class\" + 0.026*\"middle\" + 0.026*\"families\" + 0.021*\"long\"'),\n",
       " (40,\n",
       "  '0.097*\"like\" + 0.065*\"big\" + 0.038*\"congratulations\" + 0.031*\"oil\" + 0.030*\"win\" + 0.025*\"recovery\" + 0.025*\"place\" + 0.022*\"effort\" + 0.020*\"john\" + 0.018*\"training\"'),\n",
       " (41,\n",
       "  '0.038*\"system\" + 0.037*\"free\" + 0.032*\"campaign\" + 0.030*\"lives\" + 0.029*\"critical\" + 0.029*\"decision\" + 0.028*\"improve\" + 0.027*\"letter\" + 0.020*\"urging\" + 0.018*\"consumers\"'),\n",
       " (42,\n",
       "  '0.080*\"year\" + 0.064*\"family\" + 0.030*\"thoughts\" + 0.029*\"friends\" + 0.028*\"victims\" + 0.027*\"prayers\" + 0.027*\"introduced\" + 0.022*\"new\" + 0.020*\"today\" + 0.019*\"vets\"'),\n",
       " (43,\n",
       "  '0.116*\"todays\" + 0.055*\"business\" + 0.049*\"small\" + 0.046*\"via\" + 0.039*\"businesses\" + 0.039*\"efforts\" + 0.025*\"lost\" + 0.024*\"biz\" + 0.019*\"white\" + 0.018*\"visited\"'),\n",
       " (44,\n",
       "  '0.040*\"well\" + 0.038*\"needs\" + 0.034*\"college\" + 0.034*\"policy\" + 0.032*\"excited\" + 0.029*\"yrs\" + 0.028*\"ready\" + 0.028*\"save\" + 0.022*\"natl\" + 0.022*\"soon\"'),\n",
       " (45,\n",
       "  '0.058*\"speech\" + 0.055*\"states\" + 0.038*\"united\" + 0.036*\"seniors\" + 0.030*\"deficit\" + 0.029*\"programs\" + 0.027*\"rule\" + 0.023*\"attack\" + 0.021*\"trumps\" + 0.020*\"true\"'),\n",
       " (46,\n",
       "  '0.095*\"one\" + 0.052*\"know\" + 0.046*\"could\" + 0.039*\"another\" + 0.036*\"making\" + 0.025*\"never\" + 0.025*\"increase\" + 0.022*\"admin\" + 0.020*\"grow\" + 0.018*\"rules\"'),\n",
       " (47,\n",
       "  '0.104*\"bernie\" + 0.084*\"senator\" + 0.049*\"public\" + 0.030*\"pleased\" + 0.029*\"life\" + 0.018*\"commitment\" + 0.017*\"shouldnt\" + 0.017*\"online\" + 0.017*\"nd\" + 0.016*\"announce\"'),\n",
       " (48,\n",
       "  '0.201*\"sen\" + 0.058*\"floor\" + 0.046*\"right\" + 0.042*\"gop\" + 0.042*\"house\" + 0.040*\"speaking\" + 0.038*\"job\" + 0.028*\"spending\" + 0.023*\"companies\" + 0.021*\"kaine\"'),\n",
       " (49,\n",
       "  '0.112*\"news\" + 0.069*\"thank\" + 0.061*\"tune\" + 0.048*\"service\" + 0.048*\"ill\" + 0.043*\"honor\" + 0.032*\"nation\" + 0.027*\"today\" + 0.025*\"honored\" + 0.018*\"senators\"')]"
      ]
     },
     "execution_count": 15,
     "metadata": {},
     "output_type": "execute_result"
    }
   ],
   "source": [
    "lda.print_topics(num_topics=50)"
   ]
  },
  {
   "cell_type": "code",
   "execution_count": 201,
   "metadata": {},
   "outputs": [],
   "source": [
    "# Rename topics numbers with topic interpretations for purposes of Analysis.\n",
    "contributions_meta_topics.columns = ('os_id','pacs','state','party','twitter',\\\n",
    "                                     'last_name','first_name','gender',\\\n",
    "                                     'senate_class','type','index','tweets',\\\n",
    "                                     'Veteran_Benefits_0','Human_Rights_1',\\\n",
    "                                     'Republicans_Repealing_Obamacare_2',\\\n",
    "                                     'Stops_on_Campaign_Trail_3',\n",
    "                                     'Visiting_Places_4','Sexual_Assault_5',\\\n",
    "                                     'Supreme_Court_Appointments_6',\\\n",
    "                                     'Free_Trade_7','Crises_and_Conflicts_8',\\\n",
    "                                     'Time_for_Change_9',\\\n",
    "                                     'Special_Investigation_10',\\\n",
    "                                     'Wall_Street_11',\\\n",
    "                                     'Sign_Law_12','Make_Voice_Heard_13',\\\n",
    "                                     'Getting_Things_Done_14',\\\n",
    "                                     'Defense_Secretary_15','Legislation_16',\\\n",
    "                                     'Energy_Deal_17','Congress_18',\\\n",
    "                                     'Support_the_Troops_19','President_20',\\\n",
    "                                     'Happy_Birthday_America_21',\\\n",
    "                                     'US_Economy_and_Jobs_22','Facebook_23',\\\n",
    "                                     'Positivity_and_Learning_24',\\\n",
    "                                     'Bernie_Sanders_Campaign_25',\\\n",
    "                                     'Hearings_26','Meetings_27',\\\n",
    "                                     'Togetherness_28',\n",
    "                                     'Issuing_Statements_29',\\\n",
    "                                     'Government_Services_30',\\\n",
    "                                     'Young_People_in_Politics_31',\\\n",
    "                                     'Financial_Issues_32','Health_Care_33',\\\n",
    "                                     'Education_34','Members_of_Congress_35',\\\n",
    "                                     'Videos_of_Tours_36','Looking_Forward_37',\\\n",
    "                                     'Congressional_Staff_38','Tax_Reform_39',\\\n",
    "                                     'Congratulations_40',\n",
    "                                     'Political_System__41',\\\n",
    "                                     'Thoughts_and_Prayers_to_Family_and_Friends_of_Victims_42',\\\n",
    "                                     'Small_Business_43',\n",
    "                                     'Education_Policy_44','The_Deficit_45',\\\n",
    "                                     'One_Know_Could_46', 'The_Public_47',\\\n",
    "                                      'Senate_48','Honors_49','username')"
   ]
  },
  {
   "cell_type": "code",
   "execution_count": 244,
   "metadata": {},
   "outputs": [],
   "source": [
    "# Function prints out the amount a Member of Congress Tweets about each topic,\n",
    "#(given their Opensecrets ID). Amount of topic is averageg topic representation \n",
    "# multiplied by the number of times topic appears in the the Congress Member's\n",
    "# Tweets.\n",
    "\n",
    "def cm_topics(id_num):\n",
    "    \n",
    "    topic_counts = (contributions_meta_topics[contributions_meta_topics.os_id\n",
    "                    ==id_num][['Veteran_Benefits_0','Human_Rights_1',\n",
    "                               'Republicans_Repealing_Obamacare_2',\n",
    "                               'Stops_on_Campaign_Trail_3',\n",
    "                               'Visiting_Places_4','Sexual_Assault_5',\n",
    "                               'Supreme_Court_Appointments_6','Free_Trade_7',\n",
    "                               'Crises_and_Conflicts_8','Time_for_Change_9',\n",
    "                               'Special_Investigation_10','Wall_Street_11',\n",
    "                               'Sign_Law_12','Make_Voice_Heard_13',\n",
    "                               'Getting_Things_Done_14',\n",
    "                               'Defense_Secretary_15','Legislation_16',\n",
    "                               'Energy_Deal_17','Congress_18',\n",
    "                               'Support_the_Troops_19','President_20',\n",
    "                               'Happy_Birthday_America_21',\n",
    "                               'US_Economy_and_Jobs_22','Facebook_23',\n",
    "                               'Positivity_and_Learning_24',\n",
    "                               'Bernie_Sanders_Campaign_25','Hearings_26',\n",
    "                               'Meetings_27','Togetherness_28',\n",
    "                               'Issuing_Statements_29',\n",
    "                               'Government_Services_30',\n",
    "                               'Young_People_in_Politics_31',\n",
    "                               'Financial_Issues_32','Health_Care_33',\n",
    "                               'Education_34','Members_of_Congress_35',\n",
    "                               'Videos_of_Tours_36','Looking_Forward_37',\n",
    "                               'Congressional_Staff_38','Tax_Reform_39',\n",
    "                               'Congratulations_40','Political_System__41',\n",
    "                               'Thoughts_and_Prayers_to_Family_and_Friends_of_Victims_42',\n",
    "                               'Small_Business_43','Education_Policy_44',\n",
    "                               'The_Deficit_45','One_Know_Could_46', \n",
    "                               'The_Public_47','Senate_48','Honors_49']]\n",
    "                               .count()[:])\n",
    "\n",
    "    topic_means = (contributions_meta_topics[contributions_meta_topics.os_id\n",
    "                    ==id_num][['Veteran_Benefits_0','Human_Rights_1',\n",
    "                               'Republicans_Repealing_Obamacare_2',\n",
    "                               'Stops_on_Campaign_Trail_3',\n",
    "                               'Visiting_Places_4','Sexual_Assault_5',\n",
    "                               'Supreme_Court_Appointments_6','Free_Trade_7',\n",
    "                               'Crises_and_Conflicts_8','Time_for_Change_9',\n",
    "                               'Special_Investigation_10','Wall_Street_11',\n",
    "                               'Sign_Law_12','Make_Voice_Heard_13',\n",
    "                               'Getting_Things_Done_14',\n",
    "                               'Defense_Secretary_15','Legislation_16',\n",
    "                               'Energy_Deal_17','Congress_18',\n",
    "                               'Support_the_Troops_19','President_20',\n",
    "                               'Happy_Birthday_America_21',\n",
    "                               'US_Economy_and_Jobs_22','Facebook_23',\n",
    "                               'Positivity_and_Learning_24',\n",
    "                               'Bernie_Sanders_Campaign_25','Hearings_26',\n",
    "                               'Meetings_27','Togetherness_28',\n",
    "                               'Issuing_Statements_29',\n",
    "                               'Government_Services_30',\n",
    "                               'Young_People_in_Politics_31',\n",
    "                               'Financial_Issues_32','Health_Care_33',\n",
    "                               'Education_34','Members_of_Congress_35',\n",
    "                               'Videos_of_Tours_36','Looking_Forward_37',\n",
    "                               'Congressional_Staff_38','Tax_Reform_39',\n",
    "                               'Congratulations_40','Political_System__41',\n",
    "                               'Thoughts_and_Prayers_to_Family_and_Friends_of_Victims_42',\n",
    "                               'Small_Business_43','Education_Policy_44',\n",
    "                               'The_Deficit_45','One_Know_Could_46', \n",
    "                               'The_Public_47','Senate_48','Honors_49']]\n",
    "                               .mean()[:])\n",
    "\n",
    "    return topic_means * topic_counts"
   ]
  },
  {
   "cell_type": "code",
   "execution_count": 207,
   "metadata": {},
   "outputs": [
    {
     "data": {
      "text/plain": [
       "os_id\n",
       "N00003682    5879797\n",
       "N00031782    5775093\n",
       "N00001489    5520915\n",
       "N00005195    5397110\n",
       "N00003389    5232677\n",
       "Name: pacs, dtype: int64"
      ]
     },
     "execution_count": 207,
     "metadata": {},
     "output_type": "execute_result"
    }
   ],
   "source": [
    "# The the five Members of Congress who received the most money from PACs\n",
    "# each received over $5,000,000 dollars.\n",
    "top5 = (contributions_meta_topics\n",
    "        .groupby('os_id')\n",
    "        .pacs\n",
    "        .mean()\n",
    "        .sort_values(ascending=False)\n",
    "        .head())\n",
    "\n",
    "top5"
   ]
  },
  {
   "cell_type": "code",
   "execution_count": 246,
   "metadata": {},
   "outputs": [
    {
     "name": "stdout",
     "output_type": "stream",
     "text": [
      "    first_name last_name type state       party\n",
      "221     Robert   Portman  sen    OH  Republican\n",
      "    first_name last_name type state       party\n",
      "255        Tim     Scott  sen    SC  Republican\n",
      "    first_name last_name type state       party\n",
      "280    Patrick    Toomey  sen    PA  Republican\n",
      "   first_name last_name type state       party\n",
      "49        Roy     Blunt  sen    MO  Republican\n",
      "   first_name  last_name type state       party\n",
      "25      Mitch  McConnell  sen    KY  Republican\n"
     ]
    }
   ],
   "source": [
    "for i in top5.index:\n",
    "    (print(congress_metadata[congress_metadata.opensecrets_id==i]\n",
    "          [['first_name','last_name','type','state','party']]))"
   ]
  },
  {
   "cell_type": "code",
   "execution_count": 245,
   "metadata": {},
   "outputs": [
    {
     "data": {
      "text/plain": [
       "Meetings_27              293.633300\n",
       "Support_the_Troops_19    263.583560\n",
       "Honors_49                246.247045\n",
       "Congress_18              246.074930\n",
       "Legislation_16           227.286348\n",
       "dtype: float64"
      ]
     },
     "execution_count": 245,
     "metadata": {},
     "output_type": "execute_result"
    }
   ],
   "source": [
    "#Rob Portman's top topics:\n",
    "cm_topics('N00003682').sort_values(ascending=False).head()"
   ]
  },
  {
   "cell_type": "code",
   "execution_count": 71,
   "metadata": {},
   "outputs": [
    {
     "data": {
      "text/plain": [
       "Meetings_27                    121.663895\n",
       "Honors_49                       89.872520\n",
       "Hearings_26                     81.974922\n",
       "Young_People_in_Politics_31     69.992718\n",
       "Facebook_23                     64.755770\n",
       "dtype: float64"
      ]
     },
     "execution_count": 71,
     "metadata": {},
     "output_type": "execute_result"
    }
   ],
   "source": [
    "# Tim Scott's top topics:\n",
    "cm_topics('N00031782').sort_values(ascending=False).head()"
   ]
  },
  {
   "cell_type": "code",
   "execution_count": 72,
   "metadata": {},
   "outputs": [
    {
     "data": {
      "text/plain": [
       "Meetings_27               69.162666\n",
       "Honors_49                 52.125286\n",
       "Senate_48                 49.326346\n",
       "Members_of_Congress_35    48.069722\n",
       "Hearings_26               46.722641\n",
       "dtype: float64"
      ]
     },
     "execution_count": 72,
     "metadata": {},
     "output_type": "execute_result"
    }
   ],
   "source": [
    "# Patrick Toomey's top topics:\n",
    "cm_topics('N00001489').sort_values(ascending=False).head()"
   ]
  },
  {
   "cell_type": "code",
   "execution_count": 209,
   "metadata": {},
   "outputs": [
    {
     "data": {
      "text/plain": [
       "os_id\n",
       "N00029127   -10500\n",
       "N00040007    -4159\n",
       "N00027751    -1901\n",
       "N00008028        0\n",
       "N00029077     6500\n",
       "Name: pacs, dtype: int64"
      ]
     },
     "execution_count": 209,
     "metadata": {},
     "output_type": "execute_result"
    }
   ],
   "source": [
    "# The the five Members of Congress who received the least from PACs:\n",
    "bottom5 = (contributions_meta_topics\n",
    "           .groupby('os_id')\n",
    "           .pacs\n",
    "           .mean()\n",
    "           .sort_values(ascending=True)\n",
    "           .head())\n",
    "\n",
    "bottom5"
   ]
  },
  {
   "cell_type": "code",
   "execution_count": 212,
   "metadata": {},
   "outputs": [
    {
     "name": "stdout",
     "output_type": "stream",
     "text": [
      "    first_name last_name type state     party\n",
      "220      Jared     Polis  rep    CO  Democrat\n",
      "    first_name last_name type state       party\n",
      "477    Francis    Rooney  rep    FL  Republican\n",
      "    first_name last_name type state     party\n",
      "245       John  Sarbanes  rep    MD  Democrat\n",
      "    first_name last_name type state       party\n",
      "151        Sam   Johnson  rep    TX  Republican\n",
      "    first_name last_name type state       party\n",
      "146       Lynn   Jenkins  rep    KS  Republican\n"
     ]
    }
   ],
   "source": [
    "for i in bottom5.index:\n",
    "    (print(congress_metadata[congress_metadata.opensecrets_id==i]\n",
    "          [['first_name','last_name','type','state','party']]))"
   ]
  },
  {
   "cell_type": "code",
   "execution_count": 73,
   "metadata": {},
   "outputs": [
    {
     "data": {
      "text/plain": [
       "Meetings_27              27.589816\n",
       "Legislation_16           20.262529\n",
       "Support_the_Troops_19    16.928278\n",
       "Health_Care_33           14.817569\n",
       "Congress_18              14.369678\n",
       "dtype: float64"
      ]
     },
     "execution_count": 73,
     "metadata": {},
     "output_type": "execute_result"
    }
   ],
   "source": [
    "# Jared Polis' top topics:\n",
    "cm_topics('N00029127').sort_values(ascending=False).head()"
   ]
  },
  {
   "cell_type": "code",
   "execution_count": 74,
   "metadata": {},
   "outputs": [
    {
     "data": {
      "text/plain": [
       "Honors_49                 5.959103\n",
       "Hearings_26               5.827413\n",
       "US_Economy_and_Jobs_22    4.056930\n",
       "Meetings_27               3.891491\n",
       "Legislation_16            3.539622\n",
       "dtype: float64"
      ]
     },
     "execution_count": 74,
     "metadata": {},
     "output_type": "execute_result"
    }
   ],
   "source": [
    "# Francis Rooney's top topics:\n",
    "cm_topics('N00040007').sort_values(ascending=False).head()"
   ]
  },
  {
   "cell_type": "code",
   "execution_count": 76,
   "metadata": {},
   "outputs": [
    {
     "data": {
      "text/plain": [
       "Young_People_in_Politics_31    15.206357\n",
       "Special_Investigation_10       14.116563\n",
       "Visiting_Places_4               8.929187\n",
       "Health_Care_33                  8.718143\n",
       "Meetings_27                     7.702872\n",
       "dtype: float64"
      ]
     },
     "execution_count": 76,
     "metadata": {},
     "output_type": "execute_result"
    }
   ],
   "source": [
    "# John Sarbanes' top topics:\n",
    "cm_topics('N00027751').sort_values(ascending=False).head()"
   ]
  },
  {
   "cell_type": "code",
   "execution_count": 213,
   "metadata": {},
   "outputs": [],
   "source": [
    "# Topics with 'political substance':\n",
    "# Topics about which on which there are common differences  opinion along \n",
    "# politically partisan lines.\n",
    "substance = contributions_meta_topics[['Veteran_Benefits_0','Human_Rights_1',\n",
    "                                       'Republicans_Repealing_Obamacare_2',\n",
    "                                       'Sexual_Assault_5',\n",
    "                                       'Supreme_Court_Appointments_6',\n",
    "                                       'Free_Trade_7',\n",
    "                                       'Crises_and_Conflicts_8',\n",
    "                                       'Special_Investigation_10',\n",
    "                                       'Wall_Street_11','Energy_Deal_17',\n",
    "                                       'US_Economy_and_Jobs_22','Facebook_23',\n",
    "                                       'Bernie_Sanders_Campaign_25',\n",
    "                                       'Government_Services_30',\n",
    "                                       'Financial_Issues_32','Health_Care_33',\n",
    "                                       'Education_34','Tax_Reform_39',\n",
    "                                       'Political_System__41',\n",
    "                                       'Small_Business_43',\n",
    "                                       'Education_Policy_44',\n",
    "                                       'The_Deficit_45',]]"
   ]
  },
  {
   "cell_type": "code",
   "execution_count": 164,
   "metadata": {},
   "outputs": [],
   "source": [
    "# Topics without 'political substance':\n",
    "no_substance = (contributions_meta_topics[['Stops_on_Campaign_Trail_3',\n",
    "                                           'Visiting_Places_4',\n",
    "                                           'Time_for_Change_9',\n",
    "                                           'Sign_Law_12',\n",
    "                                           'Make_Voice_Heard_13',\n",
    "                                           'Getting_Things_Done_14',\n",
    "                                           'Defense_Secretary_15',\n",
    "                                           'Legislation_16',\n",
    "                                           'Congress_18',\n",
    "                                           'Support_the_Troops_19',\n",
    "                                           'President_20',\n",
    "                                           'Happy_Birthday_America_21',\n",
    "                                           'Positivity_and_Learning_24',\n",
    "                                           'Hearings_26','Meetings_27',\n",
    "                                           'Togetherness_28',\n",
    "                                           'Issuing_Statements_29',\n",
    "                                           'Young_People_in_Politics_31',\n",
    "                                           'Members_of_Congress_35',\n",
    "                                           'Videos_of_Tours_36',\n",
    "                                           'Looking_Forward_37',\n",
    "                                           'Congressional_Staff_38',\n",
    "                                           'Congratulations_40',\n",
    "                                           'Thoughts_and_Prayers_to_Family_and_Friends_of_Victims_42',\n",
    "                                           'One_Know_Could_46', 'The_Public_47',\n",
    "                                           'Senate_48','Honors_49']])"
   ]
  },
  {
   "cell_type": "code",
   "execution_count": 231,
   "metadata": {},
   "outputs": [],
   "source": [
    "# Iterate through Tweet topics DataFrame and determine which Tweets are\n",
    "# relatively politically substantial and those which are not.\n",
    "substantial = []\n",
    "not_substantial = []\n",
    "\n",
    "for index, row in contributions_meta_topics.iterrows():\n",
    "    if substance.loc[index].sum(axis=0) > no_substance.loc[index].sum(axis=0):\n",
    "        substantial.append(index)\n",
    "    elif substance.loc[index].sum(axis=0) < no_substance.loc[index].sum(axis=0):\n",
    "        not_substantial.append(index)"
   ]
  },
  {
   "cell_type": "code",
   "execution_count": 227,
   "metadata": {},
   "outputs": [
    {
     "data": {
      "text/plain": [
       "1337212.408401821"
      ]
     },
     "execution_count": 227,
     "metadata": {},
     "output_type": "execute_result"
    }
   ],
   "source": [
    "# Get the amount of PAC money received by the authors of substantial Tweets,\n",
    "# and print the average amount. Authors of substantial Tweets receive on average \n",
    "# $1.3 million dollars from PACs.\n",
    "pac_money = []\n",
    "\n",
    "for i in substantial:\n",
    "    pac_money.append(contributions_meta_topics.loc[i].pacs)\n",
    "\n",
    "np.asarray(pac_money).mean()"
   ]
  },
  {
   "cell_type": "code",
   "execution_count": 229,
   "metadata": {},
   "outputs": [
    {
     "data": {
      "text/plain": [
       "1417342.2675836545"
      ]
     },
     "execution_count": 229,
     "metadata": {},
     "output_type": "execute_result"
    }
   ],
   "source": [
    "# Get the amount of PAC money received by the authors of insubstantial Tweets,\n",
    "# and print the average amount. Authors of insubstantial Tweets receive on average \n",
    "# $1.4 million dollars from PACs.\n",
    "pac_money = []\n",
    "\n",
    "for i in not_substantial:\n",
    "    pac_money.append(contributions_meta_topics.loc[i].pacs)\n",
    "\n",
    "np.asarray(pac_money).mean()"
   ]
  },
  {
   "cell_type": "code",
   "execution_count": null,
   "metadata": {},
   "outputs": [],
   "source": [
    "# Both averages are substantially higher than the average amount of PAC\n",
    "# money received by all candidates, presumably indicating that those\n",
    "# Congress Members who Tweet more also receive more money from PACS."
   ]
  }
 ],
 "metadata": {
  "kernelspec": {
   "display_name": "Python 3",
   "language": "python",
   "name": "python3"
  },
  "language_info": {
   "codemirror_mode": {
    "name": "ipython",
    "version": 3
   },
   "file_extension": ".py",
   "mimetype": "text/x-python",
   "name": "python",
   "nbconvert_exporter": "python",
   "pygments_lexer": "ipython3",
   "version": "3.5.6"
  }
 },
 "nbformat": 4,
 "nbformat_minor": 2
}

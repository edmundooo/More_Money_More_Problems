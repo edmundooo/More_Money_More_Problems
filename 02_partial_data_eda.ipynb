{
 "cells": [
  {
   "cell_type": "markdown",
   "metadata": {},
   "source": [
    "__Subject:__ Topics of Tweets of US Congress through the Lens of Campaign Finance\n",
    "\n",
    "__Date:__ 09/08/2018\n",
    "\n",
    "__Name:__ Edmund D. Chitwood\n",
    "***"
   ]
  },
  {
   "cell_type": "markdown",
   "metadata": {},
   "source": [
    "__Summary:__<br>\n",
    "<br>The following Notebook \n",
    "- reads in Senator Amy Klobuchar's Tweets,\n",
    "- reads them into a Pandas DataFrame, and\n",
    "- performs EDA on on the Tweets.\n",
    "***"
   ]
  },
  {
   "cell_type": "code",
   "execution_count": 47,
   "metadata": {},
   "outputs": [],
   "source": [
    "import pandas as pd"
   ]
  },
  {
   "cell_type": "code",
   "execution_count": 48,
   "metadata": {},
   "outputs": [],
   "source": [
    "tweets = pd.read_csv('senate_data/amyklobuchar_tweets.csv',sep=';',header=None,)"
   ]
  },
  {
   "cell_type": "code",
   "execution_count": 52,
   "metadata": {},
   "outputs": [],
   "source": [
    "tweets.columns = (['username','date','retweets','favorites','text','mentions',\\\n",
    "                   'hashtags','id','permalink',''])"
   ]
  },
  {
   "cell_type": "code",
   "execution_count": 23,
   "metadata": {},
   "outputs": [
    {
     "data": {
      "text/html": [
       "<div>\n",
       "<style scoped>\n",
       "    .dataframe tbody tr th:only-of-type {\n",
       "        vertical-align: middle;\n",
       "    }\n",
       "\n",
       "    .dataframe tbody tr th {\n",
       "        vertical-align: top;\n",
       "    }\n",
       "\n",
       "    .dataframe thead th {\n",
       "        text-align: right;\n",
       "    }\n",
       "</style>\n",
       "<table border=\"1\" class=\"dataframe\">\n",
       "  <thead>\n",
       "    <tr style=\"text-align: right;\">\n",
       "      <th></th>\n",
       "      <th>username</th>\n",
       "      <th>date</th>\n",
       "      <th>retweets</th>\n",
       "      <th>favorites</th>\n",
       "      <th>text</th>\n",
       "      <th>mentions</th>\n",
       "      <th>hashtags</th>\n",
       "      <th>id</th>\n",
       "      <th>permalink</th>\n",
       "      <th></th>\n",
       "    </tr>\n",
       "  </thead>\n",
       "  <tbody>\n",
       "    <tr>\n",
       "      <th>0</th>\n",
       "      <td>amyklobuchar</td>\n",
       "      <td>2018-09-06 16:15:52</td>\n",
       "      <td>264</td>\n",
       "      <td>947</td>\n",
       "      <td>“A popular Government, without popular informa...</td>\n",
       "      <td>NaN</td>\n",
       "      <td>NaN</td>\n",
       "      <td>1037736146019729409</td>\n",
       "      <td>https://twitter.com/amyklobuchar/status/103773...</td>\n",
       "      <td>False</td>\n",
       "    </tr>\n",
       "    <tr>\n",
       "      <th>1</th>\n",
       "      <td>amyklobuchar</td>\n",
       "      <td>2018-09-06 01:35:41</td>\n",
       "      <td>469</td>\n",
       "      <td>2034</td>\n",
       "      <td>Yep. I think we should get out of the last cen...</td>\n",
       "      <td>NaN</td>\n",
       "      <td>NaN</td>\n",
       "      <td>1037514643340775424</td>\n",
       "      <td>https://twitter.com/amyklobuchar/status/103751...</td>\n",
       "      <td>False</td>\n",
       "    </tr>\n",
       "    <tr>\n",
       "      <th>2</th>\n",
       "      <td>amyklobuchar</td>\n",
       "      <td>2018-09-05 21:31:45</td>\n",
       "      <td>975</td>\n",
       "      <td>2657</td>\n",
       "      <td>Yes..Hidden in all the legal density are 3 key...</td>\n",
       "      <td>NaN</td>\n",
       "      <td>#Pattern</td>\n",
       "      <td>1037453252495855616</td>\n",
       "      <td>https://twitter.com/amyklobuchar/status/103745...</td>\n",
       "      <td>False</td>\n",
       "    </tr>\n",
       "    <tr>\n",
       "      <th>3</th>\n",
       "      <td>amyklobuchar</td>\n",
       "      <td>2018-09-05 16:19:55</td>\n",
       "      <td>908</td>\n",
       "      <td>2522</td>\n",
       "      <td>Re Supreme Court: The 4 “confidential” 2002 do...</td>\n",
       "      <td>NaN</td>\n",
       "      <td>NaN</td>\n",
       "      <td>1037374780725440513</td>\n",
       "      <td>https://twitter.com/amyklobuchar/status/103737...</td>\n",
       "      <td>False</td>\n",
       "    </tr>\n",
       "    <tr>\n",
       "      <th>4</th>\n",
       "      <td>amyklobuchar</td>\n",
       "      <td>2018-09-05 13:28:35</td>\n",
       "      <td>236</td>\n",
       "      <td>946</td>\n",
       "      <td>Today’s Senate intel hearing will discuss the ...</td>\n",
       "      <td>NaN</td>\n",
       "      <td>NaN</td>\n",
       "      <td>1037331662009446402</td>\n",
       "      <td>https://twitter.com/amyklobuchar/status/103733...</td>\n",
       "      <td>False</td>\n",
       "    </tr>\n",
       "  </tbody>\n",
       "</table>\n",
       "</div>"
      ],
      "text/plain": [
       "       username                 date  retweets  favorites  \\\n",
       "0  amyklobuchar  2018-09-06 16:15:52       264        947   \n",
       "1  amyklobuchar  2018-09-06 01:35:41       469       2034   \n",
       "2  amyklobuchar  2018-09-05 21:31:45       975       2657   \n",
       "3  amyklobuchar  2018-09-05 16:19:55       908       2522   \n",
       "4  amyklobuchar  2018-09-05 13:28:35       236        946   \n",
       "\n",
       "                                                text mentions  hashtags  \\\n",
       "0  “A popular Government, without popular informa...      NaN       NaN   \n",
       "1  Yep. I think we should get out of the last cen...      NaN       NaN   \n",
       "2  Yes..Hidden in all the legal density are 3 key...      NaN  #Pattern   \n",
       "3  Re Supreme Court: The 4 “confidential” 2002 do...      NaN       NaN   \n",
       "4  Today’s Senate intel hearing will discuss the ...      NaN       NaN   \n",
       "\n",
       "                    id                                          permalink  \\\n",
       "0  1037736146019729409  https://twitter.com/amyklobuchar/status/103773...   \n",
       "1  1037514643340775424  https://twitter.com/amyklobuchar/status/103751...   \n",
       "2  1037453252495855616  https://twitter.com/amyklobuchar/status/103745...   \n",
       "3  1037374780725440513  https://twitter.com/amyklobuchar/status/103737...   \n",
       "4  1037331662009446402  https://twitter.com/amyklobuchar/status/103733...   \n",
       "\n",
       "          \n",
       "0  False  \n",
       "1  False  \n",
       "2  False  \n",
       "3  False  \n",
       "4  False  "
      ]
     },
     "execution_count": 23,
     "metadata": {},
     "output_type": "execute_result"
    }
   ],
   "source": [
    "tweets.head()"
   ]
  },
  {
   "cell_type": "code",
   "execution_count": 25,
   "metadata": {},
   "outputs": [
    {
     "data": {
      "text/html": [
       "<div>\n",
       "<style scoped>\n",
       "    .dataframe tbody tr th:only-of-type {\n",
       "        vertical-align: middle;\n",
       "    }\n",
       "\n",
       "    .dataframe tbody tr th {\n",
       "        vertical-align: top;\n",
       "    }\n",
       "\n",
       "    .dataframe thead th {\n",
       "        text-align: right;\n",
       "    }\n",
       "</style>\n",
       "<table border=\"1\" class=\"dataframe\">\n",
       "  <thead>\n",
       "    <tr style=\"text-align: right;\">\n",
       "      <th></th>\n",
       "      <th>retweets</th>\n",
       "      <th>favorites</th>\n",
       "      <th>id</th>\n",
       "    </tr>\n",
       "  </thead>\n",
       "  <tbody>\n",
       "    <tr>\n",
       "      <th>count</th>\n",
       "      <td>6969.000000</td>\n",
       "      <td>6969.000000</td>\n",
       "      <td>6.969000e+03</td>\n",
       "    </tr>\n",
       "    <tr>\n",
       "      <th>mean</th>\n",
       "      <td>78.599656</td>\n",
       "      <td>268.317406</td>\n",
       "      <td>6.767286e+17</td>\n",
       "    </tr>\n",
       "    <tr>\n",
       "      <th>std</th>\n",
       "      <td>516.227907</td>\n",
       "      <td>1660.230036</td>\n",
       "      <td>2.509902e+17</td>\n",
       "    </tr>\n",
       "    <tr>\n",
       "      <th>min</th>\n",
       "      <td>0.000000</td>\n",
       "      <td>0.000000</td>\n",
       "      <td>1.676740e+17</td>\n",
       "    </tr>\n",
       "    <tr>\n",
       "      <th>25%</th>\n",
       "      <td>6.000000</td>\n",
       "      <td>8.000000</td>\n",
       "      <td>5.082657e+17</td>\n",
       "    </tr>\n",
       "    <tr>\n",
       "      <th>50%</th>\n",
       "      <td>15.000000</td>\n",
       "      <td>38.000000</td>\n",
       "      <td>7.156280e+17</td>\n",
       "    </tr>\n",
       "    <tr>\n",
       "      <th>75%</th>\n",
       "      <td>43.000000</td>\n",
       "      <td>201.000000</td>\n",
       "      <td>8.873667e+17</td>\n",
       "    </tr>\n",
       "    <tr>\n",
       "      <th>max</th>\n",
       "      <td>30789.000000</td>\n",
       "      <td>92982.000000</td>\n",
       "      <td>1.037736e+18</td>\n",
       "    </tr>\n",
       "  </tbody>\n",
       "</table>\n",
       "</div>"
      ],
      "text/plain": [
       "           retweets     favorites            id\n",
       "count   6969.000000   6969.000000  6.969000e+03\n",
       "mean      78.599656    268.317406  6.767286e+17\n",
       "std      516.227907   1660.230036  2.509902e+17\n",
       "min        0.000000      0.000000  1.676740e+17\n",
       "25%        6.000000      8.000000  5.082657e+17\n",
       "50%       15.000000     38.000000  7.156280e+17\n",
       "75%       43.000000    201.000000  8.873667e+17\n",
       "max    30789.000000  92982.000000  1.037736e+18"
      ]
     },
     "execution_count": 25,
     "metadata": {},
     "output_type": "execute_result"
    }
   ],
   "source": [
    "tweets.describe()"
   ]
  },
  {
   "cell_type": "code",
   "execution_count": 53,
   "metadata": {},
   "outputs": [
    {
     "name": "stdout",
     "output_type": "stream",
     "text": [
      "“A popular Government, without popular information, or the means of acquiring it, is but a prologue to a farce or a tragedy; or perhaps both.” Those are Madison’s words I quoted in the hearing today. \n",
      "\n",
      "Yep. I think we should get out of the last century & televise Supreme Court hearings. Audio tapes are good but when the Court is deciding people’s health care & rights to marry & vote, all should watch, not just people who can afford to come to D.C. &be lucky enough to get a seat https:// twitter.com/frankthorp/sta tus/1037507006603702272 … \n",
      "\n",
      "Yes..Hidden in all the legal density are 3 key consumer issues I focused on: his overruled opinion finding the Consumer Financial Protection Bureau unconstitutional; his dissent in which he tried to strike down net neutrality rules; & his pro-merger antitrust opinions #Pattern https:// twitter.com/soundpolicy/st atus/1037423063640551424 … \n",
      "\n",
      "Re Supreme Court: The 4 “confidential” 2002 docs I got made public are a treasure trove on campaign finance, including nominee saying candidate contribution limits have “constitutional problems.” That’s why we need ALL documents. \n",
      "\n",
      "Today’s Senate intel hearing will discuss the real threat of foreign interference on social media platforms. We should pass the Honest Ads Act to get transparency on social media ads & so Americans know who’s paying to influence our democracy. \n",
      "\n"
     ]
    }
   ],
   "source": [
    "# First five Tweets\n",
    "# Note: Tweets contain URLs of hyperlinks\n",
    "for tweet in tweets['text'][:5]:\n",
    "    print(tweet, '\\n')"
   ]
  },
  {
   "cell_type": "code",
   "execution_count": 55,
   "metadata": {},
   "outputs": [],
   "source": [
    "# Get number of characters in each Tweet\n",
    "tweets['length'] = tweets.text.apply(lambda x: len(x))"
   ]
  },
  {
   "cell_type": "code",
   "execution_count": 28,
   "metadata": {},
   "outputs": [
    {
     "data": {
      "text/html": [
       "<div>\n",
       "<style scoped>\n",
       "    .dataframe tbody tr th:only-of-type {\n",
       "        vertical-align: middle;\n",
       "    }\n",
       "\n",
       "    .dataframe tbody tr th {\n",
       "        vertical-align: top;\n",
       "    }\n",
       "\n",
       "    .dataframe thead th {\n",
       "        text-align: right;\n",
       "    }\n",
       "</style>\n",
       "<table border=\"1\" class=\"dataframe\">\n",
       "  <thead>\n",
       "    <tr style=\"text-align: right;\">\n",
       "      <th></th>\n",
       "      <th>retweets</th>\n",
       "      <th>favorites</th>\n",
       "      <th>id</th>\n",
       "      <th>length</th>\n",
       "    </tr>\n",
       "  </thead>\n",
       "  <tbody>\n",
       "    <tr>\n",
       "      <th>count</th>\n",
       "      <td>6969.000000</td>\n",
       "      <td>6969.000000</td>\n",
       "      <td>6.969000e+03</td>\n",
       "      <td>6969.000000</td>\n",
       "    </tr>\n",
       "    <tr>\n",
       "      <th>mean</th>\n",
       "      <td>78.599656</td>\n",
       "      <td>268.317406</td>\n",
       "      <td>6.767286e+17</td>\n",
       "      <td>163.349261</td>\n",
       "    </tr>\n",
       "    <tr>\n",
       "      <th>std</th>\n",
       "      <td>516.227907</td>\n",
       "      <td>1660.230036</td>\n",
       "      <td>2.509902e+17</td>\n",
       "      <td>66.712853</td>\n",
       "    </tr>\n",
       "    <tr>\n",
       "      <th>min</th>\n",
       "      <td>0.000000</td>\n",
       "      <td>0.000000</td>\n",
       "      <td>1.676740e+17</td>\n",
       "      <td>1.000000</td>\n",
       "    </tr>\n",
       "    <tr>\n",
       "      <th>25%</th>\n",
       "      <td>6.000000</td>\n",
       "      <td>8.000000</td>\n",
       "      <td>5.082657e+17</td>\n",
       "      <td>128.000000</td>\n",
       "    </tr>\n",
       "    <tr>\n",
       "      <th>50%</th>\n",
       "      <td>15.000000</td>\n",
       "      <td>38.000000</td>\n",
       "      <td>7.156280e+17</td>\n",
       "      <td>139.000000</td>\n",
       "    </tr>\n",
       "    <tr>\n",
       "      <th>75%</th>\n",
       "      <td>43.000000</td>\n",
       "      <td>201.000000</td>\n",
       "      <td>8.873667e+17</td>\n",
       "      <td>187.000000</td>\n",
       "    </tr>\n",
       "    <tr>\n",
       "      <th>max</th>\n",
       "      <td>30789.000000</td>\n",
       "      <td>92982.000000</td>\n",
       "      <td>1.037736e+18</td>\n",
       "      <td>594.000000</td>\n",
       "    </tr>\n",
       "  </tbody>\n",
       "</table>\n",
       "</div>"
      ],
      "text/plain": [
       "           retweets     favorites            id       length\n",
       "count   6969.000000   6969.000000  6.969000e+03  6969.000000\n",
       "mean      78.599656    268.317406  6.767286e+17   163.349261\n",
       "std      516.227907   1660.230036  2.509902e+17    66.712853\n",
       "min        0.000000      0.000000  1.676740e+17     1.000000\n",
       "25%        6.000000      8.000000  5.082657e+17   128.000000\n",
       "50%       15.000000     38.000000  7.156280e+17   139.000000\n",
       "75%       43.000000    201.000000  8.873667e+17   187.000000\n",
       "max    30789.000000  92982.000000  1.037736e+18   594.000000"
      ]
     },
     "execution_count": 28,
     "metadata": {},
     "output_type": "execute_result"
    }
   ],
   "source": [
    "# Most Tweets are longer than 140 characters, presumably because of text \n",
    "# rendering of URLs, images, etc.\n",
    "tweets.describe()"
   ]
  },
  {
   "cell_type": "code",
   "execution_count": 29,
   "metadata": {},
   "outputs": [
    {
     "data": {
      "image/png": "[encoded data removed]",
      "text/plain": [
       "<Figure size 432x288 with 1 Axes>"
      ]
     },
     "metadata": {
      "needs_background": "light"
     },
     "output_type": "display_data"
    }
   ],
   "source": [
    "# Import seaborn for data visualization\n",
    "import matplotlib.pyplot as plt\n",
    "import seaborn as sns\n",
    "sns.set()\n",
    "\n",
    "%matplotlib inline\n",
    "\n",
    "# Create a histogram of all Tweet lengths\n",
    "ax = tweets.length.hist(bins=20)\n",
    "ax.set(xlabel='Tweet Length', ylabel='Frequency', \n",
    "       title='Distribution of Tweet Length');"
   ]
  },
  {
   "cell_type": "code",
   "execution_count": 56,
   "metadata": {},
   "outputs": [
    {
     "data": {
      "text/plain": [
       "'Much better than the Betsy DeVos 60 minutes interview! thanks Kate McKinnon!! Watch Weekend Update: Betsy DeVos from Saturday Night Live on http:// NBC.com http:// nbc.app.link/?campaign=Ever green_Video_Details&channel=dotcom&mParticle%20ID%3A%20Device=-1851367357157046926&mParticle%20ID=Anonymous&Canonical%20URL=https%3A%2F%2Fwww.nbc.com%2Fsaturday-night-live%2Fvideo%2Fweekend-update-betsy-devos%2F3686084&ios_deeplink_path=video%2F3686084&android_deeplink_path=video%2F3686084&%24desktop_url=https%3A%2F%2Fwww.nbc.com%2Fsaturday-night-live%2Fvideo%2Fweekend-update-betsy-devos%2F3686084 …'"
      ]
     },
     "execution_count": 56,
     "metadata": {},
     "output_type": "execute_result"
    }
   ],
   "source": [
    "# Longest Tweet\n",
    "tweets.sort_values(by='length',ascending=False).iloc[0]['text']"
   ]
  },
  {
   "cell_type": "code",
   "execution_count": 57,
   "metadata": {},
   "outputs": [
    {
     "data": {
      "text/plain": [
       "'M'"
      ]
     },
     "execution_count": 57,
     "metadata": {},
     "output_type": "execute_result"
    }
   ],
   "source": [
    "# Shortest Tweet just says 'M'.\n",
    "tweets.sort_values(by='length',ascending=True).iloc[0]['text']"
   ]
  },
  {
   "cell_type": "code",
   "execution_count": 34,
   "metadata": {},
   "outputs": [
    {
     "data": {
      "text/plain": [
       "'Breaking: the U.S. Senate just voted 52-47 vote on the bill to restore #NetNeutrality and to protect a fair and open internet. Amazing victory for consumers, small businesses and rural communities. Final vote at 3. Watch on CSpan!'"
      ]
     },
     "execution_count": 34,
     "metadata": {},
     "output_type": "execute_result"
    }
   ],
   "source": [
    "# Most Favorited Tweet\n",
    "tweets.sort_values(by='favorites',ascending=False).iloc[0]['text']"
   ]
  },
  {
   "cell_type": "code",
   "execution_count": 32,
   "metadata": {},
   "outputs": [
    {
     "data": {
      "text/plain": [
       "'Breaking: the U.S. Senate just voted 52-47 vote on the bill to restore #NetNeutrality and to protect a fair and open internet. Amazing victory for consumers, small businesses and rural communities. Final vote at 3. Watch on CSpan!'"
      ]
     },
     "execution_count": 32,
     "metadata": {},
     "output_type": "execute_result"
    }
   ],
   "source": [
    "# Most Retweeted Tweet\n",
    "tweets.sort_values(by='retweets',ascending=False).iloc[0]['text']"
   ]
  },
  {
   "cell_type": "code",
   "execution_count": 58,
   "metadata": {},
   "outputs": [
    {
     "data": {
      "text/plain": [
       "'Much better than the Betsy DeVos 60 minutes interview! thanks Kate McKinnon!! Watch Weekend Update: Betsy DeVos from Saturday Night Live on http:// NBC.com http:// nbc.app.link/?campaign=Ever green_Video_Details&channel=dotcom&mParticle%20ID%3A%20Device=-1851367357157046926&mParticle%20ID=Anonymous&Canonical%20URL=https%3A%2F%2Fwww.nbc.com%2Fsaturday-night-live%2Fvideo%2Fweekend-update-betsy-devos%2F3686084&ios_deeplink_path=video%2F3686084&android_deeplink_path=video%2F3686084&%24desktop_url=https%3A%2F%2Fwww.nbc.com%2Fsaturday-night-live%2Fvideo%2Fweekend-update-betsy-devos%2F3686084 …'"
      ]
     },
     "execution_count": 58,
     "metadata": {},
     "output_type": "execute_result"
    }
   ],
   "source": [
    "# Longest Tweet\n",
    "tweets.sort_values(by='length',ascending=False).iloc[0]['text']"
   ]
  },
  {
   "cell_type": "code",
   "execution_count": null,
   "metadata": {},
   "outputs": [],
   "source": []
  }
 ],
 "metadata": {
  "kernelspec": {
   "display_name": "Python 3",
   "language": "python",
   "name": "python3"
  },
  "language_info": {
   "codemirror_mode": {
    "name": "ipython",
    "version": 3
   },
   "file_extension": ".py",
   "mimetype": "text/x-python",
   "name": "python",
   "nbconvert_exporter": "python",
   "pygments_lexer": "ipython3",
   "version": "3.6.6"
  }
 },
 "nbformat": 4,
 "nbformat_minor": 2
}
